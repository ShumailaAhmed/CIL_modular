{
 "cells": [
  {
   "cell_type": "code",
   "execution_count": null,
   "metadata": {
    "collapsed": false
   },
   "outputs": [],
   "source": [
    "import sys\n",
    "sys.path.append(\"./drive_interfaces/carla/carla_client/\")\n",
    "from carla.client import make_carla_client\n",
    "from carla.settings import CarlaSettings\n",
    "from carla.client import VehicleControl"
   ]
  },
  {
   "cell_type": "code",
   "execution_count": null,
   "metadata": {
    "collapsed": false
   },
   "outputs": [],
   "source": [
    "with open(\"./drive_interfaces/carla/yang_template.ini\", \"r\") as f:\n",
    "    print(f.read())"
   ]
  },
  {
   "cell_type": "code",
   "execution_count": null,
   "metadata": {
    "collapsed": false,
    "scrolled": true
   },
   "outputs": [],
   "source": [
    "import random\n",
    "from carla.sensor import Camera, Lidar\n",
    "settings = CarlaSettings()\n",
    "settings.set(\n",
    "    SynchronousMode=True,\n",
    "    SendNonPlayerAgentsInfo=True,\n",
    "    NumberOfVehicles=20,\n",
    "    NumberOfPedestrians=40,\n",
    "    WeatherId=random.choice([1, 3, 7, 8, 14]),\n",
    "    QualityLevel=\"Low\")\n",
    "settings.randomize_seeds()\n",
    "\n",
    "# Now we want to add a couple of cameras to the player vehicle.\n",
    "# We will collect the images produced by these cameras every\n",
    "# frame.\n",
    "\n",
    "# The default camera captures RGB images of the scene.\n",
    "camera0 = Camera('CameraRGB')\n",
    "# Set image resolution in pixels.\n",
    "camera0.set_image_size(800, 600)\n",
    "# Set its position relative to the car in meters.\n",
    "camera0.set_position(0.30, 0, 1.30)\n",
    "settings.add_sensor(camera0)\n",
    "\n",
    "# Let's add another camera producing ground-truth depth.\n",
    "camera1 = Camera('CameraDepth', PostProcessing='Depth')\n",
    "camera1.set_image_size(800, 600)\n",
    "camera1.set_position(0.30, 0, 1.30)\n",
    "settings.add_sensor(camera1)\n",
    "\n",
    "print(str(settings))"
   ]
  },
  {
   "cell_type": "code",
   "execution_count": null,
   "metadata": {
    "collapsed": false
   },
   "outputs": [],
   "source": [
    "from carla.client import CarlaClient\n",
    "client = CarlaClient(\"127.0.0.1\", 2000)\n",
    "client.connect()\n",
    "with open(\"./drive_interfaces/carla/yang_template.ini\", \"r\") as f:\n",
    "    #client.load_settings(settings)\n",
    "    client.load_settings(f.read())\n",
    "client.start_episode(0)\n",
    "measurements, sensor_data = client.read_data()\n",
    "client.send_control(VehicleControl())\n",
    "\n",
    "client.disconnect()"
   ]
  },
  {
   "cell_type": "code",
   "execution_count": null,
   "metadata": {
    "collapsed": false
   },
   "outputs": [],
   "source": [
    "with make_carla_client(\"127.0.0.1\", 2000) as client:\n",
    "    with open(\"./drive_interfaces/carla/yang_template.ini\", \"r\") as f:\n",
    "        #client.load_settings(settings)\n",
    "        client.load_settings(f.read())\n",
    "    client.start_episode(0)\n",
    "    measurements, sensor_data = client.read_data()\n",
    "    client.send_control(VehicleControl())"
   ]
  },
  {
   "cell_type": "code",
   "execution_count": null,
   "metadata": {
    "collapsed": false
   },
   "outputs": [],
   "source": [
    "measurements.player_measurements"
   ]
  },
  {
   "cell_type": "code",
   "execution_count": null,
   "metadata": {
    "collapsed": false
   },
   "outputs": [],
   "source": [
    "sensor_data.keys()"
   ]
  },
  {
   "cell_type": "code",
   "execution_count": null,
   "metadata": {
    "collapsed": false
   },
   "outputs": [],
   "source": [
    "image_converter.depth_to_array(sensor_data['DepthLeft']).shape"
   ]
  },
  {
   "cell_type": "code",
   "execution_count": null,
   "metadata": {
    "collapsed": true
   },
   "outputs": [],
   "source": [
    "a=image_converter.labels_to_array(sensor_data['SegLeft'])"
   ]
  },
  {
   "cell_type": "code",
   "execution_count": null,
   "metadata": {
    "collapsed": false
   },
   "outputs": [],
   "source": [
    "import numpy as np\n",
    "b=a[:,:,np.newaxis]"
   ]
  },
  {
   "cell_type": "code",
   "execution_count": null,
   "metadata": {
    "collapsed": false
   },
   "outputs": [],
   "source": [
    "b.shape"
   ]
  },
  {
   "cell_type": "code",
   "execution_count": null,
   "metadata": {
    "collapsed": false
   },
   "outputs": [],
   "source": [
    "import scipy.misc\n",
    "image = scipy.misc.imresize(b, [30, 40], interp='nearest')"
   ]
  },
  {
   "cell_type": "code",
   "execution_count": null,
   "metadata": {
    "collapsed": false
   },
   "outputs": [],
   "source": [
    "a=sensor_data['DepthLeft']"
   ]
  },
  {
   "cell_type": "code",
   "execution_count": null,
   "metadata": {
    "collapsed": true
   },
   "outputs": [],
   "source": [
    "from carla import image_converter"
   ]
  },
  {
   "cell_type": "code",
   "execution_count": null,
   "metadata": {
    "collapsed": false
   },
   "outputs": [],
   "source": [
    "b=image_converter.depth_to_array(a)\n",
    "b.shape"
   ]
  },
  {
   "cell_type": "code",
   "execution_count": null,
   "metadata": {
    "collapsed": false
   },
   "outputs": [],
   "source": [
    "b"
   ]
  },
  {
   "cell_type": "code",
   "execution_count": null,
   "metadata": {
    "collapsed": false
   },
   "outputs": [],
   "source": [
    "measurements"
   ]
  },
  {
   "cell_type": "code",
   "execution_count": null,
   "metadata": {
    "collapsed": false
   },
   "outputs": [],
   "source": []
  },
  {
   "cell_type": "code",
   "execution_count": null,
   "metadata": {
    "collapsed": true
   },
   "outputs": [],
   "source": [
    "measure, sensor ="
   ]
  },
  {
   "cell_type": "code",
   "execution_count": null,
   "metadata": {
    "collapsed": false
   },
   "outputs": [],
   "source": [
    "path= \"/scratch/yang/aws_data/carla_collect/1/2018726_default_RotationPitch=-15_WeatherId=10_4/data_00000.h5\"\n",
    "import h5py\n",
    "f=h5py.File(path, \"r\")"
   ]
  },
  {
   "cell_type": "code",
   "execution_count": null,
   "metadata": {
    "collapsed": false
   },
   "outputs": [],
   "source": [
    "f.keys()"
   ]
  },
  {
   "cell_type": "code",
   "execution_count": null,
   "metadata": {
    "collapsed": false
   },
   "outputs": [],
   "source": [
    "import cv2\n",
    "image = cv2.imdecode(f['CameraLeft'][0], 1)"
   ]
  },
  {
   "cell_type": "code",
   "execution_count": null,
   "metadata": {
    "collapsed": false
   },
   "outputs": [],
   "source": [
    "from PIL import Image\n",
    "a=Image.fromarray(image)"
   ]
  },
  {
   "cell_type": "code",
   "execution_count": null,
   "metadata": {
    "collapsed": false
   },
   "outputs": [],
   "source": [
    "a"
   ]
  },
  {
   "cell_type": "code",
   "execution_count": null,
   "metadata": {
    "collapsed": false
   },
   "outputs": [],
   "source": [
    "path= \"/scratch/yang/aws_data/carla_collect/1/2018726_default_RotationPitch=-15_WeatherId=10_5/data_00000.h5\"\n",
    "path = \"/data/yang/code/aws/scratch/carla_collect/1/2018727_default_RotationPitch=0_WeatherId=13_1/data_00000.h5\"\n",
    "path = \"/scratch/yang/aws_data/carla_collect/1/2018730_default_RotationPitch=0_WeatherId=01_1/data_00000.h5\"\n",
    "def sample_images_from_h5(path):\n",
    "    f=h5py.File(path, \"r\")\n",
    "    for key in f.keys():\n",
    "        if 'targets' not in key:\n",
    "            for imid in range(200):\n",
    "                data = f[key][imid]\n",
    "                if 'camera' in key.lower():\n",
    "                    ext = \".jpg\"\n",
    "                else:\n",
    "                    ext = \".png\"\n",
    "                out_name = path+\".\" + key + str(imid).zfill(4) + ext\n",
    "                with open(out_name, \"w\") as g:\n",
    "                    g.write(data)\n",
    "sample_images_from_h5(path)\n",
    "\n",
    "\"ffmpeg -i data_00000.h5.CameraMiddle%04d.png -c:v libx264 out.mp4\""
   ]
  },
  {
   "cell_type": "code",
   "execution_count": null,
   "metadata": {
    "collapsed": false,
    "scrolled": true
   },
   "outputs": [],
   "source": [
    "from subprocess import call\n",
    "for i in range(1):\n",
    "    prefix = \"/scratch/yang/aws_data/carla_collect/1/2018730_default_RotationPitch=0_WeatherId=\"+str(i).zfill(2)+\"_1/\"\n",
    "    path = prefix + \"data_00000.h5\"\n",
    "    ! ls -alh $path\n",
    "    sample_images_from_h5(path)\n",
    "    \n",
    "    call(\"ffmpeg -i \"+ prefix +\"data_00000.h5.CameraMiddle%04d.jpg -c:v libx264 \"+ prefix[:-1]+\".mp4\", shell=True)"
   ]
  },
  {
   "cell_type": "code",
   "execution_count": null,
   "metadata": {
    "collapsed": false,
    "scrolled": true
   },
   "outputs": [],
   "source": [
    "import threading\n",
    "from multiprocessing import Process\n",
    "import time\n",
    "\n",
    "class ControlInterface(object):\n",
    "    def __init__(self):\n",
    "        self._throttle = 1.0       \n",
    "        self.counter = 0        \n",
    "        self.start_loop()\n",
    "        self.last_time = time.time()\n",
    "\n",
    "    def set_throttle(self, new_throttle):\n",
    "        self._throttle = new_throttle\n",
    "\n",
    "    def start_loop(self):\n",
    "        self.counter += 1\n",
    "        if self.counter % 75 == 0:\n",
    "            print(\"time eplapsed is \", time.time()-self.last_time)\n",
    "            self.last_time = time.time()\n",
    "            print( \"throttle\", self._throttle)\n",
    "        threading.Timer(1.0/75, self.start_loop).start()\n",
    "        \n",
    "\n",
    "ctrl = ControlInterface()\n",
    "print(\"after constructor\")\n",
    "ctrl.set_throttle(-1.0)"
   ]
  },
  {
   "cell_type": "code",
   "execution_count": null,
   "metadata": {
    "collapsed": false
   },
   "outputs": [],
   "source": [
    "import os\n",
    "def get_files_count_in_folder(folder):\n",
    "    if not os.path.exists(folder):\n",
    "        return 0\n",
    "    else:\n",
    "        pass\n",
    "import glob\n",
    "len(glob.glob(\"/data/yang/code/aws/scratch/carla_collect/1/2018731_default_RotationPitch=0_WeatherId=01_1/*.h5\"))"
   ]
  },
  {
   "cell_type": "code",
   "execution_count": null,
   "metadata": {
    "collapsed": false
   },
   "outputs": [],
   "source": [
    "import os, threading\n",
    "cmd = ['bash', '-c', \" '/scratch/yang/aws_data/carla_0.8.4/CarlaUE4.sh  -carla-server -carla-settings=/data/yang/code/aws/CIL_modular/drive_interfaces/carla/yang_template.ini -benchmark -fps=5' \"]\n",
    "#cmd = cmd.split(\" \")\n",
    "#cmd = [x for x in cmd if x!=\"\" ]\n",
    "print(\" \".join(cmd))\n",
    "print(\"before spawnling\")\n",
    "t = threading.Thread(target = lambda : os.system(\" \".join(cmd)))\n",
    "t.start()       \n",
    "#! ps aux | grep $id0"
   ]
  },
  {
   "cell_type": "code",
   "execution_count": null,
   "metadata": {
    "collapsed": false
   },
   "outputs": [],
   "source": [
    "len(glob.glob(\"/data/yang/code/aws/scratch/carla_collect/1/*/data_*.h5\"))"
   ]
  },
  {
   "cell_type": "code",
   "execution_count": null,
   "metadata": {
    "collapsed": false
   },
   "outputs": [],
   "source": [
    "path = \"/scratch/yang/aws_data/CIL_modular_data/matthias_data/RC025Val/data_00000.h5\"\n",
    "import h5py"
   ]
  },
  {
   "cell_type": "code",
   "execution_count": null,
   "metadata": {
    "collapsed": true
   },
   "outputs": [],
   "source": [
    "f=h5py.File(path, \"r\")\n",
    "\n",
    "a=f['rgb']"
   ]
  },
  {
   "cell_type": "code",
   "execution_count": null,
   "metadata": {
    "collapsed": false
   },
   "outputs": [],
   "source": [
    "from PIL import Image\n",
    "i+=3\n",
    "print(i)\n",
    "Image.fromarray(a[i, :,:,:])"
   ]
  },
  {
   "cell_type": "code",
   "execution_count": null,
   "metadata": {
    "collapsed": false
   },
   "outputs": [],
   "source": [
    "path =\"/scratch/yang/aws_data/carla_collect/1/default_ImageSizeX=700_WeatherId=10/data_00099.h5\"\n",
    "import h5py, time\n",
    "f = h5py.File(path, \"r\")"
   ]
  },
  {
   "cell_type": "code",
   "execution_count": null,
   "metadata": {
    "collapsed": false
   },
   "outputs": [],
   "source": [
    "import cv2\n",
    "start = time.time()\n",
    "t_decode = 0.0\n",
    "t_resize = 0.0\n",
    "for i in range(200):\n",
    "    a= f[\"CameraMiddle\"][i]\n",
    "    start = time.time()\n",
    "    decoded = cv2.imdecode(a, 1)                    \n",
    "    t_decode += time.time()-start\n",
    "    sz = (88,200)\n",
    "    start = time.time()\n",
    "    decoded = cv2.resize(decoded, (sz[1], sz[0]))\n",
    "    t_resize += time.time() -start\n",
    "delta = time.time()-start\n",
    "print(delta, 200/delta)\n",
    "print(t_decode, t_resize)"
   ]
  },
  {
   "cell_type": "code",
   "execution_count": null,
   "metadata": {
    "collapsed": false
   },
   "outputs": [],
   "source": [
    "91*20*200 /1000/1000.0"
   ]
  },
  {
   "cell_type": "code",
   "execution_count": null,
   "metadata": {
    "collapsed": false
   },
   "outputs": [],
   "source": [
    "8*75/1.5"
   ]
  },
  {
   "cell_type": "code",
   "execution_count": null,
   "metadata": {
    "collapsed": false
   },
   "outputs": [],
   "source": [
    "from joblib import Parallel, delayed\n",
    "p = Parallel(n_jobs=8, backend=\"threading\", verbose=10)\n",
    "\n",
    "\n",
    "func = lambda x : cv2.imdecode(x, 1)\n",
    "if True:\n",
    "    height, width = 88, 200\n",
    "    func_previous = func\n",
    "    func = lambda x : cv2.resize(func_previous(x), (width, height))\n",
    "                \n",
    "func = lambda x : cv2.resize(cv2.imdecode(x, 1), (200, 88))        \n",
    "func = delayed(func)\n",
    "results = p(func(f[\"CameraMiddle\"][0]) for i in range(8*75))"
   ]
  },
  {
   "cell_type": "code",
   "execution_count": null,
   "metadata": {
    "collapsed": false
   },
   "outputs": [],
   "source": [
    "results = p(delayed(cv2.imdecode)(f[\"CameraMiddle\"][i], 1) for i in range(200))"
   ]
  },
  {
   "cell_type": "code",
   "execution_count": null,
   "metadata": {
    "collapsed": false,
    "scrolled": false
   },
   "outputs": [],
   "source": [
    "from PIL import Image\n",
    "Image.fromarray(results[0])"
   ]
  },
  {
   "cell_type": "code",
   "execution_count": null,
   "metadata": {
    "collapsed": false
   },
   "outputs": [],
   "source": [
    "import numpy as np\n",
    "a = np.concatenate((results[0], results[0]+5), axis=2)"
   ]
  },
  {
   "cell_type": "code",
   "execution_count": null,
   "metadata": {
    "collapsed": true
   },
   "outputs": [],
   "source": []
  },
  {
   "cell_type": "code",
   "execution_count": null,
   "metadata": {
    "collapsed": false
   },
   "outputs": [],
   "source": [
    "b=cv2.resize(a, (200, 300))\n"
   ]
  },
  {
   "cell_type": "code",
   "execution_count": null,
   "metadata": {
    "collapsed": false
   },
   "outputs": [],
   "source": [
    "b.shape"
   ]
  },
  {
   "cell_type": "code",
   "execution_count": null,
   "metadata": {
    "collapsed": false
   },
   "outputs": [],
   "source": [
    "Image.fromarray(b[:,:,:3])"
   ]
  },
  {
   "cell_type": "code",
   "execution_count": null,
   "metadata": {
    "collapsed": true
   },
   "outputs": [],
   "source": [
    "\n",
    "def _resize_BHWC(input, sz):\n",
    "    B, H, W, C = input.shape\n",
    "    input = np.transpose(input, (1, 2, 3, 0))\n",
    "    # now input has size H W C B\n",
    "    input = np.reshape(input, (H, W, C*B))\n",
    "    print(input.shape)\n",
    "    output = cv2.resize(input[:,:,:1000], (sz[1], sz[0]))\n",
    "    output = np.reshape(output, (sz[0], sz[1], C, B))\n",
    "    output = np.transpose(output, (3, 0, 1, 2))\n",
    "    return output\n"
   ]
  },
  {
   "cell_type": "code",
   "execution_count": null,
   "metadata": {
    "collapsed": false
   },
   "outputs": [],
   "source": [
    "stk = np.stack(results, axis = 0)"
   ]
  },
  {
   "cell_type": "code",
   "execution_count": null,
   "metadata": {
    "collapsed": false
   },
   "outputs": [],
   "source": [
    "stk.shape"
   ]
  },
  {
   "cell_type": "code",
   "execution_count": null,
   "metadata": {
    "collapsed": false
   },
   "outputs": [],
   "source": [
    "out = _resize_BHWC(stk, (200, 300))"
   ]
  },
  {
   "cell_type": "code",
   "execution_count": null,
   "metadata": {
    "collapsed": true
   },
   "outputs": [],
   "source": [
    "func = lambda x: cv2.imdecode(x, 1)\n",
    "if hasattr(self._config, \"hack_resize_image\"):\n",
    "    height, width = self._config.hack_resize_image\n",
    "    func_previous = func\n",
    "    func = lambda x: cv2.resize(func_previous(x), (width, height))\n"
   ]
  },
  {
   "cell_type": "markdown",
   "metadata": {},
   "source": [
    "# measure the segmentation difference"
   ]
  },
  {
   "cell_type": "code",
   "execution_count": null,
   "metadata": {
    "collapsed": false
   },
   "outputs": [],
   "source": [
    "path = \"/scratch/yang/aws_data/carla_collect/10/default_PositionZ=1.4_WeatherId=03/data_00000.h5\"\n",
    "import h5py\n",
    "f = h5py.File(path, \"r\")\n"
   ]
  },
  {
   "cell_type": "code",
   "execution_count": null,
   "metadata": {
    "collapsed": false
   },
   "outputs": [],
   "source": [
    "import cv2\n",
    "for i in range(200):\n",
    "    image = f['CameraMiddle'][i]\n",
    "    image = cv2.imdecode(image, 1)\n",
    "    image = image[:,:, ::-1]\n",
    "    seg = f['SegMiddle'][i]\n",
    "    seg = cv2.imdecode(seg, 0)\n",
    "    break"
   ]
  },
  {
   "cell_type": "code",
   "execution_count": null,
   "metadata": {
    "collapsed": false
   },
   "outputs": [],
   "source": [
    "seg.shape"
   ]
  },
  {
   "cell_type": "markdown",
   "metadata": {},
   "source": [
    "0\tNone\n",
    "1\tBuildings\n",
    "2\tFences\n",
    "3\tOther\n",
    "4\tPedestrians\n",
    "5\tPoles\n",
    "6\tRoadLines\n",
    "7\tRoads\n",
    "8\tSidewalks\n",
    "9\tVegetation\n",
    "10\tVehicles\n",
    "11\tWalls\n",
    "12\tTrafficSigns"
   ]
  },
  {
   "cell_type": "code",
   "execution_count": null,
   "metadata": {
    "collapsed": true
   },
   "outputs": [],
   "source": [
    "# 0          1            2           3               4               5      6\n",
    "{'Ignored', 'Movable', 'Navigable', 'NoneNavigable', 'StaticLayout', 'Sky', 'Lane'}"
   ]
  },
  {
   "cell_type": "code",
   "execution_count": null,
   "metadata": {
    "collapsed": false,
    "scrolled": true
   },
   "outputs": [],
   "source": [
    "from PIL import Image\n",
    "Image.fromarray(image)"
   ]
  },
  {
   "cell_type": "code",
   "execution_count": null,
   "metadata": {
    "collapsed": false
   },
   "outputs": [],
   "source": [
    "import numpy as np\n",
    "mapping = np.array([0, 4, 3, 0, 1, 4, 6, 2, 3, 4, 1, 4, 4])\n",
    "seg_cvt = mapping[seg]"
   ]
  },
  {
   "cell_type": "code",
   "execution_count": null,
   "metadata": {
    "collapsed": false
   },
   "outputs": [],
   "source": [
    "import sys\n",
    "sys.path.append(\"/data/yang/code/aws\")\n",
    "from all_perceptions import Perceptions"
   ]
  },
  {
   "cell_type": "code",
   "execution_count": null,
   "metadata": {
    "collapsed": false
   },
   "outputs": [],
   "source": [
    "p = Perceptions(det_COCO=False,\n",
    "                 det_TL=False,\n",
    "                 det_TS=False,\n",
    "                 seg=True,\n",
    "                 depth=False,\n",
    "                 batch_size=1, # batch_size could also be a dict\n",
    "                 gpu_assignment=[0],\n",
    "                 compute_methods={},\n",
    "                 viz_methods={},\n",
    "                 num_replicates={},\n",
    "                 path_config=\"path_jormungandr\")"
   ]
  },
  {
   "cell_type": "code",
   "execution_count": null,
   "metadata": {
    "collapsed": true
   },
   "outputs": [],
   "source": [
    "image_batch = np.expand_dims(image, 0)\n",
    "out = p.compute(image_batch)"
   ]
  },
  {
   "cell_type": "code",
   "execution_count": null,
   "metadata": {
    "collapsed": false
   },
   "outputs": [],
   "source": [
    "out = np.squeeze(out['seg'])"
   ]
  },
  {
   "cell_type": "code",
   "execution_count": null,
   "metadata": {
    "collapsed": true
   },
   "outputs": [],
   "source": [
    "out = np.argmax(out, axis=2) + 1 # 0 does not exists, since it is the ignore class underhood"
   ]
  },
  {
   "cell_type": "code",
   "execution_count": null,
   "metadata": {
    "collapsed": false
   },
   "outputs": [],
   "source": [
    "out = cv2.resize(out, (out.shape[1]*4, out.shape[0]*4), interpolation=cv2.INTER_NEAREST)"
   ]
  },
  {
   "cell_type": "code",
   "execution_count": null,
   "metadata": {
    "collapsed": false
   },
   "outputs": [],
   "source": [
    "out.shape"
   ]
  },
  {
   "cell_type": "code",
   "execution_count": null,
   "metadata": {
    "collapsed": true
   },
   "outputs": [],
   "source": [
    "#sky is ignored, also the ignore class"
   ]
  },
  {
   "cell_type": "code",
   "execution_count": null,
   "metadata": {
    "collapsed": false
   },
   "outputs": [],
   "source": [
    "Image.fromarray((out==1).astype(np.uint8)*255)"
   ]
  },
  {
   "cell_type": "code",
   "execution_count": null,
   "metadata": {
    "collapsed": false,
    "scrolled": false
   },
   "outputs": [],
   "source": [
    "Image.fromarray((seg_cvt==1).astype(np.uint8)*255)"
   ]
  },
  {
   "cell_type": "code",
   "execution_count": null,
   "metadata": {
    "collapsed": true
   },
   "outputs": [],
   "source": [
    "def compute_inter_union(gt, pred, nclasses):\n",
    "    # return a nclass * 2 matrix: [iclass][inter, union]\n",
    "    out = np.zeros((nclasses, 2), dtype=np.int64)\n",
    "    pred = pred[gt!=0] - 1 \n",
    "    gt = gt[gt!=0] - 1\n",
    "    for i in range(nclasses):\n",
    "        out[i, 0] = np.sum(np.logical_and(pred == i, gt == i))\n",
    "        out[i, 1] = np.sum(np.logical_or (pred == i, gt == i))\n",
    "    return out"
   ]
  },
  {
   "cell_type": "code",
   "execution_count": null,
   "metadata": {
    "collapsed": false
   },
   "outputs": [],
   "source": [
    "compute_inter_union(seg_cvt, out, 6)"
   ]
  },
  {
   "cell_type": "code",
   "execution_count": null,
   "metadata": {
    "collapsed": true
   },
   "outputs": [],
   "source": [
    "import pickle\n",
    "with open(\"../seg.pkl\", \"r\") as f:\n",
    "    res = pickle.load(f)"
   ]
  },
  {
   "cell_type": "code",
   "execution_count": null,
   "metadata": {
    "collapsed": false
   },
   "outputs": [],
   "source": [
    "res"
   ]
  },
  {
   "cell_type": "code",
   "execution_count": null,
   "metadata": {
    "collapsed": false
   },
   "outputs": [],
   "source": [
    "perf.focal"
   ]
  },
  {
   "cell_type": "code",
   "execution_count": null,
   "metadata": {
    "collapsed": false
   },
   "outputs": [],
   "source": [
    "import h5py, cv2, sys, pickle, math, numpy\n",
    "import numpy as np\n",
    "sys.path.append(\"/data/yang/code/aws\")\n",
    "from all_perceptions import Perceptions\n",
    "\n",
    "debug = None\n",
    "\n",
    "class DepthPerformance():\n",
    "    def __init__(self):\n",
    "        width = 768\n",
    "        fov = 90.0\n",
    "        self.focal = width / (2.0 * math.tan(fov * math.pi / 360.0))\n",
    "        self.baseline = 0.54\n",
    "\n",
    "        self.p = Perceptions(det_COCO=False,\n",
    "                             det_TL=False,\n",
    "                             det_TS=False,\n",
    "                             seg=False,\n",
    "                             depth=True,\n",
    "                             batch_size=1,  # batch_size could also be a dict\n",
    "                             gpu_assignment=[0],\n",
    "                             compute_methods={},\n",
    "                             viz_methods={},\n",
    "                             num_replicates={},\n",
    "                             path_config=\"path_jormungandr\")\n",
    "\n",
    "        self.reset()\n",
    "\n",
    "    def _compute_errors(self, gt, pred):\n",
    "        thresh = np.maximum((gt / pred), (pred / gt))\n",
    "        a1 = (thresh < 1.25).mean()\n",
    "        a2 = (thresh < 1.25 ** 2).mean()\n",
    "        a3 = (thresh < 1.25 ** 3).mean()\n",
    "\n",
    "        rmse = (gt - pred) ** 2\n",
    "        rmse = np.sqrt(rmse.mean())\n",
    "\n",
    "        rmse_log = (np.log(gt) - np.log(pred)) ** 2\n",
    "        rmse_log = np.sqrt(rmse_log.mean())\n",
    "\n",
    "        abs_rel = np.mean(np.abs(gt - pred) / gt)\n",
    "\n",
    "        sq_rel = np.mean(((gt - pred) ** 2) / gt)\n",
    "\n",
    "        return abs_rel, sq_rel, rmse, rmse_log, a1, a2, a3\n",
    "\n",
    "    def reset(self):\n",
    "        self.accu = []\n",
    "        self.count = 0\n",
    "\n",
    "    def one_pair(self, image, depth):\n",
    "        image_batch = np.expand_dims(image, 0)\n",
    "        out = self.p.compute(image_batch)\n",
    "        out = np.squeeze(out['depth'])\n",
    "        out = cv2.resize(out, (image.shape[1], image.shape[0]), interpolation=cv2.INTER_LINEAR)\n",
    "\n",
    "        out = self.baseline * self.focal / (out + 0.0000001)\n",
    "        out = out / 800.0 # some magic number that I made up \n",
    "        global debug \n",
    "        debug = out\n",
    "\n",
    "        errors = self._compute_errors(depth+1e-5, out+1e-5)\n",
    "        self.accu.append(errors)\n",
    "        self.count += 1\n",
    "\n",
    "    def summarize(self):\n",
    "        names = ['abs_rel', 'sq_rel', 'rmse', 'rmse_log', 'a1', 'a2', 'a3']\n",
    "        errors = np.stack(self.accu, axis=0)\n",
    "        errors = np.mean(errors, 0)\n",
    "        out = {}\n",
    "        for i in range(len(names)):\n",
    "            out[names[i]] = errors[i]\n",
    "        return out\n",
    "\n",
    "\n",
    "modality = \"depth\" # \"seg\"\n",
    "\n",
    "perf = {\"depth\": DepthPerformance, \"seg\":None}[modality]()\n",
    "results = {}\n",
    "#for town in [\"Town01\", \"Town02\"]:\n",
    "for town in [\"Town02\"]:\n",
    "    results[town] = {}\n",
    "    for weather in range(1, 14):\n",
    "        perf.reset()\n",
    "        path = \"/scratch/yang/aws_data/carla_collect/\"+town + \"_allsensor/default_RotationPitch=0_WeatherId=\" +str(weather).zfill(2) + \"/data_00000.h5\"\n",
    "        f = h5py.File(path, \"r\")\n",
    "        for i in range(200):\n",
    "            #print(i)\n",
    "            image = f['CameraMiddle'][i]\n",
    "            image = cv2.imdecode(image, 1)\n",
    "            image = image[:,:, ::-1]\n",
    "\n",
    "            if modality == \"seg\":\n",
    "                seg = f['SegMiddle'][i]\n",
    "                mode_image = cv2.imdecode(seg, 0)\n",
    "            elif modality == \"depth\":\n",
    "                mode_image = f['DepthMiddle'][i]\n",
    "                mode_image = cv2.imdecode(mode_image, 1)\n",
    "                # TODO: convert it\n",
    "                def to_depth(array):\n",
    "                    # input is bgr\n",
    "                    array = array.astype(numpy.float32)\n",
    "                    # Apply (R + G * 256 + B * 256 * 256) / (256 * 256 * 256 - 1).\n",
    "                    normalized_depth = numpy.dot(array[:, :, :], [65536.0, 256.0, 1.0])\n",
    "                    normalized_depth /= 16777215.0 / 1000.0  # (256.0 * 256.0 * 256.0 - 1.0)\n",
    "                    return normalized_depth\n",
    "                mode_image = to_depth(mode_image)\n",
    "            else:\n",
    "                raise\n",
    "            \n",
    "            perf.reset()\n",
    "            perf.one_pair(image, mode_image)\n",
    "            print(perf.summarize())\n",
    "            raise\n",
    "            break\n",
    "        f.close()\n",
    "        print(town, \"weather\", weather, perf.summarize())\n",
    "        results[town][weather] = perf.summarize()\n",
    "        with open(modality + \".pkl\", \"w\") as ppp:\n",
    "            pickle.dump(results, ppp)\n",
    "\n"
   ]
  },
  {
   "cell_type": "code",
   "execution_count": null,
   "metadata": {
    "collapsed": false
   },
   "outputs": [],
   "source": [
    "mode_image.dtype"
   ]
  },
  {
   "cell_type": "code",
   "execution_count": null,
   "metadata": {
    "collapsed": false
   },
   "outputs": [],
   "source": [
    "(mode_image[:,:,0]==mode_image[:,:,2]).all()"
   ]
  },
  {
   "cell_type": "code",
   "execution_count": null,
   "metadata": {
    "collapsed": false
   },
   "outputs": [],
   "source": [
    "np.histogram(mode_image)"
   ]
  },
  {
   "cell_type": "code",
   "execution_count": null,
   "metadata": {
    "collapsed": true
   },
   "outputs": [],
   "source": [
    "def to_gray(normalized_depth):\n",
    "    normalized_depth = normalized_depth /1000.0\n",
    "    logdepth = numpy.ones(normalized_depth.shape) + \\\n",
    "        (numpy.log(normalized_depth) / 5.70378)\n",
    "    logdepth = numpy.clip(logdepth, 0.0, 1.0)\n",
    "    logdepth *= 255.0\n",
    "    logdepth = np.uint8(logdepth)\n",
    "    # Expand to three colors.\n",
    "    return numpy.repeat(logdepth[:, :, numpy.newaxis], 3, axis=2)"
   ]
  },
  {
   "cell_type": "code",
   "execution_count": null,
   "metadata": {
    "collapsed": false,
    "scrolled": true
   },
   "outputs": [],
   "source": [
    "d=to_gray(mode_image)"
   ]
  },
  {
   "cell_type": "code",
   "execution_count": null,
   "metadata": {
    "collapsed": false
   },
   "outputs": [],
   "source": [
    "d.dtype"
   ]
  },
  {
   "cell_type": "code",
   "execution_count": null,
   "metadata": {
    "collapsed": false
   },
   "outputs": [],
   "source": [
    "mode_image"
   ]
  },
  {
   "cell_type": "code",
   "execution_count": null,
   "metadata": {
    "collapsed": false,
    "scrolled": false
   },
   "outputs": [],
   "source": [
    "Image.fromarray(to_gray(mode_image))"
   ]
  },
  {
   "cell_type": "code",
   "execution_count": null,
   "metadata": {
    "collapsed": false
   },
   "outputs": [],
   "source": [
    "np.histogram(debug/3)"
   ]
  },
  {
   "cell_type": "code",
   "execution_count": null,
   "metadata": {
    "collapsed": false
   },
   "outputs": [],
   "source": [
    "84642.0 / mode_image.size "
   ]
  },
  {
   "cell_type": "code",
   "execution_count": null,
   "metadata": {
    "collapsed": false
   },
   "outputs": [],
   "source": [
    "np.histogram(mode_image)"
   ]
  },
  {
   "cell_type": "code",
   "execution_count": null,
   "metadata": {
    "collapsed": false
   },
   "outputs": [],
   "source": [
    "Image.fromarray(to_gray(debug/3))"
   ]
  },
  {
   "cell_type": "markdown",
   "metadata": {},
   "source": [
    "# covnert matthias data to my format\n"
   ]
  },
  {
   "cell_type": "code",
   "execution_count": null,
   "metadata": {
    "collapsed": false
   },
   "outputs": [],
   "source": [
    "path = \"/scratch/yang/aws_data/CIL_modular_data/matthias_data/RC28_wpz_M/data_00000.h5\"\n",
    "import h5py\n",
    "f=h5py.File(path, \"r\")"
   ]
  },
  {
   "cell_type": "code",
   "execution_count": null,
   "metadata": {
    "collapsed": false
   },
   "outputs": [],
   "source": [
    "f.keys()"
   ]
  },
  {
   "cell_type": "code",
   "execution_count": null,
   "metadata": {
    "collapsed": false
   },
   "outputs": [],
   "source": [
    "f['rgb'].shape"
   ]
  },
  {
   "cell_type": "code",
   "execution_count": null,
   "metadata": {
    "collapsed": false
   },
   "outputs": [],
   "source": [
    "out = \"/scratch/yang/aws_data/carla_collect/matthias_converted/train/data_00000.h5\"\n",
    "hf=h5py.File(out, \"w\")"
   ]
  },
  {
   "cell_type": "code",
   "execution_count": null,
   "metadata": {
    "collapsed": false
   },
   "outputs": [],
   "source": [
    "import numpy as np\n",
    "data_rewards = hf.create_dataset('targets', (200, 35), 'f')\n",
    "dt = h5py.special_dtype(vlen=np.dtype('uint8'))\n",
    "sensor = hf.create_dataset(\"CameraMiddle\", (200,), dtype=dt)"
   ]
  },
  {
   "cell_type": "code",
   "execution_count": null,
   "metadata": {
    "collapsed": false
   },
   "outputs": [],
   "source": [
    "import cv2, math\n",
    "for i in range(200):\n",
    "    image = f['rgb'][i]\n",
    "    image = cv2.imencode(\".jpg\", image)[1]\n",
    "    encoded = np.fromstring(image, dtype=np.uint8)\n",
    "    sensor[i] = encoded\n",
    "    \n",
    "    line = f[\"targets\"][i]\n",
    "    # change speed\n",
    "    speed_kmh = line[10]\n",
    "    line[10] /= 3.6\n",
    "    # augment steer\n",
    "    angle = math.radians(30.0)\n",
    "    time_use = 1.0\n",
    "    car_lenght = 6.0\n",
    "    delta = min(6 * (math.atan((angle * car_lenght) / (time_use * speed_kmh + 0.05))) / math.pi, 0.3)\n",
    "    line[0] -= np.sign(line[26])*delta\n",
    "    \n",
    "    data_rewards[i, :] = line\n",
    "\n",
    "hf.close()\n",
    "f.close()"
   ]
  },
  {
   "cell_type": "code",
   "execution_count": null,
   "metadata": {
    "collapsed": false
   },
   "outputs": [],
   "source": [
    "np.sign(0.01)"
   ]
  },
  {
   "cell_type": "code",
   "execution_count": null,
   "metadata": {
    "collapsed": false
   },
   "outputs": [],
   "source": [
    "f.keys()"
   ]
  },
  {
   "cell_type": "code",
   "execution_count": null,
   "metadata": {
    "collapsed": false
   },
   "outputs": [],
   "source": [
    "path = \"/scratch/yang/aws_data/CIL_modular_data/_benchmarks_results/mm45_v4_base_newseg_YangExp_Town02/metrics.json\"\n",
    "import json\n",
    "obj=json.load(open(path, \"r\"))"
   ]
  },
  {
   "cell_type": "code",
   "execution_count": null,
   "metadata": {
    "collapsed": false
   },
   "outputs": [],
   "source": [
    "obj.keys()"
   ]
  },
  {
   "cell_type": "code",
   "execution_count": null,
   "metadata": {
    "collapsed": false
   },
   "outputs": [],
   "source": [
    "obj['episodes_fully_completed'].keys()\n",
    "t = obj['episodes_fully_completed']"
   ]
  },
  {
   "cell_type": "code",
   "execution_count": null,
   "metadata": {
    "collapsed": false
   },
   "outputs": [],
   "source": [
    "weathers = {\"train\": [\"1.0\", \"10.0\"],\n",
    "           \"val\": [\"13.0\", \"14.0\"]}\n",
    "for phase in [\"train\", \"val\"]:\n",
    "    for weather in weathers[phase]:\n",
    "        for task in range(len(t[weather])):\n",
    "            perf = np.mean(t[weather][task])\n",
    "            try:\n",
    "                nsample = len(t[weather][task])\n",
    "            except TypeError:\n",
    "                nsample = 0\n",
    "            \n",
    "            print(phase, \" weather \", weather, \" task \", task, \" average performance \", perf, \"(num sample %d)\" % nsample)\n"
   ]
  },
  {
   "cell_type": "code",
   "execution_count": null,
   "metadata": {
    "collapsed": true
   },
   "outputs": [],
   "source": [
    "import sys\n",
    "sys.path.append(\"./drive_interfaces/carla/carla_client/carla/driving_benchmark/experiment_suites/\")\n",
    "\n",
    "import experiment_suite\n",
    "class YangExp(experiment_suite.ExperimentSuite):\n",
    "\n",
    "    def set_train_weathers(self, weathers):\n",
    "        self.train_weathers_data = weathers\n",
    "\n",
    "    @property\n",
    "    def train_weathers(self):\n",
    "        return self.train_weathers_data\n"
   ]
  },
  {
   "cell_type": "code",
   "execution_count": null,
   "metadata": {
    "collapsed": false
   },
   "outputs": [],
   "source": [
    "a = YangExp(\"Town01\")"
   ]
  },
  {
   "cell_type": "code",
   "execution_count": null,
   "metadata": {
    "collapsed": false
   },
   "outputs": [],
   "source": [
    "a.set_train_weathers([1])"
   ]
  },
  {
   "cell_type": "code",
   "execution_count": null,
   "metadata": {
    "collapsed": false
   },
   "outputs": [],
   "source": [
    "a.train_weathers"
   ]
  },
  {
   "cell_type": "code",
   "execution_count": null,
   "metadata": {
    "collapsed": false
   },
   "outputs": [],
   "source": [
    "!cat ./drive_interfaces/carla/carla_client/carla/driving_benchmark/experiment_suites/experiment_suite.py"
   ]
  },
  {
   "cell_type": "code",
   "execution_count": null,
   "metadata": {
    "collapsed": true
   },
   "outputs": [],
   "source": [
    "path='/scratch/yang/aws_data/carla_collect/noiser_3cam_seg/default_RotationPitch=0_WeatherId=01/data_00000.h5'"
   ]
  },
  {
   "cell_type": "code",
   "execution_count": null,
   "metadata": {
    "collapsed": false
   },
   "outputs": [],
   "source": [
    "import h5py"
   ]
  },
  {
   "cell_type": "code",
   "execution_count": null,
   "metadata": {
    "collapsed": false
   },
   "outputs": [],
   "source": [
    "f=h5py.File(path)"
   ]
  },
  {
   "cell_type": "code",
   "execution_count": null,
   "metadata": {
    "collapsed": false
   },
   "outputs": [],
   "source": [
    "f.keys()"
   ]
  },
  {
   "cell_type": "code",
   "execution_count": null,
   "metadata": {
    "collapsed": false
   },
   "outputs": [],
   "source": [
    "a=f['SegMiddle'][0]"
   ]
  },
  {
   "cell_type": "code",
   "execution_count": null,
   "metadata": {
    "collapsed": true
   },
   "outputs": [],
   "source": [
    "b=f['CameraMiddle'][0]"
   ]
  },
  {
   "cell_type": "code",
   "execution_count": null,
   "metadata": {
    "collapsed": true
   },
   "outputs": [],
   "source": [
    "import cv2\n",
    "a=cv2.imdecode(a, 1)\n",
    "a = a[:,:,::-1]"
   ]
  },
  {
   "cell_type": "code",
   "execution_count": null,
   "metadata": {
    "collapsed": true
   },
   "outputs": [],
   "source": [
    "b=cv2.imdecode(b,1)\n",
    "b = b[:,:,::-1]"
   ]
  },
  {
   "cell_type": "code",
   "execution_count": null,
   "metadata": {
    "collapsed": false
   },
   "outputs": [],
   "source": [
    "from PIL import Image\n",
    "import numpy as np\n",
    "Image.fromarray((a).astype(np.uint8)*80)"
   ]
  },
  {
   "cell_type": "code",
   "execution_count": null,
   "metadata": {
    "collapsed": false,
    "scrolled": false
   },
   "outputs": [],
   "source": [
    "Image.fromarray(b)"
   ]
  },
  {
   "cell_type": "code",
   "execution_count": null,
   "metadata": {
    "collapsed": true
   },
   "outputs": [],
   "source": [
    "from scipy.ndimage.filters import gaussian_filter\n",
    "import copy\n",
    "\n",
    "def get_boundary(oldseg):\n",
    "    seg = copy.deepcopy(oldseg)\n",
    "    seg[seg==2]=8\n",
    "    ind7 = (seg==7)\n",
    "    hyp1 = np.logical_and(np.concatenate((seg[1:, :], np.zeros((1,seg.shape[1]))), axis=0) == 8, ind7)\n",
    "    hyp2 = np.logical_and(np.concatenate((np.zeros((1,seg.shape[1])), seg[:-1, :]), axis=0) == 8, ind7)\n",
    "    hyp3 = np.logical_and(np.concatenate((seg[:, 1:], np.zeros((seg.shape[0],1))), axis=1) == 8, ind7)\n",
    "    hyp4 = np.logical_and(np.concatenate((np.zeros((seg.shape[0],1)), seg[:, :-1]), axis=1) == 8, ind7)\n",
    "    lor = np.logical_or\n",
    "    final = lor(lor(lor(hyp1, hyp2), hyp3), hyp4)\n",
    "    \n",
    "    e=gaussian_filter(final*1.0, 10, mode='constant')\n",
    "    e = (e*1000).astype(np.uint8)\n",
    "    e = (e>0)\n",
    "    \n",
    "    e = np.logical_or(e, oldseg==2)\n",
    "    return e\n",
    "    \n",
    "def augment(camera, seg):\n",
    "    camera = copy.deepcopy(camera)\n",
    "    seg = copy.deepcopy(seg)\n",
    "    seg = seg[:,:,0]\n",
    "    ind = (seg==6)\n",
    "    \n",
    "    xs, ys = np.where(ind)\n",
    "    ysp = np.minimum(ys + np.random.randint(-30,30), camera.shape[1]-1)\n",
    "    camera[xs, ys, :] = camera[xs, ysp, :]\n",
    "    \n",
    "    bound = get_boundary(seg)\n",
    "    xs, ys = np.where(bound)\n",
    "    ysp = ys + np.random.randint(-40, 40, size = ys.shape)\n",
    "    ysp = np.minimum(camera.shape[1]-1, np.maximum(0, ysp))\n",
    "    camera[xs, ys,:] = camera[xs, ysp,:]\n",
    "    \n",
    "    return camera"
   ]
  },
  {
   "cell_type": "code",
   "execution_count": null,
   "metadata": {
    "collapsed": false,
    "scrolled": false
   },
   "outputs": [],
   "source": [
    "c = augment(b, a)\n",
    "Image.fromarray(c)"
   ]
  },
  {
   "cell_type": "code",
   "execution_count": null,
   "metadata": {
    "collapsed": false
   },
   "outputs": [],
   "source": [
    "d=a\n",
    "d[d==2]=8\n",
    "Image.fromarray(d*100)"
   ]
  },
  {
   "cell_type": "code",
   "execution_count": null,
   "metadata": {
    "collapsed": false
   },
   "outputs": [],
   "source": [
    "seg=d[:,:,0]"
   ]
  },
  {
   "cell_type": "code",
   "execution_count": null,
   "metadata": {
    "collapsed": false
   },
   "outputs": [],
   "source": [
    "ind7 = (seg==7)\n",
    "hyp1 = np.logical_and(np.concatenate((seg[1:, :], np.zeros((1,seg.shape[1]))), axis=0) == 8, ind7)\n",
    "hyp2 = np.logical_and(np.concatenate((np.zeros((1,seg.shape[1])), seg[:-1, :]), axis=0) == 8, ind7)\n",
    "hyp3 = np.logical_and(np.concatenate((seg[:, 1:], np.zeros((seg.shape[0],1))), axis=1) == 8, ind7)\n",
    "hyp4 = np.logical_and(np.concatenate((np.zeros((seg.shape[0],1)), seg[:, :-1]), axis=1) == 8, ind7)\n",
    "lor = np.logical_or\n",
    "final = lor(lor(lor(hyp1, hyp2), hyp3), hyp4)\n",
    "Image.fromarray(final.astype(np.uint8)*100)"
   ]
  },
  {
   "cell_type": "code",
   "execution_count": null,
   "metadata": {
    "collapsed": false
   },
   "outputs": [],
   "source": [
    "from scipy.ndimage.filters import gaussian_filter\n",
    "e=gaussian_filter(final*1.0, 10, mode='mirror')\n",
    "\n",
    "e = (e*1000).astype(np.uint8)\n",
    "e = (e>0)\n",
    "Image.fromarray(e.astype(np.uint8)*100)"
   ]
  },
  {
   "cell_type": "code",
   "execution_count": 357,
   "metadata": {
    "collapsed": false
   },
   "outputs": [
    {
     "data": {
      "image/png": "[encoded data removed]",
      "text/plain": [
       "<PIL.Image.Image image mode=L size=52x39 at 0x7F533E36AED0>"
      ]
     },
     "execution_count": 357,
     "metadata": {},
     "output_type": "execute_result"
    }
   ],
   "source": [
    "import random\n",
    "H = 39\n",
    "W = 52\n",
    "size = np.random.randint(39*52//8, 39*52//3)\n",
    "diversity_prob = 0.05\n",
    "    \n",
    "def random_region(H, W, size, diversity_prob):\n",
    "    image = np.zeros((H, W), dtype=np.bool)\n",
    "    openlist = []\n",
    "\n",
    "    def check_neighbours(image, point):\n",
    "        x, y = point\n",
    "        res = []\n",
    "\n",
    "        for direction in ((-1, 0), (1, 0), (0, 1), (0, -1)):\n",
    "            newx = x + direction[0]\n",
    "            newy = y + direction[1]\n",
    "            if newx >= 0 and newx<image.shape[0] and newy>=0 and newy<image.shape[1]:\n",
    "                if image[newx, newy] == 0:\n",
    "                    res.append((newx, newy))\n",
    "        return res\n",
    "\n",
    "    i=0\n",
    "    while i < size:\n",
    "        if openlist == []:\n",
    "            x = np.random.randint(0, H)\n",
    "            y = np.random.randint(0, W)\n",
    "            openlist.append((x, y))\n",
    "            image[x, y] = 1\n",
    "            i+=1\n",
    "        else:\n",
    "            if np.random.rand() < diversity_prob:\n",
    "                x = np.random.randint(0, H)\n",
    "                y = np.random.randint(0, W)\n",
    "                if image[x, y] == 0:\n",
    "                    openlist.append((x, y))\n",
    "                    image[x, y] = 1\n",
    "                    i += 1\n",
    "                    continue\n",
    "\n",
    "            # random a point from the open list\n",
    "            j = np.random.randint(0, len(openlist))\n",
    "            point = openlist[j]\n",
    "            res = check_neighbours(image, point)\n",
    "            if len(res) == 0:\n",
    "                openlist = openlist[0:j] + openlist[j+1:]\n",
    "            else:\n",
    "                nex = random.choice(res)\n",
    "                openlist.append(nex)\n",
    "                image[nex[0], nex[1]] = 1\n",
    "                i += 1\n",
    "    return image\n",
    "\n",
    "image = random_region(H, W, size, diversity_prob)\n",
    "Image.fromarray(image.astype(np.uint8)*100)\n",
    "    "
   ]
  },
  {
   "cell_type": "code",
   "execution_count": 362,
   "metadata": {
    "collapsed": false
   },
   "outputs": [
    {
     "name": "stdout",
     "output_type": "stream",
     "text": [
      "find /scratch/yang/aws_data/CIL_modular_data/_benchmarks_results/mm45_v4_base_newseg_noiser_3cams_1,2,3,4,5,6,7,8,9,10,11,12,13,14_YangExp3cam_Town01/ -name 00*png -print | xargs rm\n"
     ]
    },
    {
     "data": {
      "text/plain": [
       "123"
      ]
     },
     "execution_count": 362,
     "metadata": {},
     "output_type": "execute_result"
    }
   ],
   "source": [
    "from subprocess import call\n",
    "temp_image_path = \"/scratch/yang/aws_data/CIL_modular_data/_benchmarks_results/mm45_v4_base_newseg_noiser_3cams_1,2,3,4,5,6,7,8,9,10,11,12,13,14_YangExp3cam_Town01/\"\n",
    "cmd = [\"find\", temp_image_path, \"-name\", \"00*png\", \"-print | xargs rm\"]\n",
    "print(\" \".join(cmd))\n",
    "call(\" \".join(cmd), shell=True)"
   ]
  },
  {
   "cell_type": "code",
   "execution_count": 363,
   "metadata": {
    "collapsed": true
   },
   "outputs": [],
   "source": [
    "!cd ..\n"
   ]
  },
  {
   "cell_type": "code",
   "execution_count": 366,
   "metadata": {
    "collapsed": false
   },
   "outputs": [],
   "source": [
    "import sys\n",
    "sys.path.append(\"../\")\n",
    "from all_perceptions import Perceptions"
   ]
  },
  {
   "cell_type": "code",
   "execution_count": 367,
   "metadata": {
    "collapsed": false
   },
   "outputs": [
    {
     "name": "stdout",
     "output_type": "stream",
     "text": [
      "('Model ', 'seg', ' replicate ', 0, ' is using GPU ', '7')\n",
      "begin initialization\n",
      "initialization finished\n"
     ]
    }
   ],
   "source": [
    "perceptions = Perceptions(det_COCO=False,\n",
    "                          det_TL=False,\n",
    "                          det_TS=False,\n",
    "                          seg=True,\n",
    "                          depth=False,\n",
    "                          batch_size=1,\n",
    "                          gpu_assignment=[7],\n",
    "                          compute_methods={},\n",
    "                          viz_methods={},\n",
    "                          path_config=\"path_jormungandr_newseg\")"
   ]
  },
  {
   "cell_type": "code",
   "execution_count": 376,
   "metadata": {
    "collapsed": true
   },
   "outputs": [],
   "source": [
    "def tester(perceptions):\n",
    "    img = np.zeros((1, 256,256, 3), dtype=np.uint8)\n",
    "    return perceptions.compute(img)"
   ]
  },
  {
   "cell_type": "code",
   "execution_count": 377,
   "metadata": {
    "collapsed": true
   },
   "outputs": [],
   "source": [
    "from multiprocessing import Process\n",
    "p = Process(target=tester, args=(perceptions,))"
   ]
  },
  {
   "cell_type": "code",
   "execution_count": 380,
   "metadata": {
    "collapsed": false
   },
   "outputs": [],
   "source": [
    "#p.start()\n",
    "p.join()"
   ]
  },
  {
   "cell_type": "code",
   "execution_count": 395,
   "metadata": {
    "collapsed": false
   },
   "outputs": [
    {
     "name": "stdout",
     "output_type": "stream",
     "text": [
      "from all_perceptions import Perceptions\r\n",
      "from multiprocessing import Lock\r\n",
      "\r\n",
      "class PerceptionsMultiprocess():\r\n",
      "    def __init__(self, **kwargs):\r\n",
      "        #self.perception = Perceptions(**kwargs)\r\n",
      "        self.lock = Lock()\r\n",
      "\r\n",
      "    def all_in_one(self, image_input):\r\n",
      "        self.lock.acquire()\r\n",
      "        compute = image_input\r\n",
      "        self.lock.release()\r\n",
      "        print(compute)\r\n",
      "        return compute\r\n",
      "\r\n",
      "    def destroy(self):\r\n",
      "        self.perception.destroy()\r\n",
      "\r\n"
     ]
    }
   ],
   "source": [
    "!cat ../perceptions_multiprocess.py"
   ]
  },
  {
   "cell_type": "code",
   "execution_count": 399,
   "metadata": {
    "collapsed": false
   },
   "outputs": [],
   "source": [
    "import perceptions_multiprocess\n",
    "reload(perceptions_multiprocess)\n",
    "\n",
    "p = perceptions_multiprocess.PerceptionsMultiprocess()"
   ]
  },
  {
   "cell_type": "code",
   "execution_count": 402,
   "metadata": {
    "collapsed": true
   },
   "outputs": [],
   "source": [
    "def tester(p, l):\n",
    "    for i in l:\n",
    "        print(i)\n",
    "        out = p.all_in_one(i)\n",
    "        print(out)\n",
    "\n",
    "        \n",
    "process = Process(target=tester, args=(p, range(10)))\n"
   ]
  },
  {
   "cell_type": "code",
   "execution_count": 401,
   "metadata": {
    "collapsed": false
   },
   "outputs": [
    {
     "name": "stdout",
     "output_type": "stream",
     "text": [
      "888\n"
     ]
    },
    {
     "data": {
      "text/plain": [
       "888"
      ]
     },
     "execution_count": 401,
     "metadata": {},
     "output_type": "execute_result"
    }
   ],
   "source": [
    "p.all_in_one(888)"
   ]
  },
  {
   "cell_type": "code",
   "execution_count": 3,
   "metadata": {
    "collapsed": false
   },
   "outputs": [],
   "source": [
    "path = \"/scratch/yang/aws_data/carla_collect/steer103_v2_dir\"\n",
    "\n",
    "path = \"/scratch/yang/aws_data/carla_collect/steer103_v2_dir/default_RotationPitch=5_WeatherId=12/data_00000.h5\"\n",
    "import h5py\n",
    "a=h5py.File(path, \"r\")"
   ]
  },
  {
   "cell_type": "code",
   "execution_count": 5,
   "metadata": {
    "collapsed": false
   },
   "outputs": [
    {
     "data": {
      "text/plain": [
       "[u'CameraLeft',\n",
       " u'CameraMiddle',\n",
       " u'CameraRight',\n",
       " u'SegLeft',\n",
       " u'SegMiddle',\n",
       " u'SegRight',\n",
       " u'targets']"
      ]
     },
     "execution_count": 5,
     "metadata": {},
     "output_type": "execute_result"
    }
   ],
   "source": [
    "a.keys()"
   ]
  },
  {
   "cell_type": "code",
   "execution_count": 18,
   "metadata": {
    "collapsed": false
   },
   "outputs": [],
   "source": [
    "import os, glob\n",
    "from subprocess import call\n",
    "images = []\n",
    "sample = 0\n",
    "out_base = \"/scratch/yang/aws_data/carla_collect/steer103_v2_dir/investigate/\"\n",
    "for path in glob.glob(\"/scratch/yang/aws_data/carla_collect/steer103_v2_dir/default_RotationPitch=5_WeatherId=*/data_000*.h5\"):\n",
    "    a=h5py.File(path, \"r\")\n",
    "    for i, value in enumerate(a['targets'][:, 24]):\n",
    "        if value == 5.0:\n",
    "            images.append(a['CameraMiddle'][i])\n",
    "        elif len(images) > 0:\n",
    "            this = 0\n",
    "            for image in images:\n",
    "                this_name = os.path.join(out_base, \"%04d.jpg\" % this)\n",
    "                with open(this_name, \"w\") as f:\n",
    "                    f.write(image)\n",
    "                this += 1\n",
    "\n",
    "            cmd = [\"ffmpeg\", \"-y\", \"-i\",  out_base+\"/%04d.jpg\", \"-c:v\", \"libx264\", out_base+str(sample).zfill(4)+\".mp4\"]\n",
    "            call(\" \".join(cmd), shell=True)\n",
    "            cmd = [\"find\", out_base, \"-name\", \"*jpg\", \"-print | xargs rm\"]\n",
    "            call(\" \".join(cmd), shell=True)\n",
    "\n",
    "            sample += 1\n",
    "            images = []"
   ]
  },
  {
   "cell_type": "code",
   "execution_count": 1,
   "metadata": {
    "collapsed": false
   },
   "outputs": [
    {
     "name": "stderr",
     "output_type": "stream",
     "text": [
      "/home/yang/anaconda2/lib/python2.7/site-packages/h5py/__init__.py:34: FutureWarning: Conversion of the second argument of issubdtype from `float` to `np.floating` is deprecated. In future, it will be treated as `np.float64 == np.dtype(float).type`.\n",
      "  from ._conv import register_converters as _register_converters\n"
     ]
    }
   ],
   "source": [
    "import h5py\n",
    "path = \"/scratch/yang/aws_data/carla_collect/steer103_v2_dir/default_PositionZ=1.4_WeatherId=01/data_00000.h5\"\n",
    "f = h5py.File(path, 'r')"
   ]
  },
  {
   "cell_type": "code",
   "execution_count": 2,
   "metadata": {
    "collapsed": false
   },
   "outputs": [
    {
     "data": {
      "text/plain": [
       "[u'CameraLeft',\n",
       " u'CameraMiddle',\n",
       " u'CameraRight',\n",
       " u'SegLeft',\n",
       " u'SegMiddle',\n",
       " u'SegRight',\n",
       " u'targets']"
      ]
     },
     "execution_count": 2,
     "metadata": {},
     "output_type": "execute_result"
    }
   ],
   "source": [
    "f.keys()"
   ]
  },
  {
   "cell_type": "code",
   "execution_count": 6,
   "metadata": {
    "collapsed": false
   },
   "outputs": [],
   "source": [
    "x = f['targets'][:, 8]\n",
    "y = f['targets'][:, 9]\n",
    "time = f['targets'][:, 20]\n",
    "is_noisy = (f['targets'][:, 0] == f['targets'][:, 5])"
   ]
  },
  {
   "cell_type": "code",
   "execution_count": null,
   "metadata": {
    "collapsed": true
   },
   "outputs": [],
   "source": [
    "import numpy as np\n",
    "import math\n",
    "\n",
    "sldist = lambda c1, c2: math.sqrt((c2[0] - c1[0]) ** 2 + (c2[1] - c1[1]) ** 2)\n",
    "def compute_waypoints(x, y, time, is_noisy, future_time):\n",
    "    # return a list of true or false indicating whether this appears in the end or not\n",
    "    # for each true point, returns the expected waypoints\n",
    "    # \n",
    "    data = np.stack([x, y, time, is_noisy], axis=0)\n",
    "    # 4 * N matrix\n",
    "    is_seperate = lambda pos1, pos2: sldist(pos1, pos2) > 0.2 * 9.7 * 1.5\n",
    "    \n",
    "    # seperate the parts in to multiple subsequences\n",
    "    seqs = []\n",
    "    last_i = 0\n",
    "    for i in range(data.shape[1]-1):\n",
    "        if is_seperate(data[:2, i], data[:2, i+1]):\n",
    "            seqs.append(data[:, last_i:i+1])\n",
    "            last_i = i+1\n",
    "    \n",
    "    flattened_indicator = []\n",
    "    out_waypoints = []\n",
    "    for seq in seqs:\n",
    "        # seq is 4*N\n",
    "        N = seq.shape[1]\n",
    "        if N < 3: \n",
    "            flattened_indicator += [False] * N\n",
    "            continue\n",
    "        \n",
    "        # this is asserting we have a constant step size\n",
    "        step_time = seq[2, 1] - seq[2, 0]\n",
    "        step_time /= 1000.0 # convert it to second\n",
    "        future_steps = int(math.ceil(future_time / step_time))\n",
    "\n",
    "        for i in range(N-future_steps):\n",
    "            if any(seq[3, i:(i+future_steps)]):\n",
    "                # if any of the future data point is noisy, then we ignore this\n",
    "                flattened_indicator.append(False)\n",
    "                continue\n",
    "            else:\n",
    "                # None of the future is noisy\n",
    "                flattened_indicator.append(True)\n",
    "                # begin computation of the waypoints\n",
    "                this_waypoint = []\n",
    "                for j in range(1, future_steps):\n",
    "                    delta = seq[:2, i+j] - seq[:2, i]\n",
    "                    this_waypoint.append(delta)\n",
    "                out_waypoints.append(this_waypoint)"
   ]
  },
  {
   "cell_type": "code",
   "execution_count": null,
   "metadata": {
    "collapsed": true
   },
   "outputs": [],
   "source": [
    "# we also need the traffic light, all of sudden pedestrain not considered"
   ]
  },
  {
   "cell_type": "code",
   "execution_count": 12,
   "metadata": {
    "collapsed": false
   },
   "outputs": [
    {
     "data": {
      "text/plain": [
       "False"
      ]
     },
     "execution_count": 12,
     "metadata": {},
     "output_type": "execute_result"
    }
   ],
   "source": [
    "all([True, True, False])"
   ]
  },
  {
   "cell_type": "code",
   "execution_count": 9,
   "metadata": {
    "collapsed": false
   },
   "outputs": [
    {
     "data": {
      "text/plain": [
       "array([ 4200.,  4400.,  4600.,  4800.,  5000.,  5200.,  5400.,  5600.,\n",
       "        5800.,  6000.,  6200.,  6400.,  6600.,  6800.,  7000.,  7200.,\n",
       "        7400.,  7600.,  7800.,  8000.,  8200.,  8400.,  8600.,  8800.,\n",
       "        9000.,  9200.,  9400.,  9600.,  9800., 10000., 10200., 10400.,\n",
       "       10600., 10800., 11000., 11200., 11400., 11600., 11800., 12000.,\n",
       "       12200., 12400., 12600., 12800., 13000., 13200., 13400., 13600.,\n",
       "       13800., 14000., 14200., 14400., 14600., 14800., 15000., 15200.,\n",
       "       15400., 15600., 15800., 16000., 16200., 16400., 16600., 16800.,\n",
       "       17000., 17200., 17400., 17600., 17800., 18000., 18200., 18400.,\n",
       "       18600., 18800., 19000., 19200., 19400., 19600., 19800., 20000.,\n",
       "       20200., 20400., 20600., 20800., 21000., 21200., 21400., 21600.,\n",
       "       21800., 22000., 22200., 22400., 22600., 22800., 23000., 23200.,\n",
       "       23400., 23600., 23800., 24000., 24200., 24400., 24600., 24800.,\n",
       "       25000., 25200., 25400., 25600., 25800., 26000., 26200., 26400.,\n",
       "       26600., 26800., 27000., 27200., 27400., 27600., 27800., 28000.,\n",
       "       28200., 28400., 28600., 28800., 29000., 29200., 29400., 29600.,\n",
       "       29800., 30000., 30200., 30400., 30600., 30800., 31000., 31200.,\n",
       "       31400., 31600., 31800., 32000., 32200., 32400., 32600., 32800.,\n",
       "       33000., 33200., 33400., 33600., 33800., 34000., 34200., 34400.,\n",
       "       34600., 34800., 35000., 35200., 35400., 35600., 35800., 36000.,\n",
       "       36200., 36400., 36600., 36800., 37000., 37200., 37400., 37600.,\n",
       "       37800., 38000., 38200., 38400., 38600., 38800., 39000., 39200.,\n",
       "       39400., 39600., 39800., 40000., 40200., 40400., 40600., 40800.,\n",
       "       41000., 41200., 41400., 41600., 41800., 42000., 42200., 42400.,\n",
       "       42600., 42800., 43000., 43200., 43400., 43600., 43800., 44000.],\n",
       "      dtype=float32)"
      ]
     },
     "execution_count": 9,
     "metadata": {},
     "output_type": "execute_result"
    }
   ],
   "source": [
    "time"
   ]
  },
  {
   "cell_type": "code",
   "execution_count": 7,
   "metadata": {
    "collapsed": false
   },
   "outputs": [
    {
     "data": {
      "text/plain": [
       "array([False, False, False, False,  True,  True,  True, False, False,\n",
       "       False, False, False, False, False, False,  True,  True,  True,\n",
       "       False, False, False, False, False, False, False, False,  True,\n",
       "        True,  True, False, False, False, False, False, False,  True,\n",
       "        True,  True, False, False, False, False, False, False, False,\n",
       "       False, False, False, False, False,  True,  True,  True, False,\n",
       "       False, False, False, False, False, False, False, False, False,\n",
       "        True,  True,  True, False, False, False, False, False, False,\n",
       "       False, False, False, False,  True,  True,  True,  True,  True,\n",
       "        True, False, False, False, False, False, False, False, False,\n",
       "        True,  True, False, False, False, False, False, False, False,\n",
       "       False,  True,  True, False, False, False, False, False, False,\n",
       "       False,  True,  True, False, False, False, False, False, False,\n",
       "       False, False,  True,  True,  True,  True, False, False, False,\n",
       "       False, False,  True,  True, False, False, False, False, False,\n",
       "       False, False, False,  True,  True, False, False, False, False,\n",
       "        True,  True,  True,  True, False, False, False, False, False,\n",
       "       False, False, False,  True,  True,  True,  True,  True,  True,\n",
       "        True, False, False, False, False, False, False,  True,  True,\n",
       "       False, False, False, False, False, False,  True,  True, False,\n",
       "       False, False, False, False, False,  True,  True,  True,  True,\n",
       "       False, False, False, False, False, False, False, False, False,\n",
       "        True,  True])"
      ]
     },
     "execution_count": 7,
     "metadata": {},
     "output_type": "execute_result"
    }
   ],
   "source": [
    "is_noisy"
   ]
  },
  {
   "cell_type": "markdown",
   "metadata": {},
   "source": [
    "# Try to cluster the trajectories"
   ]
  },
  {
   "cell_type": "code",
   "execution_count": 20,
   "metadata": {
    "collapsed": false
   },
   "outputs": [],
   "source": [
    "import h5py, glob\n",
    "import numpy as np\n",
    "path = \"/scratch/yang/aws_data/carla_collect/steer103_v3_waypoint/*/*h5\"\n",
    "\n",
    "all_wps = []\n",
    "for f in sorted(glob.glob(path)):\n",
    "    h5 = h5py.File(f, \"r\")\n",
    "    targets = h5[\"targets\"]\n",
    "    wps = targets[:, 35:(35+int(targets[0, -1]))]\n",
    "    wps = np.reshape(wps, (200, -1, 2))\n",
    "    all_wps.append(wps)\n",
    "    h5.close()"
   ]
  },
  {
   "cell_type": "code",
   "execution_count": 22,
   "metadata": {
    "collapsed": false
   },
   "outputs": [],
   "source": [
    "wps = np.concatenate(all_wps, axis=0)"
   ]
  },
  {
   "cell_type": "code",
   "execution_count": 58,
   "metadata": {
    "collapsed": false
   },
   "outputs": [
    {
     "name": "stdout",
     "output_type": "stream",
     "text": [
      "Help on method randint in module random:\n",
      "\n",
      "randint(self, a, b) method of random.Random instance\n",
      "    Return random integer in range [a, b], including both end points.\n",
      "\n"
     ]
    }
   ],
   "source": [
    "help(random.randint)"
   ]
  },
  {
   "cell_type": "code",
   "execution_count": 370,
   "metadata": {
    "collapsed": true
   },
   "outputs": [],
   "source": [
    "def plot_wp(wps):\n",
    "    plt.plot(wps[:, 0], wps[:, 1], 'x')\n",
    "    plt.xlim(0, 1)\n",
    "    plt.ylim(-1, 1)\n",
    "    plt.show()\n",
    "def plot_wp_noscale(wps):\n",
    "    plt.plot(wps[:, 0], wps[:, 1], 'x')\n",
    "    plt.show()"
   ]
  },
  {
   "cell_type": "code",
   "execution_count": null,
   "metadata": {
    "collapsed": false,
    "scrolled": false
   },
   "outputs": [],
   "source": [
    "import matplotlib.pyplot as plt\n",
    "import random\n",
    "\n",
    "id = random.randint(0, wps.shape[0])\n",
    "print(id)\n",
    "plt.plot(wps[id,:, 0], wps[id,:, 1], 'x')\n",
    "plt.xlim(0, 1)\n",
    "plt.ylim(-1, 1)\n",
    "plt.show()"
   ]
  },
  {
   "cell_type": "code",
   "execution_count": 45,
   "metadata": {
    "collapsed": false
   },
   "outputs": [
    {
     "name": "stdout",
     "output_type": "stream",
     "text": [
      "[0.80285919 0.80285919 0.80285919 0.80285919 2.3921442  3.18100452\n",
      " 3.96726608 4.74253178 5.44017458 6.64911795 6.64911795 6.64911795\n",
      " 6.64911795]\n",
      "[-0.06148737 -0.11312756 -0.22080644 -0.39444396 -0.53238691 -0.66909116\n",
      " -0.83311351 -0.95072274 -1.02468991  0.          0.          0.\n",
      "  0.        ]\n",
      "3\n"
     ]
    }
   ],
   "source": [
    "from scipy import interpolate\n",
    "t, c, k = interpolate.splrep(wps[id, :, 0], wps[id, :, 1])\n",
    "print(t)\n",
    "print(c)\n",
    "print(k)"
   ]
  },
  {
   "cell_type": "code",
   "execution_count": 49,
   "metadata": {
    "collapsed": false
   },
   "outputs": [
    {
     "name": "stdout",
     "output_type": "stream",
     "text": [
      "[0.8028592 1.5998268 2.3921442 3.1810045 3.967266  4.742532  5.4401746\n",
      " 6.069377  6.649118 ]\n",
      "[-0.06148737 -0.1532263  -0.26723778 -0.39609474 -0.53375334 -0.67405313\n",
      " -0.8019765  -0.91797084 -1.0246899 ]\n"
     ]
    }
   ],
   "source": [
    "print(wps[id, :, 0])\n",
    "print(wps[id, :, 1])"
   ]
  },
  {
   "cell_type": "code",
   "execution_count": null,
   "metadata": {
    "collapsed": false
   },
   "outputs": [],
   "source": [
    "xnew = np.arange(0, 10, np.pi/50)\n",
    "ynew = interpolate.splev(xnew, (t,c,k), der=0)\n",
    "plt.plot(xnew, ynew)\n",
    "plt.xlim(0, 10)\n",
    "plt.ylim(-3, 3)\n",
    "plt.show()"
   ]
  },
  {
   "cell_type": "code",
   "execution_count": 233,
   "metadata": {
    "collapsed": true
   },
   "outputs": [],
   "source": [
    "# delete the totally stopping\n",
    "import copy\n",
    "wps_bak = copy.deepcopy(wps)"
   ]
  },
  {
   "cell_type": "code",
   "execution_count": 758,
   "metadata": {
    "collapsed": true
   },
   "outputs": [],
   "source": [
    "# restore the original wps\n",
    "wps = wps_bak"
   ]
  },
  {
   "cell_type": "code",
   "execution_count": 759,
   "metadata": {
    "collapsed": true
   },
   "outputs": [],
   "source": [
    "wps = wps[wps[:,8,0]>0.5, :, :]"
   ]
  },
  {
   "cell_type": "code",
   "execution_count": 760,
   "metadata": {
    "collapsed": true
   },
   "outputs": [],
   "source": [
    "# scale down by the farthest point\n",
    "scale0 = np.abs(wps[:, 8:9, 0:1])\n",
    "#scale1 = np.abs(wps[:, 8:9, 1:2])"
   ]
  },
  {
   "cell_type": "code",
   "execution_count": 761,
   "metadata": {
    "collapsed": true
   },
   "outputs": [],
   "source": [
    "wps[:, :, 0:1] /= scale0\n",
    "wps[:, :, 1:2] /= (scale0)\n"
   ]
  },
  {
   "cell_type": "code",
   "execution_count": 762,
   "metadata": {
    "collapsed": false
   },
   "outputs": [
    {
     "name": "stdout",
     "output_type": "stream",
     "text": [
      "1.335113\n",
      "-0.0018449313\n",
      "3.268797\n",
      "-4.111483\n"
     ]
    }
   ],
   "source": [
    "print(np.max(wps[:,:,0]))\n",
    "print(np.min(wps[:,:,0]))\n",
    "print(np.max(wps[:,:,1]))\n",
    "print(np.min(wps[:,:,1]))"
   ]
  },
  {
   "cell_type": "code",
   "execution_count": 365,
   "metadata": {
    "collapsed": false
   },
   "outputs": [
    {
     "data": {
      "text/plain": [
       "(121526, 9, 2)"
      ]
     },
     "execution_count": 365,
     "metadata": {},
     "output_type": "execute_result"
    }
   ],
   "source": [
    "wps.shape"
   ]
  },
  {
   "cell_type": "code",
   "execution_count": null,
   "metadata": {
    "collapsed": false,
    "scrolled": true
   },
   "outputs": [],
   "source": [
    "from sklearn.cluster import KMeans\n",
    "\n",
    "data = np.reshape(wps, (wps.shape[0], 18))\n",
    "\n",
    "kmeans = KMeans(n_clusters=30, n_jobs=-1, verbose=2)\n",
    "kmeans.fit(data)\n",
    "print(kmeans.cluster_centers_)\n"
   ]
  },
  {
   "cell_type": "code",
   "execution_count": 913,
   "metadata": {
    "collapsed": true
   },
   "outputs": [],
   "source": [
    "i=-1"
   ]
  },
  {
   "cell_type": "code",
   "execution_count": null,
   "metadata": {
    "collapsed": false,
    "scrolled": true
   },
   "outputs": [],
   "source": [
    "i+= 1\n",
    "print(i)\n",
    "plot_wp(np.reshape(kmeans.cluster_centers_[i], (9,2)))"
   ]
  },
  {
   "cell_type": "code",
   "execution_count": null,
   "metadata": {
    "collapsed": false
   },
   "outputs": [],
   "source": [
    "ind = (kmeans.labels_==i)\n",
    "this = wps[ind, :, :]\n",
    "id = random.randint(0, this.shape[0])\n",
    "print(id)\n",
    "plot_wp(this[id, :, :])"
   ]
  },
  {
   "cell_type": "code",
   "execution_count": 408,
   "metadata": {
    "collapsed": false
   },
   "outputs": [],
   "source": [
    "from sklearn import datasets\n",
    "iris=datasets.load_iris()"
   ]
  },
  {
   "cell_type": "code",
   "execution_count": 410,
   "metadata": {
    "collapsed": false
   },
   "outputs": [
    {
     "data": {
      "text/plain": [
       "(150, 4)"
      ]
     },
     "execution_count": 410,
     "metadata": {},
     "output_type": "execute_result"
    }
   ],
   "source": [
    "iris.data.shape"
   ]
  },
  {
   "cell_type": "code",
   "execution_count": 984,
   "metadata": {
    "collapsed": false
   },
   "outputs": [],
   "source": [
    "import pickle\n",
    "out =pickle.load(open(\"./utils/cluster_centers.npy\", \"rb\"))"
   ]
  },
  {
   "cell_type": "code",
   "execution_count": 986,
   "metadata": {
    "collapsed": false
   },
   "outputs": [
    {
     "data": {
      "text/plain": [
       "2.3953931"
      ]
     },
     "execution_count": 986,
     "metadata": {},
     "output_type": "execute_result"
    }
   ],
   "source": [
    "np.max(out\n",
    "      )"
   ]
  }
 ],
 "metadata": {
  "kernelspec": {
   "display_name": "Python 2",
   "language": "python",
   "name": "python2"
  },
  "language_info": {
   "codemirror_mode": {
    "name": "ipython",
    "version": 2
   },
   "file_extension": ".py",
   "mimetype": "text/x-python",
   "name": "python",
   "nbconvert_exporter": "python",
   "pygments_lexer": "ipython2",
   "version": "2.7.13"
  }
 },
 "nbformat": 4,
 "nbformat_minor": 0
}
