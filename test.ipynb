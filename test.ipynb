{
 "cells": [
  {
   "cell_type": "code",
   "execution_count": null,
   "metadata": {},
   "outputs": [],
   "source": [
    "import sys\n",
    "sys.path.append(\"./drive_interfaces/carla/carla_client/\")\n",
    "from carla.client import make_carla_client\n",
    "from carla.settings import CarlaSettings\n",
    "from carla.client import VehicleControl"
   ]
  },
  {
   "cell_type": "code",
   "execution_count": null,
   "metadata": {},
   "outputs": [],
   "source": [
    "with open(\"./drive_interfaces/carla/yang_template.ini\", \"r\") as f:\n",
    "    print(f.read())"
   ]
  },
  {
   "cell_type": "code",
   "execution_count": null,
   "metadata": {
    "scrolled": true
   },
   "outputs": [],
   "source": [
    "import random\n",
    "from carla.sensor import Camera, Lidar\n",
    "settings = CarlaSettings()\n",
    "settings.set(\n",
    "    SynchronousMode=True,\n",
    "    SendNonPlayerAgentsInfo=True,\n",
    "    NumberOfVehicles=20,\n",
    "    NumberOfPedestrians=40,\n",
    "    WeatherId=random.choice([1, 3, 7, 8, 14]),\n",
    "    QualityLevel=\"Low\")\n",
    "settings.randomize_seeds()\n",
    "\n",
    "# Now we want to add a couple of cameras to the player vehicle.\n",
    "# We will collect the images produced by these cameras every\n",
    "# frame.\n",
    "\n",
    "# The default camera captures RGB images of the scene.\n",
    "camera0 = Camera('CameraRGB')\n",
    "# Set image resolution in pixels.\n",
    "camera0.set_image_size(800, 600)\n",
    "# Set its position relative to the car in meters.\n",
    "camera0.set_position(0.30, 0, 1.30)\n",
    "settings.add_sensor(camera0)\n",
    "\n",
    "# Let's add another camera producing ground-truth depth.\n",
    "camera1 = Camera('CameraDepth', PostProcessing='Depth')\n",
    "camera1.set_image_size(800, 600)\n",
    "camera1.set_position(0.30, 0, 1.30)\n",
    "settings.add_sensor(camera1)\n",
    "\n",
    "print(str(settings))"
   ]
  },
  {
   "cell_type": "code",
   "execution_count": null,
   "metadata": {},
   "outputs": [],
   "source": [
    "from carla.client import CarlaClient\n",
    "client = CarlaClient(\"127.0.0.1\", 2000)\n",
    "client.connect()\n",
    "with open(\"./drive_interfaces/carla/yang_template.ini\", \"r\") as f:\n",
    "    #client.load_settings(settings)\n",
    "    client.load_settings(f.read())\n",
    "client.start_episode(0)\n",
    "measurements, sensor_data = client.read_data()\n",
    "client.send_control(VehicleControl())\n",
    "\n",
    "client.disconnect()"
   ]
  },
  {
   "cell_type": "code",
   "execution_count": null,
   "metadata": {},
   "outputs": [],
   "source": [
    "with make_carla_client(\"127.0.0.1\", 2000) as client:\n",
    "    with open(\"./drive_interfaces/carla/yang_template.ini\", \"r\") as f:\n",
    "        #client.load_settings(settings)\n",
    "        client.load_settings(f.read())\n",
    "    client.start_episode(0)\n",
    "    measurements, sensor_data = client.read_data()\n",
    "    client.send_control(VehicleControl())"
   ]
  },
  {
   "cell_type": "code",
   "execution_count": null,
   "metadata": {},
   "outputs": [],
   "source": [
    "measurements.player_measurements"
   ]
  },
  {
   "cell_type": "code",
   "execution_count": null,
   "metadata": {},
   "outputs": [],
   "source": [
    "sensor_data.keys()"
   ]
  },
  {
   "cell_type": "code",
   "execution_count": null,
   "metadata": {},
   "outputs": [],
   "source": [
    "image_converter.depth_to_array(sensor_data['DepthLeft']).shape"
   ]
  },
  {
   "cell_type": "code",
   "execution_count": null,
   "metadata": {
    "collapsed": true
   },
   "outputs": [],
   "source": [
    "a=image_converter.labels_to_array(sensor_data['SegLeft'])"
   ]
  },
  {
   "cell_type": "code",
   "execution_count": null,
   "metadata": {},
   "outputs": [],
   "source": [
    "import numpy as np\n",
    "b=a[:,:,np.newaxis]"
   ]
  },
  {
   "cell_type": "code",
   "execution_count": null,
   "metadata": {},
   "outputs": [],
   "source": [
    "b.shape"
   ]
  },
  {
   "cell_type": "code",
   "execution_count": null,
   "metadata": {},
   "outputs": [],
   "source": [
    "import scipy.misc\n",
    "image = scipy.misc.imresize(b, [30, 40], interp='nearest')"
   ]
  },
  {
   "cell_type": "code",
   "execution_count": null,
   "metadata": {},
   "outputs": [],
   "source": [
    "a=sensor_data['DepthLeft']"
   ]
  },
  {
   "cell_type": "code",
   "execution_count": null,
   "metadata": {
    "collapsed": true
   },
   "outputs": [],
   "source": [
    "from carla import image_converter"
   ]
  },
  {
   "cell_type": "code",
   "execution_count": null,
   "metadata": {},
   "outputs": [],
   "source": [
    "b=image_converter.depth_to_array(a)\n",
    "b.shape"
   ]
  },
  {
   "cell_type": "code",
   "execution_count": null,
   "metadata": {},
   "outputs": [],
   "source": [
    "b"
   ]
  },
  {
   "cell_type": "code",
   "execution_count": null,
   "metadata": {},
   "outputs": [],
   "source": [
    "measurements"
   ]
  },
  {
   "cell_type": "code",
   "execution_count": null,
   "metadata": {},
   "outputs": [],
   "source": []
  },
  {
   "cell_type": "code",
   "execution_count": null,
   "metadata": {
    "collapsed": true
   },
   "outputs": [],
   "source": [
    "measure, sensor ="
   ]
  },
  {
   "cell_type": "code",
   "execution_count": null,
   "metadata": {},
   "outputs": [],
   "source": [
    "path= \"/scratch/yang/aws_data/carla_collect/1/2018726_default_RotationPitch=-15_WeatherId=10_4/data_00000.h5\"\n",
    "import h5py\n",
    "f=h5py.File(path, \"r\")"
   ]
  },
  {
   "cell_type": "code",
   "execution_count": null,
   "metadata": {},
   "outputs": [],
   "source": [
    "f.keys()"
   ]
  },
  {
   "cell_type": "code",
   "execution_count": null,
   "metadata": {},
   "outputs": [],
   "source": [
    "import cv2\n",
    "image = cv2.imdecode(f['CameraLeft'][0], 1)"
   ]
  },
  {
   "cell_type": "code",
   "execution_count": null,
   "metadata": {},
   "outputs": [],
   "source": [
    "from PIL import Image\n",
    "a=Image.fromarray(image)"
   ]
  },
  {
   "cell_type": "code",
   "execution_count": null,
   "metadata": {},
   "outputs": [],
   "source": [
    "a"
   ]
  },
  {
   "cell_type": "code",
   "execution_count": null,
   "metadata": {},
   "outputs": [],
   "source": [
    "path= \"/scratch/yang/aws_data/carla_collect/1/2018726_default_RotationPitch=-15_WeatherId=10_5/data_00000.h5\"\n",
    "path = \"/data/yang/code/aws/scratch/carla_collect/1/2018727_default_RotationPitch=0_WeatherId=13_1/data_00000.h5\"\n",
    "path = \"/scratch/yang/aws_data/carla_collect/1/2018730_default_RotationPitch=0_WeatherId=01_1/data_00000.h5\"\n",
    "def sample_images_from_h5(path):\n",
    "    f=h5py.File(path, \"r\")\n",
    "    for key in f.keys():\n",
    "        if 'targets' not in key:\n",
    "            for imid in range(200):\n",
    "                data = f[key][imid]\n",
    "                if 'camera' in key.lower():\n",
    "                    ext = \".jpg\"\n",
    "                else:\n",
    "                    ext = \".png\"\n",
    "                out_name = path+\".\" + key + str(imid).zfill(4) + ext\n",
    "                with open(out_name, \"w\") as g:\n",
    "                    g.write(data)\n",
    "sample_images_from_h5(path)\n",
    "\n",
    "\"ffmpeg -i data_00000.h5.CameraMiddle%04d.png -c:v libx264 out.mp4\""
   ]
  },
  {
   "cell_type": "code",
   "execution_count": null,
   "metadata": {
    "scrolled": true
   },
   "outputs": [],
   "source": [
    "from subprocess import call\n",
    "for i in range(1):\n",
    "    prefix = \"/scratch/yang/aws_data/carla_collect/1/2018730_default_RotationPitch=0_WeatherId=\"+str(i).zfill(2)+\"_1/\"\n",
    "    path = prefix + \"data_00000.h5\"\n",
    "    ! ls -alh $path\n",
    "    sample_images_from_h5(path)\n",
    "    \n",
    "    call(\"ffmpeg -i \"+ prefix +\"data_00000.h5.CameraMiddle%04d.jpg -c:v libx264 \"+ prefix[:-1]+\".mp4\", shell=True)"
   ]
  },
  {
   "cell_type": "code",
   "execution_count": null,
   "metadata": {
    "scrolled": true
   },
   "outputs": [],
   "source": [
    "import threading\n",
    "from multiprocessing import Process\n",
    "import time\n",
    "\n",
    "class ControlInterface(object):\n",
    "    def __init__(self):\n",
    "        self._throttle = 1.0       \n",
    "        self.counter = 0        \n",
    "        self.start_loop()\n",
    "        self.last_time = time.time()\n",
    "\n",
    "    def set_throttle(self, new_throttle):\n",
    "        self._throttle = new_throttle\n",
    "\n",
    "    def start_loop(self):\n",
    "        self.counter += 1\n",
    "        if self.counter % 75 == 0:\n",
    "            print(\"time eplapsed is \", time.time()-self.last_time)\n",
    "            self.last_time = time.time()\n",
    "            print( \"throttle\", self._throttle)\n",
    "        threading.Timer(1.0/75, self.start_loop).start()\n",
    "        \n",
    "\n",
    "ctrl = ControlInterface()\n",
    "print(\"after constructor\")\n",
    "ctrl.set_throttle(-1.0)"
   ]
  },
  {
   "cell_type": "code",
   "execution_count": null,
   "metadata": {},
   "outputs": [],
   "source": [
    "import os\n",
    "def get_files_count_in_folder(folder):\n",
    "    if not os.path.exists(folder):\n",
    "        return 0\n",
    "    else:\n",
    "        pass\n",
    "import glob\n",
    "len(glob.glob(\"/data/yang/code/aws/scratch/carla_collect/1/2018731_default_RotationPitch=0_WeatherId=01_1/*.h5\"))"
   ]
  },
  {
   "cell_type": "code",
   "execution_count": null,
   "metadata": {},
   "outputs": [],
   "source": [
    "import os, threading\n",
    "cmd = ['bash', '-c', \" '/scratch/yang/aws_data/carla_0.8.4/CarlaUE4.sh  -carla-server -carla-settings=/data/yang/code/aws/CIL_modular/drive_interfaces/carla/yang_template.ini -benchmark -fps=5' \"]\n",
    "#cmd = cmd.split(\" \")\n",
    "#cmd = [x for x in cmd if x!=\"\" ]\n",
    "print(\" \".join(cmd))\n",
    "print(\"before spawnling\")\n",
    "t = threading.Thread(target = lambda : os.system(\" \".join(cmd)))\n",
    "t.start()       \n",
    "#! ps aux | grep $id0"
   ]
  },
  {
   "cell_type": "code",
   "execution_count": null,
   "metadata": {},
   "outputs": [],
   "source": [
    "len(glob.glob(\"/data/yang/code/aws/scratch/carla_collect/1/*/data_*.h5\"))"
   ]
  },
  {
   "cell_type": "code",
   "execution_count": null,
   "metadata": {},
   "outputs": [],
   "source": [
    "path = \"/scratch/yang/aws_data/CIL_modular_data/matthias_data/RC025Val/data_00000.h5\"\n",
    "import h5py"
   ]
  },
  {
   "cell_type": "code",
   "execution_count": null,
   "metadata": {
    "collapsed": true
   },
   "outputs": [],
   "source": [
    "f=h5py.File(path, \"r\")\n",
    "\n",
    "a=f['rgb']"
   ]
  },
  {
   "cell_type": "code",
   "execution_count": null,
   "metadata": {},
   "outputs": [],
   "source": [
    "from PIL import Image\n",
    "i+=3\n",
    "print(i)\n",
    "Image.fromarray(a[i, :,:,:])"
   ]
  },
  {
   "cell_type": "code",
   "execution_count": null,
   "metadata": {},
   "outputs": [],
   "source": [
    "path =\"/scratch/yang/aws_data/carla_collect/1/default_ImageSizeX=700_WeatherId=10/data_00099.h5\"\n",
    "import h5py, time\n",
    "f = h5py.File(path, \"r\")"
   ]
  },
  {
   "cell_type": "code",
   "execution_count": null,
   "metadata": {},
   "outputs": [],
   "source": [
    "import cv2\n",
    "start = time.time()\n",
    "t_decode = 0.0\n",
    "t_resize = 0.0\n",
    "for i in range(200):\n",
    "    a= f[\"CameraMiddle\"][i]\n",
    "    start = time.time()\n",
    "    decoded = cv2.imdecode(a, 1)                    \n",
    "    t_decode += time.time()-start\n",
    "    sz = (88,200)\n",
    "    start = time.time()\n",
    "    decoded = cv2.resize(decoded, (sz[1], sz[0]))\n",
    "    t_resize += time.time() -start\n",
    "delta = time.time()-start\n",
    "print(delta, 200/delta)\n",
    "print(t_decode, t_resize)"
   ]
  },
  {
   "cell_type": "code",
   "execution_count": null,
   "metadata": {},
   "outputs": [],
   "source": [
    "91*20*200 /1000/1000.0"
   ]
  },
  {
   "cell_type": "code",
   "execution_count": null,
   "metadata": {},
   "outputs": [],
   "source": [
    "8*75/1.5"
   ]
  },
  {
   "cell_type": "code",
   "execution_count": null,
   "metadata": {},
   "outputs": [],
   "source": [
    "from joblib import Parallel, delayed\n",
    "p = Parallel(n_jobs=8, backend=\"threading\", verbose=10)\n",
    "\n",
    "\n",
    "func = lambda x : cv2.imdecode(x, 1)\n",
    "if True:\n",
    "    height, width = 88, 200\n",
    "    func_previous = func\n",
    "    func = lambda x : cv2.resize(func_previous(x), (width, height))\n",
    "                \n",
    "func = lambda x : cv2.resize(cv2.imdecode(x, 1), (200, 88))        \n",
    "func = delayed(func)\n",
    "results = p(func(f[\"CameraMiddle\"][0]) for i in range(8*75))"
   ]
  },
  {
   "cell_type": "code",
   "execution_count": null,
   "metadata": {},
   "outputs": [],
   "source": [
    "results = p(delayed(cv2.imdecode)(f[\"CameraMiddle\"][i], 1) for i in range(200))"
   ]
  },
  {
   "cell_type": "code",
   "execution_count": null,
   "metadata": {
    "scrolled": false
   },
   "outputs": [],
   "source": [
    "from PIL import Image\n",
    "Image.fromarray(results[0])"
   ]
  },
  {
   "cell_type": "code",
   "execution_count": null,
   "metadata": {},
   "outputs": [],
   "source": [
    "import numpy as np\n",
    "a = np.concatenate((results[0], results[0]+5), axis=2)"
   ]
  },
  {
   "cell_type": "code",
   "execution_count": null,
   "metadata": {
    "collapsed": true
   },
   "outputs": [],
   "source": []
  },
  {
   "cell_type": "code",
   "execution_count": null,
   "metadata": {},
   "outputs": [],
   "source": [
    "b=cv2.resize(a, (200, 300))\n"
   ]
  },
  {
   "cell_type": "code",
   "execution_count": null,
   "metadata": {},
   "outputs": [],
   "source": [
    "b.shape"
   ]
  },
  {
   "cell_type": "code",
   "execution_count": null,
   "metadata": {},
   "outputs": [],
   "source": [
    "Image.fromarray(b[:,:,:3])"
   ]
  },
  {
   "cell_type": "code",
   "execution_count": null,
   "metadata": {
    "collapsed": true
   },
   "outputs": [],
   "source": [
    "\n",
    "def _resize_BHWC(input, sz):\n",
    "    B, H, W, C = input.shape\n",
    "    input = np.transpose(input, (1, 2, 3, 0))\n",
    "    # now input has size H W C B\n",
    "    input = np.reshape(input, (H, W, C*B))\n",
    "    print(input.shape)\n",
    "    output = cv2.resize(input[:,:,:1000], (sz[1], sz[0]))\n",
    "    output = np.reshape(output, (sz[0], sz[1], C, B))\n",
    "    output = np.transpose(output, (3, 0, 1, 2))\n",
    "    return output\n"
   ]
  },
  {
   "cell_type": "code",
   "execution_count": null,
   "metadata": {},
   "outputs": [],
   "source": [
    "stk = np.stack(results, axis = 0)"
   ]
  },
  {
   "cell_type": "code",
   "execution_count": null,
   "metadata": {},
   "outputs": [],
   "source": [
    "stk.shape"
   ]
  },
  {
   "cell_type": "code",
   "execution_count": null,
   "metadata": {},
   "outputs": [],
   "source": [
    "out = _resize_BHWC(stk, (200, 300))"
   ]
  },
  {
   "cell_type": "code",
   "execution_count": null,
   "metadata": {
    "collapsed": true
   },
   "outputs": [],
   "source": [
    "func = lambda x: cv2.imdecode(x, 1)\n",
    "if hasattr(self._config, \"hack_resize_image\"):\n",
    "    height, width = self._config.hack_resize_image\n",
    "    func_previous = func\n",
    "    func = lambda x: cv2.resize(func_previous(x), (width, height))\n"
   ]
  },
  {
   "cell_type": "markdown",
   "metadata": {},
   "source": [
    "# measure the segmentation difference"
   ]
  },
  {
   "cell_type": "code",
   "execution_count": null,
   "metadata": {},
   "outputs": [],
   "source": [
    "path = \"/scratch/yang/aws_data/carla_collect/10/default_PositionZ=1.4_WeatherId=03/data_00000.h5\"\n",
    "import h5py\n",
    "f = h5py.File(path, \"r\")\n"
   ]
  },
  {
   "cell_type": "code",
   "execution_count": null,
   "metadata": {},
   "outputs": [],
   "source": [
    "import cv2\n",
    "for i in range(200):\n",
    "    image = f['CameraMiddle'][i]\n",
    "    image = cv2.imdecode(image, 1)\n",
    "    image = image[:,:, ::-1]\n",
    "    seg = f['SegMiddle'][i]\n",
    "    seg = cv2.imdecode(seg, 0)\n",
    "    break"
   ]
  },
  {
   "cell_type": "code",
   "execution_count": null,
   "metadata": {},
   "outputs": [],
   "source": [
    "seg.shape"
   ]
  },
  {
   "cell_type": "markdown",
   "metadata": {},
   "source": [
    "0\tNone\n",
    "1\tBuildings\n",
    "2\tFences\n",
    "3\tOther\n",
    "4\tPedestrians\n",
    "5\tPoles\n",
    "6\tRoadLines\n",
    "7\tRoads\n",
    "8\tSidewalks\n",
    "9\tVegetation\n",
    "10\tVehicles\n",
    "11\tWalls\n",
    "12\tTrafficSigns"
   ]
  },
  {
   "cell_type": "code",
   "execution_count": null,
   "metadata": {
    "collapsed": true
   },
   "outputs": [],
   "source": [
    "# 0          1            2           3               4               5      6\n",
    "{'Ignored', 'Movable', 'Navigable', 'NoneNavigable', 'StaticLayout', 'Sky', 'Lane'}"
   ]
  },
  {
   "cell_type": "code",
   "execution_count": null,
   "metadata": {
    "scrolled": true
   },
   "outputs": [],
   "source": [
    "from PIL import Image\n",
    "Image.fromarray(image)"
   ]
  },
  {
   "cell_type": "code",
   "execution_count": null,
   "metadata": {},
   "outputs": [],
   "source": [
    "import numpy as np\n",
    "mapping = np.array([0, 4, 3, 0, 1, 4, 6, 2, 3, 4, 1, 4, 4])\n",
    "seg_cvt = mapping[seg]"
   ]
  },
  {
   "cell_type": "code",
   "execution_count": null,
   "metadata": {},
   "outputs": [],
   "source": [
    "import sys\n",
    "sys.path.append(\"/data/yang/code/aws\")\n",
    "from all_perceptions import Perceptions"
   ]
  },
  {
   "cell_type": "code",
   "execution_count": null,
   "metadata": {},
   "outputs": [],
   "source": [
    "p = Perceptions(det_COCO=False,\n",
    "                 det_TL=False,\n",
    "                 det_TS=False,\n",
    "                 seg=True,\n",
    "                 depth=False,\n",
    "                 batch_size=1, # batch_size could also be a dict\n",
    "                 gpu_assignment=[0],\n",
    "                 compute_methods={},\n",
    "                 viz_methods={},\n",
    "                 num_replicates={},\n",
    "                 path_config=\"path_jormungandr\")"
   ]
  },
  {
   "cell_type": "code",
   "execution_count": null,
   "metadata": {
    "collapsed": true
   },
   "outputs": [],
   "source": [
    "image_batch = np.expand_dims(image, 0)\n",
    "out = p.compute(image_batch)"
   ]
  },
  {
   "cell_type": "code",
   "execution_count": null,
   "metadata": {},
   "outputs": [],
   "source": [
    "out = np.squeeze(out['seg'])"
   ]
  },
  {
   "cell_type": "code",
   "execution_count": null,
   "metadata": {
    "collapsed": true
   },
   "outputs": [],
   "source": [
    "out = np.argmax(out, axis=2) + 1 # 0 does not exists, since it is the ignore class underhood"
   ]
  },
  {
   "cell_type": "code",
   "execution_count": null,
   "metadata": {},
   "outputs": [],
   "source": [
    "out = cv2.resize(out, (out.shape[1]*4, out.shape[0]*4), interpolation=cv2.INTER_NEAREST)"
   ]
  },
  {
   "cell_type": "code",
   "execution_count": null,
   "metadata": {},
   "outputs": [],
   "source": [
    "out.shape"
   ]
  },
  {
   "cell_type": "code",
   "execution_count": null,
   "metadata": {
    "collapsed": true
   },
   "outputs": [],
   "source": [
    "#sky is ignored, also the ignore class"
   ]
  },
  {
   "cell_type": "code",
   "execution_count": null,
   "metadata": {},
   "outputs": [],
   "source": [
    "Image.fromarray((out==1).astype(np.uint8)*255)"
   ]
  },
  {
   "cell_type": "code",
   "execution_count": null,
   "metadata": {
    "scrolled": false
   },
   "outputs": [],
   "source": [
    "Image.fromarray((seg_cvt==1).astype(np.uint8)*255)"
   ]
  },
  {
   "cell_type": "code",
   "execution_count": null,
   "metadata": {
    "collapsed": true
   },
   "outputs": [],
   "source": [
    "def compute_inter_union(gt, pred, nclasses):\n",
    "    # return a nclass * 2 matrix: [iclass][inter, union]\n",
    "    out = np.zeros((nclasses, 2), dtype=np.int64)\n",
    "    pred = pred[gt!=0] - 1 \n",
    "    gt = gt[gt!=0] - 1\n",
    "    for i in range(nclasses):\n",
    "        out[i, 0] = np.sum(np.logical_and(pred == i, gt == i))\n",
    "        out[i, 1] = np.sum(np.logical_or (pred == i, gt == i))\n",
    "    return out"
   ]
  },
  {
   "cell_type": "code",
   "execution_count": null,
   "metadata": {},
   "outputs": [],
   "source": [
    "compute_inter_union(seg_cvt, out, 6)"
   ]
  },
  {
   "cell_type": "code",
   "execution_count": null,
   "metadata": {
    "collapsed": true
   },
   "outputs": [],
   "source": [
    "import pickle\n",
    "with open(\"../seg.pkl\", \"r\") as f:\n",
    "    res = pickle.load(f)"
   ]
  },
  {
   "cell_type": "code",
   "execution_count": null,
   "metadata": {},
   "outputs": [],
   "source": [
    "res"
   ]
  },
  {
   "cell_type": "code",
   "execution_count": null,
   "metadata": {},
   "outputs": [],
   "source": [
    "perf.focal"
   ]
  },
  {
   "cell_type": "code",
   "execution_count": null,
   "metadata": {},
   "outputs": [],
   "source": [
    "import h5py, cv2, sys, pickle, math, numpy\n",
    "import numpy as np\n",
    "sys.path.append(\"/data/yang/code/aws\")\n",
    "from all_perceptions import Perceptions\n",
    "\n",
    "debug = None\n",
    "\n",
    "class DepthPerformance():\n",
    "    def __init__(self):\n",
    "        width = 768\n",
    "        fov = 90.0\n",
    "        self.focal = width / (2.0 * math.tan(fov * math.pi / 360.0))\n",
    "        self.baseline = 0.54\n",
    "\n",
    "        self.p = Perceptions(det_COCO=False,\n",
    "                             det_TL=False,\n",
    "                             det_TS=False,\n",
    "                             seg=False,\n",
    "                             depth=True,\n",
    "                             batch_size=1,  # batch_size could also be a dict\n",
    "                             gpu_assignment=[0],\n",
    "                             compute_methods={},\n",
    "                             viz_methods={},\n",
    "                             num_replicates={},\n",
    "                             path_config=\"path_jormungandr\")\n",
    "\n",
    "        self.reset()\n",
    "\n",
    "    def _compute_errors(self, gt, pred):\n",
    "        thresh = np.maximum((gt / pred), (pred / gt))\n",
    "        a1 = (thresh < 1.25).mean()\n",
    "        a2 = (thresh < 1.25 ** 2).mean()\n",
    "        a3 = (thresh < 1.25 ** 3).mean()\n",
    "\n",
    "        rmse = (gt - pred) ** 2\n",
    "        rmse = np.sqrt(rmse.mean())\n",
    "\n",
    "        rmse_log = (np.log(gt) - np.log(pred)) ** 2\n",
    "        rmse_log = np.sqrt(rmse_log.mean())\n",
    "\n",
    "        abs_rel = np.mean(np.abs(gt - pred) / gt)\n",
    "\n",
    "        sq_rel = np.mean(((gt - pred) ** 2) / gt)\n",
    "\n",
    "        return abs_rel, sq_rel, rmse, rmse_log, a1, a2, a3\n",
    "\n",
    "    def reset(self):\n",
    "        self.accu = []\n",
    "        self.count = 0\n",
    "\n",
    "    def one_pair(self, image, depth):\n",
    "        image_batch = np.expand_dims(image, 0)\n",
    "        out = self.p.compute(image_batch)\n",
    "        out = np.squeeze(out['depth'])\n",
    "        out = cv2.resize(out, (image.shape[1], image.shape[0]), interpolation=cv2.INTER_LINEAR)\n",
    "\n",
    "        out = self.baseline * self.focal / (out + 0.0000001)\n",
    "        out = out / 800.0 # some magic number that I made up \n",
    "        global debug \n",
    "        debug = out\n",
    "\n",
    "        errors = self._compute_errors(depth+1e-5, out+1e-5)\n",
    "        self.accu.append(errors)\n",
    "        self.count += 1\n",
    "\n",
    "    def summarize(self):\n",
    "        names = ['abs_rel', 'sq_rel', 'rmse', 'rmse_log', 'a1', 'a2', 'a3']\n",
    "        errors = np.stack(self.accu, axis=0)\n",
    "        errors = np.mean(errors, 0)\n",
    "        out = {}\n",
    "        for i in range(len(names)):\n",
    "            out[names[i]] = errors[i]\n",
    "        return out\n",
    "\n",
    "\n",
    "modality = \"depth\" # \"seg\"\n",
    "\n",
    "perf = {\"depth\": DepthPerformance, \"seg\":None}[modality]()\n",
    "results = {}\n",
    "#for town in [\"Town01\", \"Town02\"]:\n",
    "for town in [\"Town02\"]:\n",
    "    results[town] = {}\n",
    "    for weather in range(1, 14):\n",
    "        perf.reset()\n",
    "        path = \"/scratch/yang/aws_data/carla_collect/\"+town + \"_allsensor/default_RotationPitch=0_WeatherId=\" +str(weather).zfill(2) + \"/data_00000.h5\"\n",
    "        f = h5py.File(path, \"r\")\n",
    "        for i in range(200):\n",
    "            #print(i)\n",
    "            image = f['CameraMiddle'][i]\n",
    "            image = cv2.imdecode(image, 1)\n",
    "            image = image[:,:, ::-1]\n",
    "\n",
    "            if modality == \"seg\":\n",
    "                seg = f['SegMiddle'][i]\n",
    "                mode_image = cv2.imdecode(seg, 0)\n",
    "            elif modality == \"depth\":\n",
    "                mode_image = f['DepthMiddle'][i]\n",
    "                mode_image = cv2.imdecode(mode_image, 1)\n",
    "                # TODO: convert it\n",
    "                def to_depth(array):\n",
    "                    # input is bgr\n",
    "                    array = array.astype(numpy.float32)\n",
    "                    # Apply (R + G * 256 + B * 256 * 256) / (256 * 256 * 256 - 1).\n",
    "                    normalized_depth = numpy.dot(array[:, :, :], [65536.0, 256.0, 1.0])\n",
    "                    normalized_depth /= 16777215.0 / 1000.0  # (256.0 * 256.0 * 256.0 - 1.0)\n",
    "                    return normalized_depth\n",
    "                mode_image = to_depth(mode_image)\n",
    "            else:\n",
    "                raise\n",
    "            \n",
    "            perf.reset()\n",
    "            perf.one_pair(image, mode_image)\n",
    "            print(perf.summarize())\n",
    "            raise\n",
    "            break\n",
    "        f.close()\n",
    "        print(town, \"weather\", weather, perf.summarize())\n",
    "        results[town][weather] = perf.summarize()\n",
    "        with open(modality + \".pkl\", \"w\") as ppp:\n",
    "            pickle.dump(results, ppp)\n",
    "\n"
   ]
  },
  {
   "cell_type": "code",
   "execution_count": null,
   "metadata": {},
   "outputs": [],
   "source": [
    "mode_image.dtype"
   ]
  },
  {
   "cell_type": "code",
   "execution_count": null,
   "metadata": {},
   "outputs": [],
   "source": [
    "(mode_image[:,:,0]==mode_image[:,:,2]).all()"
   ]
  },
  {
   "cell_type": "code",
   "execution_count": null,
   "metadata": {},
   "outputs": [],
   "source": [
    "np.histogram(mode_image)"
   ]
  },
  {
   "cell_type": "code",
   "execution_count": null,
   "metadata": {
    "collapsed": true
   },
   "outputs": [],
   "source": [
    "def to_gray(normalized_depth):\n",
    "    normalized_depth = normalized_depth /1000.0\n",
    "    logdepth = numpy.ones(normalized_depth.shape) + \\\n",
    "        (numpy.log(normalized_depth) / 5.70378)\n",
    "    logdepth = numpy.clip(logdepth, 0.0, 1.0)\n",
    "    logdepth *= 255.0\n",
    "    logdepth = np.uint8(logdepth)\n",
    "    # Expand to three colors.\n",
    "    return numpy.repeat(logdepth[:, :, numpy.newaxis], 3, axis=2)"
   ]
  },
  {
   "cell_type": "code",
   "execution_count": null,
   "metadata": {
    "scrolled": true
   },
   "outputs": [],
   "source": [
    "d=to_gray(mode_image)"
   ]
  },
  {
   "cell_type": "code",
   "execution_count": null,
   "metadata": {},
   "outputs": [],
   "source": [
    "d.dtype"
   ]
  },
  {
   "cell_type": "code",
   "execution_count": null,
   "metadata": {},
   "outputs": [],
   "source": [
    "mode_image"
   ]
  },
  {
   "cell_type": "code",
   "execution_count": null,
   "metadata": {
    "scrolled": false
   },
   "outputs": [],
   "source": [
    "Image.fromarray(to_gray(mode_image))"
   ]
  },
  {
   "cell_type": "code",
   "execution_count": null,
   "metadata": {},
   "outputs": [],
   "source": [
    "np.histogram(debug/3)"
   ]
  },
  {
   "cell_type": "code",
   "execution_count": null,
   "metadata": {},
   "outputs": [],
   "source": [
    "84642.0 / mode_image.size "
   ]
  },
  {
   "cell_type": "code",
   "execution_count": null,
   "metadata": {},
   "outputs": [],
   "source": [
    "np.histogram(mode_image)"
   ]
  },
  {
   "cell_type": "code",
   "execution_count": null,
   "metadata": {},
   "outputs": [],
   "source": [
    "Image.fromarray(to_gray(debug/3))"
   ]
  },
  {
   "cell_type": "markdown",
   "metadata": {},
   "source": [
    "# covnert matthias data to my format\n"
   ]
  },
  {
   "cell_type": "code",
   "execution_count": null,
   "metadata": {},
   "outputs": [],
   "source": [
    "path = \"/scratch/yang/aws_data/CIL_modular_data/matthias_data/RC28_wpz_M/data_00000.h5\"\n",
    "import h5py\n",
    "f=h5py.File(path, \"r\")"
   ]
  },
  {
   "cell_type": "code",
   "execution_count": null,
   "metadata": {},
   "outputs": [],
   "source": [
    "f.keys()"
   ]
  },
  {
   "cell_type": "code",
   "execution_count": null,
   "metadata": {},
   "outputs": [],
   "source": [
    "f['rgb'].shape"
   ]
  },
  {
   "cell_type": "code",
   "execution_count": null,
   "metadata": {},
   "outputs": [],
   "source": [
    "out = \"/scratch/yang/aws_data/carla_collect/matthias_converted/train/data_00000.h5\"\n",
    "hf=h5py.File(out, \"w\")"
   ]
  },
  {
   "cell_type": "code",
   "execution_count": null,
   "metadata": {},
   "outputs": [],
   "source": [
    "import numpy as np\n",
    "data_rewards = hf.create_dataset('targets', (200, 35), 'f')\n",
    "dt = h5py.special_dtype(vlen=np.dtype('uint8'))\n",
    "sensor = hf.create_dataset(\"CameraMiddle\", (200,), dtype=dt)"
   ]
  },
  {
   "cell_type": "code",
   "execution_count": null,
   "metadata": {},
   "outputs": [],
   "source": [
    "import cv2, math\n",
    "for i in range(200):\n",
    "    image = f['rgb'][i]\n",
    "    image = cv2.imencode(\".jpg\", image)[1]\n",
    "    encoded = np.fromstring(image, dtype=np.uint8)\n",
    "    sensor[i] = encoded\n",
    "    \n",
    "    line = f[\"targets\"][i]\n",
    "    # change speed\n",
    "    speed_kmh = line[10]\n",
    "    line[10] /= 3.6\n",
    "    # augment steer\n",
    "    angle = math.radians(30.0)\n",
    "    time_use = 1.0\n",
    "    car_lenght = 6.0\n",
    "    delta = min(6 * (math.atan((angle * car_lenght) / (time_use * speed_kmh + 0.05))) / math.pi, 0.3)\n",
    "    line[0] -= np.sign(line[26])*delta\n",
    "    \n",
    "    data_rewards[i, :] = line\n",
    "\n",
    "hf.close()\n",
    "f.close()"
   ]
  },
  {
   "cell_type": "code",
   "execution_count": null,
   "metadata": {},
   "outputs": [],
   "source": [
    "np.sign(0.01)"
   ]
  },
  {
   "cell_type": "code",
   "execution_count": null,
   "metadata": {},
   "outputs": [],
   "source": [
    "f.keys()"
   ]
  },
  {
   "cell_type": "code",
   "execution_count": null,
   "metadata": {},
   "outputs": [],
   "source": [
    "path = \"/scratch/yang/aws_data/CIL_modular_data/_benchmarks_results/mm45_v4_base_newseg_YangExp_Town02/metrics.json\"\n",
    "import json\n",
    "obj=json.load(open(path, \"r\"))"
   ]
  },
  {
   "cell_type": "code",
   "execution_count": null,
   "metadata": {},
   "outputs": [],
   "source": [
    "obj.keys()"
   ]
  },
  {
   "cell_type": "code",
   "execution_count": null,
   "metadata": {},
   "outputs": [],
   "source": [
    "obj['episodes_fully_completed'].keys()\n",
    "t = obj['episodes_fully_completed']"
   ]
  },
  {
   "cell_type": "code",
   "execution_count": null,
   "metadata": {},
   "outputs": [],
   "source": [
    "weathers = {\"train\": [\"1.0\", \"10.0\"],\n",
    "           \"val\": [\"13.0\", \"14.0\"]}\n",
    "for phase in [\"train\", \"val\"]:\n",
    "    for weather in weathers[phase]:\n",
    "        for task in range(len(t[weather])):\n",
    "            perf = np.mean(t[weather][task])\n",
    "            try:\n",
    "                nsample = len(t[weather][task])\n",
    "            except TypeError:\n",
    "                nsample = 0\n",
    "            \n",
    "            print(phase, \" weather \", weather, \" task \", task, \" average performance \", perf, \"(num sample %d)\" % nsample)\n"
   ]
  },
  {
   "cell_type": "code",
   "execution_count": null,
   "metadata": {
    "collapsed": true
   },
   "outputs": [],
   "source": [
    "import sys\n",
    "sys.path.append(\"./drive_interfaces/carla/carla_client/carla/driving_benchmark/experiment_suites/\")\n",
    "\n",
    "import experiment_suite\n",
    "class YangExp(experiment_suite.ExperimentSuite):\n",
    "\n",
    "    def set_train_weathers(self, weathers):\n",
    "        self.train_weathers_data = weathers\n",
    "\n",
    "    @property\n",
    "    def train_weathers(self):\n",
    "        return self.train_weathers_data\n"
   ]
  },
  {
   "cell_type": "code",
   "execution_count": null,
   "metadata": {},
   "outputs": [],
   "source": [
    "a = YangExp(\"Town01\")"
   ]
  },
  {
   "cell_type": "code",
   "execution_count": null,
   "metadata": {},
   "outputs": [],
   "source": [
    "a.set_train_weathers([1])"
   ]
  },
  {
   "cell_type": "code",
   "execution_count": null,
   "metadata": {},
   "outputs": [],
   "source": [
    "a.train_weathers"
   ]
  },
  {
   "cell_type": "code",
   "execution_count": null,
   "metadata": {},
   "outputs": [],
   "source": [
    "!cat ./drive_interfaces/carla/carla_client/carla/driving_benchmark/experiment_suites/experiment_suite.py"
   ]
  },
  {
   "cell_type": "code",
   "execution_count": null,
   "metadata": {
    "collapsed": true
   },
   "outputs": [],
   "source": [
    "path='/scratch/yang/aws_data/carla_collect/noiser_3cam_seg/default_RotationPitch=0_WeatherId=01/data_00000.h5'"
   ]
  },
  {
   "cell_type": "code",
   "execution_count": null,
   "metadata": {},
   "outputs": [],
   "source": [
    "import h5py"
   ]
  },
  {
   "cell_type": "code",
   "execution_count": null,
   "metadata": {},
   "outputs": [],
   "source": [
    "f=h5py.File(path)"
   ]
  },
  {
   "cell_type": "code",
   "execution_count": null,
   "metadata": {},
   "outputs": [],
   "source": [
    "f.keys()"
   ]
  },
  {
   "cell_type": "code",
   "execution_count": null,
   "metadata": {},
   "outputs": [],
   "source": [
    "a=f['SegMiddle'][0]"
   ]
  },
  {
   "cell_type": "code",
   "execution_count": null,
   "metadata": {
    "collapsed": true
   },
   "outputs": [],
   "source": [
    "b=f['CameraMiddle'][0]"
   ]
  },
  {
   "cell_type": "code",
   "execution_count": null,
   "metadata": {
    "collapsed": true
   },
   "outputs": [],
   "source": [
    "import cv2\n",
    "a=cv2.imdecode(a, 1)\n",
    "a = a[:,:,::-1]"
   ]
  },
  {
   "cell_type": "code",
   "execution_count": null,
   "metadata": {
    "collapsed": true
   },
   "outputs": [],
   "source": [
    "b=cv2.imdecode(b,1)\n",
    "b = b[:,:,::-1]"
   ]
  },
  {
   "cell_type": "code",
   "execution_count": null,
   "metadata": {},
   "outputs": [],
   "source": [
    "from PIL import Image\n",
    "import numpy as np\n",
    "Image.fromarray((a).astype(np.uint8)*80)"
   ]
  },
  {
   "cell_type": "code",
   "execution_count": null,
   "metadata": {
    "scrolled": false
   },
   "outputs": [],
   "source": [
    "Image.fromarray(b)"
   ]
  },
  {
   "cell_type": "code",
   "execution_count": null,
   "metadata": {
    "collapsed": true
   },
   "outputs": [],
   "source": [
    "from scipy.ndimage.filters import gaussian_filter\n",
    "import copy\n",
    "\n",
    "def get_boundary(oldseg):\n",
    "    seg = copy.deepcopy(oldseg)\n",
    "    seg[seg==2]=8\n",
    "    ind7 = (seg==7)\n",
    "    hyp1 = np.logical_and(np.concatenate((seg[1:, :], np.zeros((1,seg.shape[1]))), axis=0) == 8, ind7)\n",
    "    hyp2 = np.logical_and(np.concatenate((np.zeros((1,seg.shape[1])), seg[:-1, :]), axis=0) == 8, ind7)\n",
    "    hyp3 = np.logical_and(np.concatenate((seg[:, 1:], np.zeros((seg.shape[0],1))), axis=1) == 8, ind7)\n",
    "    hyp4 = np.logical_and(np.concatenate((np.zeros((seg.shape[0],1)), seg[:, :-1]), axis=1) == 8, ind7)\n",
    "    lor = np.logical_or\n",
    "    final = lor(lor(lor(hyp1, hyp2), hyp3), hyp4)\n",
    "    \n",
    "    e=gaussian_filter(final*1.0, 10, mode='constant')\n",
    "    e = (e*1000).astype(np.uint8)\n",
    "    e = (e>0)\n",
    "    \n",
    "    e = np.logical_or(e, oldseg==2)\n",
    "    return e\n",
    "    \n",
    "def augment(camera, seg):\n",
    "    camera = copy.deepcopy(camera)\n",
    "    seg = copy.deepcopy(seg)\n",
    "    seg = seg[:,:,0]\n",
    "    ind = (seg==6)\n",
    "    \n",
    "    xs, ys = np.where(ind)\n",
    "    ysp = np.minimum(ys + np.random.randint(-30,30), camera.shape[1]-1)\n",
    "    camera[xs, ys, :] = camera[xs, ysp, :]\n",
    "    \n",
    "    bound = get_boundary(seg)\n",
    "    xs, ys = np.where(bound)\n",
    "    ysp = ys + np.random.randint(-40, 40, size = ys.shape)\n",
    "    ysp = np.minimum(camera.shape[1]-1, np.maximum(0, ysp))\n",
    "    camera[xs, ys,:] = camera[xs, ysp,:]\n",
    "    \n",
    "    return camera"
   ]
  },
  {
   "cell_type": "code",
   "execution_count": null,
   "metadata": {
    "scrolled": false
   },
   "outputs": [],
   "source": [
    "c = augment(b, a)\n",
    "Image.fromarray(c)"
   ]
  },
  {
   "cell_type": "code",
   "execution_count": null,
   "metadata": {},
   "outputs": [],
   "source": [
    "d=a\n",
    "d[d==2]=8\n",
    "Image.fromarray(d*100)"
   ]
  },
  {
   "cell_type": "code",
   "execution_count": null,
   "metadata": {},
   "outputs": [],
   "source": [
    "seg=d[:,:,0]"
   ]
  },
  {
   "cell_type": "code",
   "execution_count": null,
   "metadata": {},
   "outputs": [],
   "source": [
    "ind7 = (seg==7)\n",
    "hyp1 = np.logical_and(np.concatenate((seg[1:, :], np.zeros((1,seg.shape[1]))), axis=0) == 8, ind7)\n",
    "hyp2 = np.logical_and(np.concatenate((np.zeros((1,seg.shape[1])), seg[:-1, :]), axis=0) == 8, ind7)\n",
    "hyp3 = np.logical_and(np.concatenate((seg[:, 1:], np.zeros((seg.shape[0],1))), axis=1) == 8, ind7)\n",
    "hyp4 = np.logical_and(np.concatenate((np.zeros((seg.shape[0],1)), seg[:, :-1]), axis=1) == 8, ind7)\n",
    "lor = np.logical_or\n",
    "final = lor(lor(lor(hyp1, hyp2), hyp3), hyp4)\n",
    "Image.fromarray(final.astype(np.uint8)*100)"
   ]
  },
  {
   "cell_type": "code",
   "execution_count": null,
   "metadata": {},
   "outputs": [],
   "source": [
    "from scipy.ndimage.filters import gaussian_filter\n",
    "e=gaussian_filter(final*1.0, 10, mode='mirror')\n",
    "\n",
    "e = (e*1000).astype(np.uint8)\n",
    "e = (e>0)\n",
    "Image.fromarray(e.astype(np.uint8)*100)"
   ]
  },
  {
   "cell_type": "code",
   "execution_count": 357,
   "metadata": {},
   "outputs": [
    {
     "data": {
      "image/png": "[encoded data removed]",
      "text/plain": [
       "<PIL.Image.Image image mode=L size=52x39 at 0x7F533E36AED0>"
      ]
     },
     "execution_count": 357,
     "metadata": {},
     "output_type": "execute_result"
    }
   ],
   "source": [
    "import random\n",
    "H = 39\n",
    "W = 52\n",
    "size = np.random.randint(39*52//8, 39*52//3)\n",
    "diversity_prob = 0.05\n",
    "    \n",
    "def random_region(H, W, size, diversity_prob):\n",
    "    image = np.zeros((H, W), dtype=np.bool)\n",
    "    openlist = []\n",
    "\n",
    "    def check_neighbours(image, point):\n",
    "        x, y = point\n",
    "        res = []\n",
    "\n",
    "        for direction in ((-1, 0), (1, 0), (0, 1), (0, -1)):\n",
    "            newx = x + direction[0]\n",
    "            newy = y + direction[1]\n",
    "            if newx >= 0 and newx<image.shape[0] and newy>=0 and newy<image.shape[1]:\n",
    "                if image[newx, newy] == 0:\n",
    "                    res.append((newx, newy))\n",
    "        return res\n",
    "\n",
    "    i=0\n",
    "    while i < size:\n",
    "        if openlist == []:\n",
    "            x = np.random.randint(0, H)\n",
    "            y = np.random.randint(0, W)\n",
    "            openlist.append((x, y))\n",
    "            image[x, y] = 1\n",
    "            i+=1\n",
    "        else:\n",
    "            if np.random.rand() < diversity_prob:\n",
    "                x = np.random.randint(0, H)\n",
    "                y = np.random.randint(0, W)\n",
    "                if image[x, y] == 0:\n",
    "                    openlist.append((x, y))\n",
    "                    image[x, y] = 1\n",
    "                    i += 1\n",
    "                    continue\n",
    "\n",
    "            # random a point from the open list\n",
    "            j = np.random.randint(0, len(openlist))\n",
    "            point = openlist[j]\n",
    "            res = check_neighbours(image, point)\n",
    "            if len(res) == 0:\n",
    "                openlist = openlist[0:j] + openlist[j+1:]\n",
    "            else:\n",
    "                nex = random.choice(res)\n",
    "                openlist.append(nex)\n",
    "                image[nex[0], nex[1]] = 1\n",
    "                i += 1\n",
    "    return image\n",
    "\n",
    "image = random_region(H, W, size, diversity_prob)\n",
    "Image.fromarray(image.astype(np.uint8)*100)\n",
    "    "
   ]
  },
  {
   "cell_type": "code",
   "execution_count": 362,
   "metadata": {},
   "outputs": [
    {
     "name": "stdout",
     "output_type": "stream",
     "text": [
      "find /scratch/yang/aws_data/CIL_modular_data/_benchmarks_results/mm45_v4_base_newseg_noiser_3cams_1,2,3,4,5,6,7,8,9,10,11,12,13,14_YangExp3cam_Town01/ -name 00*png -print | xargs rm\n"
     ]
    },
    {
     "data": {
      "text/plain": [
       "123"
      ]
     },
     "execution_count": 362,
     "metadata": {},
     "output_type": "execute_result"
    }
   ],
   "source": [
    "from subprocess import call\n",
    "temp_image_path = \"/scratch/yang/aws_data/CIL_modular_data/_benchmarks_results/mm45_v4_base_newseg_noiser_3cams_1,2,3,4,5,6,7,8,9,10,11,12,13,14_YangExp3cam_Town01/\"\n",
    "cmd = [\"find\", temp_image_path, \"-name\", \"00*png\", \"-print | xargs rm\"]\n",
    "print(\" \".join(cmd))\n",
    "call(\" \".join(cmd), shell=True)"
   ]
  },
  {
   "cell_type": "code",
   "execution_count": 363,
   "metadata": {
    "collapsed": true
   },
   "outputs": [],
   "source": [
    "!cd ..\n"
   ]
  },
  {
   "cell_type": "code",
   "execution_count": 366,
   "metadata": {},
   "outputs": [],
   "source": [
    "import sys\n",
    "sys.path.append(\"../\")\n",
    "from all_perceptions import Perceptions"
   ]
  },
  {
   "cell_type": "code",
   "execution_count": 367,
   "metadata": {},
   "outputs": [
    {
     "name": "stdout",
     "output_type": "stream",
     "text": [
      "('Model ', 'seg', ' replicate ', 0, ' is using GPU ', '7')\n",
      "begin initialization\n",
      "initialization finished\n"
     ]
    }
   ],
   "source": [
    "perceptions = Perceptions(det_COCO=False,\n",
    "                          det_TL=False,\n",
    "                          det_TS=False,\n",
    "                          seg=True,\n",
    "                          depth=False,\n",
    "                          batch_size=1,\n",
    "                          gpu_assignment=[7],\n",
    "                          compute_methods={},\n",
    "                          viz_methods={},\n",
    "                          path_config=\"path_jormungandr_newseg\")"
   ]
  },
  {
   "cell_type": "code",
   "execution_count": 376,
   "metadata": {
    "collapsed": true
   },
   "outputs": [],
   "source": [
    "def tester(perceptions):\n",
    "    img = np.zeros((1, 256,256, 3), dtype=np.uint8)\n",
    "    return perceptions.compute(img)"
   ]
  },
  {
   "cell_type": "code",
   "execution_count": 377,
   "metadata": {
    "collapsed": true
   },
   "outputs": [],
   "source": [
    "from multiprocessing import Process\n",
    "p = Process(target=tester, args=(perceptions,))"
   ]
  },
  {
   "cell_type": "code",
   "execution_count": 380,
   "metadata": {},
   "outputs": [],
   "source": [
    "#p.start()\n",
    "p.join()"
   ]
  },
  {
   "cell_type": "code",
   "execution_count": 395,
   "metadata": {},
   "outputs": [
    {
     "name": "stdout",
     "output_type": "stream",
     "text": [
      "from all_perceptions import Perceptions\r\n",
      "from multiprocessing import Lock\r\n",
      "\r\n",
      "class PerceptionsMultiprocess():\r\n",
      "    def __init__(self, **kwargs):\r\n",
      "        #self.perception = Perceptions(**kwargs)\r\n",
      "        self.lock = Lock()\r\n",
      "\r\n",
      "    def all_in_one(self, image_input):\r\n",
      "        self.lock.acquire()\r\n",
      "        compute = image_input\r\n",
      "        self.lock.release()\r\n",
      "        print(compute)\r\n",
      "        return compute\r\n",
      "\r\n",
      "    def destroy(self):\r\n",
      "        self.perception.destroy()\r\n",
      "\r\n"
     ]
    }
   ],
   "source": [
    "!cat ../perceptions_multiprocess.py"
   ]
  },
  {
   "cell_type": "code",
   "execution_count": 399,
   "metadata": {},
   "outputs": [],
   "source": [
    "import perceptions_multiprocess\n",
    "reload(perceptions_multiprocess)\n",
    "\n",
    "p = perceptions_multiprocess.PerceptionsMultiprocess()"
   ]
  },
  {
   "cell_type": "code",
   "execution_count": 402,
   "metadata": {
    "collapsed": true
   },
   "outputs": [],
   "source": [
    "def tester(p, l):\n",
    "    for i in l:\n",
    "        print(i)\n",
    "        out = p.all_in_one(i)\n",
    "        print(out)\n",
    "\n",
    "        \n",
    "process = Process(target=tester, args=(p, range(10)))\n"
   ]
  },
  {
   "cell_type": "code",
   "execution_count": 401,
   "metadata": {},
   "outputs": [
    {
     "name": "stdout",
     "output_type": "stream",
     "text": [
      "888\n"
     ]
    },
    {
     "data": {
      "text/plain": [
       "888"
      ]
     },
     "execution_count": 401,
     "metadata": {},
     "output_type": "execute_result"
    }
   ],
   "source": [
    "p.all_in_one(888)"
   ]
  },
  {
   "cell_type": "code",
   "execution_count": 3,
   "metadata": {},
   "outputs": [],
   "source": [
    "path = \"/scratch/yang/aws_data/carla_collect/steer103_v2_dir\"\n",
    "\n",
    "path = \"/scratch/yang/aws_data/carla_collect/steer103_v2_dir/default_RotationPitch=5_WeatherId=12/data_00000.h5\"\n",
    "import h5py\n",
    "a=h5py.File(path, \"r\")"
   ]
  },
  {
   "cell_type": "code",
   "execution_count": 5,
   "metadata": {},
   "outputs": [
    {
     "data": {
      "text/plain": [
       "[u'CameraLeft',\n",
       " u'CameraMiddle',\n",
       " u'CameraRight',\n",
       " u'SegLeft',\n",
       " u'SegMiddle',\n",
       " u'SegRight',\n",
       " u'targets']"
      ]
     },
     "execution_count": 5,
     "metadata": {},
     "output_type": "execute_result"
    }
   ],
   "source": [
    "a.keys()"
   ]
  },
  {
   "cell_type": "code",
   "execution_count": 18,
   "metadata": {},
   "outputs": [],
   "source": [
    "import os, glob\n",
    "from subprocess import call\n",
    "images = []\n",
    "sample = 0\n",
    "out_base = \"/scratch/yang/aws_data/carla_collect/steer103_v2_dir/investigate/\"\n",
    "for path in glob.glob(\"/scratch/yang/aws_data/carla_collect/steer103_v2_dir/default_RotationPitch=5_WeatherId=*/data_000*.h5\"):\n",
    "    a=h5py.File(path, \"r\")\n",
    "    for i, value in enumerate(a['targets'][:, 24]):\n",
    "        if value == 5.0:\n",
    "            images.append(a['CameraMiddle'][i])\n",
    "        elif len(images) > 0:\n",
    "            this = 0\n",
    "            for image in images:\n",
    "                this_name = os.path.join(out_base, \"%04d.jpg\" % this)\n",
    "                with open(this_name, \"w\") as f:\n",
    "                    f.write(image)\n",
    "                this += 1\n",
    "\n",
    "            cmd = [\"ffmpeg\", \"-y\", \"-i\",  out_base+\"/%04d.jpg\", \"-c:v\", \"libx264\", out_base+str(sample).zfill(4)+\".mp4\"]\n",
    "            call(\" \".join(cmd), shell=True)\n",
    "            cmd = [\"find\", out_base, \"-name\", \"*jpg\", \"-print | xargs rm\"]\n",
    "            call(\" \".join(cmd), shell=True)\n",
    "\n",
    "            sample += 1\n",
    "            images = []"
   ]
  },
  {
   "cell_type": "code",
   "execution_count": 1,
   "metadata": {},
   "outputs": [
    {
     "name": "stderr",
     "output_type": "stream",
     "text": [
      "/home/yang/anaconda2/lib/python2.7/site-packages/h5py/__init__.py:34: FutureWarning: Conversion of the second argument of issubdtype from `float` to `np.floating` is deprecated. In future, it will be treated as `np.float64 == np.dtype(float).type`.\n",
      "  from ._conv import register_converters as _register_converters\n"
     ]
    }
   ],
   "source": [
    "import h5py\n",
    "path = \"/scratch/yang/aws_data/carla_collect/steer103_v2_dir/default_PositionZ=1.4_WeatherId=01/data_00000.h5\"\n",
    "f = h5py.File(path, 'r')"
   ]
  },
  {
   "cell_type": "code",
   "execution_count": 2,
   "metadata": {},
   "outputs": [
    {
     "data": {
      "text/plain": [
       "[u'CameraLeft',\n",
       " u'CameraMiddle',\n",
       " u'CameraRight',\n",
       " u'SegLeft',\n",
       " u'SegMiddle',\n",
       " u'SegRight',\n",
       " u'targets']"
      ]
     },
     "execution_count": 2,
     "metadata": {},
     "output_type": "execute_result"
    }
   ],
   "source": [
    "f.keys()"
   ]
  },
  {
   "cell_type": "code",
   "execution_count": 6,
   "metadata": {},
   "outputs": [],
   "source": [
    "x = f['targets'][:, 8]\n",
    "y = f['targets'][:, 9]\n",
    "time = f['targets'][:, 20]\n",
    "is_noisy = (f['targets'][:, 0] == f['targets'][:, 5])"
   ]
  },
  {
   "cell_type": "code",
   "execution_count": null,
   "metadata": {
    "collapsed": true
   },
   "outputs": [],
   "source": [
    "import numpy as np\n",
    "import math\n",
    "\n",
    "sldist = lambda c1, c2: math.sqrt((c2[0] - c1[0]) ** 2 + (c2[1] - c1[1]) ** 2)\n",
    "def compute_waypoints(x, y, time, is_noisy, future_time):\n",
    "    # return a list of true or false indicating whether this appears in the end or not\n",
    "    # for each true point, returns the expected waypoints\n",
    "    # \n",
    "    data = np.stack([x, y, time, is_noisy], axis=0)\n",
    "    # 4 * N matrix\n",
    "    is_seperate = lambda pos1, pos2: sldist(pos1, pos2) > 0.2 * 9.7 * 1.5\n",
    "    \n",
    "    # seperate the parts in to multiple subsequences\n",
    "    seqs = []\n",
    "    last_i = 0\n",
    "    for i in range(data.shape[1]-1):\n",
    "        if is_seperate(data[:2, i], data[:2, i+1]):\n",
    "            seqs.append(data[:, last_i:i+1])\n",
    "            last_i = i+1\n",
    "    \n",
    "    flattened_indicator = []\n",
    "    out_waypoints = []\n",
    "    for seq in seqs:\n",
    "        # seq is 4*N\n",
    "        N = seq.shape[1]\n",
    "        if N < 3: \n",
    "            flattened_indicator += [False] * N\n",
    "            continue\n",
    "        \n",
    "        # this is asserting we have a constant step size\n",
    "        step_time = seq[2, 1] - seq[2, 0]\n",
    "        step_time /= 1000.0 # convert it to second\n",
    "        future_steps = int(math.ceil(future_time / step_time))\n",
    "\n",
    "        for i in range(N-future_steps):\n",
    "            if any(seq[3, i:(i+future_steps)]):\n",
    "                # if any of the future data point is noisy, then we ignore this\n",
    "                flattened_indicator.append(False)\n",
    "                continue\n",
    "            else:\n",
    "                # None of the future is noisy\n",
    "                flattened_indicator.append(True)\n",
    "                # begin computation of the waypoints\n",
    "                this_waypoint = []\n",
    "                for j in range(1, future_steps):\n",
    "                    delta = seq[:2, i+j] - seq[:2, i]\n",
    "                    this_waypoint.append(delta)\n",
    "                out_waypoints.append(this_waypoint)"
   ]
  },
  {
   "cell_type": "code",
   "execution_count": null,
   "metadata": {
    "collapsed": true
   },
   "outputs": [],
   "source": [
    "# we also need the traffic light, all of sudden pedestrain not considered"
   ]
  },
  {
   "cell_type": "code",
   "execution_count": 12,
   "metadata": {},
   "outputs": [
    {
     "data": {
      "text/plain": [
       "False"
      ]
     },
     "execution_count": 12,
     "metadata": {},
     "output_type": "execute_result"
    }
   ],
   "source": [
    "all([True, True, False])"
   ]
  },
  {
   "cell_type": "code",
   "execution_count": 9,
   "metadata": {},
   "outputs": [
    {
     "data": {
      "text/plain": [
       "array([ 4200.,  4400.,  4600.,  4800.,  5000.,  5200.,  5400.,  5600.,\n",
       "        5800.,  6000.,  6200.,  6400.,  6600.,  6800.,  7000.,  7200.,\n",
       "        7400.,  7600.,  7800.,  8000.,  8200.,  8400.,  8600.,  8800.,\n",
       "        9000.,  9200.,  9400.,  9600.,  9800., 10000., 10200., 10400.,\n",
       "       10600., 10800., 11000., 11200., 11400., 11600., 11800., 12000.,\n",
       "       12200., 12400., 12600., 12800., 13000., 13200., 13400., 13600.,\n",
       "       13800., 14000., 14200., 14400., 14600., 14800., 15000., 15200.,\n",
       "       15400., 15600., 15800., 16000., 16200., 16400., 16600., 16800.,\n",
       "       17000., 17200., 17400., 17600., 17800., 18000., 18200., 18400.,\n",
       "       18600., 18800., 19000., 19200., 19400., 19600., 19800., 20000.,\n",
       "       20200., 20400., 20600., 20800., 21000., 21200., 21400., 21600.,\n",
       "       21800., 22000., 22200., 22400., 22600., 22800., 23000., 23200.,\n",
       "       23400., 23600., 23800., 24000., 24200., 24400., 24600., 24800.,\n",
       "       25000., 25200., 25400., 25600., 25800., 26000., 26200., 26400.,\n",
       "       26600., 26800., 27000., 27200., 27400., 27600., 27800., 28000.,\n",
       "       28200., 28400., 28600., 28800., 29000., 29200., 29400., 29600.,\n",
       "       29800., 30000., 30200., 30400., 30600., 30800., 31000., 31200.,\n",
       "       31400., 31600., 31800., 32000., 32200., 32400., 32600., 32800.,\n",
       "       33000., 33200., 33400., 33600., 33800., 34000., 34200., 34400.,\n",
       "       34600., 34800., 35000., 35200., 35400., 35600., 35800., 36000.,\n",
       "       36200., 36400., 36600., 36800., 37000., 37200., 37400., 37600.,\n",
       "       37800., 38000., 38200., 38400., 38600., 38800., 39000., 39200.,\n",
       "       39400., 39600., 39800., 40000., 40200., 40400., 40600., 40800.,\n",
       "       41000., 41200., 41400., 41600., 41800., 42000., 42200., 42400.,\n",
       "       42600., 42800., 43000., 43200., 43400., 43600., 43800., 44000.],\n",
       "      dtype=float32)"
      ]
     },
     "execution_count": 9,
     "metadata": {},
     "output_type": "execute_result"
    }
   ],
   "source": [
    "time"
   ]
  },
  {
   "cell_type": "code",
   "execution_count": 7,
   "metadata": {},
   "outputs": [
    {
     "data": {
      "text/plain": [
       "array([False, False, False, False,  True,  True,  True, False, False,\n",
       "       False, False, False, False, False, False,  True,  True,  True,\n",
       "       False, False, False, False, False, False, False, False,  True,\n",
       "        True,  True, False, False, False, False, False, False,  True,\n",
       "        True,  True, False, False, False, False, False, False, False,\n",
       "       False, False, False, False, False,  True,  True,  True, False,\n",
       "       False, False, False, False, False, False, False, False, False,\n",
       "        True,  True,  True, False, False, False, False, False, False,\n",
       "       False, False, False, False,  True,  True,  True,  True,  True,\n",
       "        True, False, False, False, False, False, False, False, False,\n",
       "        True,  True, False, False, False, False, False, False, False,\n",
       "       False,  True,  True, False, False, False, False, False, False,\n",
       "       False,  True,  True, False, False, False, False, False, False,\n",
       "       False, False,  True,  True,  True,  True, False, False, False,\n",
       "       False, False,  True,  True, False, False, False, False, False,\n",
       "       False, False, False,  True,  True, False, False, False, False,\n",
       "        True,  True,  True,  True, False, False, False, False, False,\n",
       "       False, False, False,  True,  True,  True,  True,  True,  True,\n",
       "        True, False, False, False, False, False, False,  True,  True,\n",
       "       False, False, False, False, False, False,  True,  True, False,\n",
       "       False, False, False, False, False,  True,  True,  True,  True,\n",
       "       False, False, False, False, False, False, False, False, False,\n",
       "        True,  True])"
      ]
     },
     "execution_count": 7,
     "metadata": {},
     "output_type": "execute_result"
    }
   ],
   "source": [
    "is_noisy"
   ]
  },
  {
   "cell_type": "markdown",
   "metadata": {},
   "source": [
    "# Try to cluster the trajectories"
   ]
  },
  {
   "cell_type": "code",
   "execution_count": 1055,
   "metadata": {},
   "outputs": [
    {
     "name": "stdout",
     "output_type": "stream",
     "text": [
      "/scratch/yang/aws_data/carla_collect/steer103_v4_waypoint/default_ImageSizeX=700_WeatherId=01/data_00000.h5\n",
      "/scratch/yang/aws_data/carla_collect/steer103_v4_waypoint/default_ImageSizeX=700_WeatherId=01/data_00001.h5\n",
      "/scratch/yang/aws_data/carla_collect/steer103_v4_waypoint/default_ImageSizeX=700_WeatherId=01/data_00002.h5\n",
      "/scratch/yang/aws_data/carla_collect/steer103_v4_waypoint/default_ImageSizeX=700_WeatherId=01/data_00003.h5\n",
      "/scratch/yang/aws_data/carla_collect/steer103_v4_waypoint/default_ImageSizeX=700_WeatherId=01/data_00004.h5\n",
      "/scratch/yang/aws_data/carla_collect/steer103_v4_waypoint/default_ImageSizeX=700_WeatherId=01/data_00005.h5\n",
      "/scratch/yang/aws_data/carla_collect/steer103_v4_waypoint/default_ImageSizeX=700_WeatherId=01/data_00006.h5\n",
      "/scratch/yang/aws_data/carla_collect/steer103_v4_waypoint/default_ImageSizeX=700_WeatherId=02/data_00000.h5\n",
      "/scratch/yang/aws_data/carla_collect/steer103_v4_waypoint/default_ImageSizeX=700_WeatherId=02/data_00001.h5\n",
      "/scratch/yang/aws_data/carla_collect/steer103_v4_waypoint/default_ImageSizeX=700_WeatherId=02/data_00002.h5\n",
      "/scratch/yang/aws_data/carla_collect/steer103_v4_waypoint/default_ImageSizeX=700_WeatherId=02/data_00003.h5\n",
      "/scratch/yang/aws_data/carla_collect/steer103_v4_waypoint/default_ImageSizeX=700_WeatherId=02/data_00004.h5\n",
      "/scratch/yang/aws_data/carla_collect/steer103_v4_waypoint/default_ImageSizeX=700_WeatherId=02/data_00005.h5\n",
      "/scratch/yang/aws_data/carla_collect/steer103_v4_waypoint/default_ImageSizeX=700_WeatherId=02/data_00006.h5\n",
      "/scratch/yang/aws_data/carla_collect/steer103_v4_waypoint/default_ImageSizeX=700_WeatherId=03/data_00000.h5\n",
      "/scratch/yang/aws_data/carla_collect/steer103_v4_waypoint/default_ImageSizeX=700_WeatherId=03/data_00001.h5\n",
      "/scratch/yang/aws_data/carla_collect/steer103_v4_waypoint/default_ImageSizeX=700_WeatherId=03/data_00002.h5\n",
      "/scratch/yang/aws_data/carla_collect/steer103_v4_waypoint/default_ImageSizeX=700_WeatherId=03/data_00003.h5\n",
      "/scratch/yang/aws_data/carla_collect/steer103_v4_waypoint/default_ImageSizeX=700_WeatherId=03/data_00004.h5\n",
      "/scratch/yang/aws_data/carla_collect/steer103_v4_waypoint/default_ImageSizeX=700_WeatherId=03/data_00005.h5\n",
      "/scratch/yang/aws_data/carla_collect/steer103_v4_waypoint/default_ImageSizeX=700_WeatherId=03/data_00006.h5\n",
      "/scratch/yang/aws_data/carla_collect/steer103_v4_waypoint/default_ImageSizeX=700_WeatherId=03/data_00007.h5\n",
      "/scratch/yang/aws_data/carla_collect/steer103_v4_waypoint/default_ImageSizeX=700_WeatherId=04/data_00000.h5\n",
      "/scratch/yang/aws_data/carla_collect/steer103_v4_waypoint/default_ImageSizeX=700_WeatherId=04/data_00001.h5\n",
      "/scratch/yang/aws_data/carla_collect/steer103_v4_waypoint/default_ImageSizeX=700_WeatherId=04/data_00002.h5\n",
      "/scratch/yang/aws_data/carla_collect/steer103_v4_waypoint/default_ImageSizeX=700_WeatherId=04/data_00003.h5\n",
      "/scratch/yang/aws_data/carla_collect/steer103_v4_waypoint/default_ImageSizeX=700_WeatherId=04/data_00004.h5\n",
      "/scratch/yang/aws_data/carla_collect/steer103_v4_waypoint/default_ImageSizeX=700_WeatherId=04/data_00005.h5\n",
      "/scratch/yang/aws_data/carla_collect/steer103_v4_waypoint/default_ImageSizeX=700_WeatherId=04/data_00006.h5\n",
      "/scratch/yang/aws_data/carla_collect/steer103_v4_waypoint/default_ImageSizeX=700_WeatherId=05/data_00000.h5\n",
      "/scratch/yang/aws_data/carla_collect/steer103_v4_waypoint/default_ImageSizeX=700_WeatherId=05/data_00001.h5\n",
      "/scratch/yang/aws_data/carla_collect/steer103_v4_waypoint/default_ImageSizeX=700_WeatherId=05/data_00002.h5\n",
      "/scratch/yang/aws_data/carla_collect/steer103_v4_waypoint/default_ImageSizeX=700_WeatherId=05/data_00003.h5\n",
      "/scratch/yang/aws_data/carla_collect/steer103_v4_waypoint/default_ImageSizeX=700_WeatherId=05/data_00004.h5\n",
      "/scratch/yang/aws_data/carla_collect/steer103_v4_waypoint/default_ImageSizeX=700_WeatherId=05/data_00005.h5\n",
      "/scratch/yang/aws_data/carla_collect/steer103_v4_waypoint/default_ImageSizeX=700_WeatherId=05/data_00006.h5\n",
      "/scratch/yang/aws_data/carla_collect/steer103_v4_waypoint/default_ImageSizeX=700_WeatherId=05/data_00007.h5\n",
      "/scratch/yang/aws_data/carla_collect/steer103_v4_waypoint/default_ImageSizeX=700_WeatherId=06/data_00000.h5\n",
      "/scratch/yang/aws_data/carla_collect/steer103_v4_waypoint/default_ImageSizeX=700_WeatherId=06/data_00001.h5\n",
      "/scratch/yang/aws_data/carla_collect/steer103_v4_waypoint/default_ImageSizeX=700_WeatherId=06/data_00002.h5\n",
      "/scratch/yang/aws_data/carla_collect/steer103_v4_waypoint/default_ImageSizeX=700_WeatherId=06/data_00003.h5\n",
      "/scratch/yang/aws_data/carla_collect/steer103_v4_waypoint/default_ImageSizeX=700_WeatherId=06/data_00004.h5\n",
      "/scratch/yang/aws_data/carla_collect/steer103_v4_waypoint/default_ImageSizeX=700_WeatherId=06/data_00005.h5\n",
      "/scratch/yang/aws_data/carla_collect/steer103_v4_waypoint/default_ImageSizeX=700_WeatherId=06/data_00006.h5\n",
      "/scratch/yang/aws_data/carla_collect/steer103_v4_waypoint/default_ImageSizeX=700_WeatherId=07/data_00000.h5\n",
      "/scratch/yang/aws_data/carla_collect/steer103_v4_waypoint/default_ImageSizeX=700_WeatherId=07/data_00001.h5\n",
      "/scratch/yang/aws_data/carla_collect/steer103_v4_waypoint/default_ImageSizeX=700_WeatherId=07/data_00002.h5\n",
      "/scratch/yang/aws_data/carla_collect/steer103_v4_waypoint/default_ImageSizeX=700_WeatherId=07/data_00003.h5\n",
      "/scratch/yang/aws_data/carla_collect/steer103_v4_waypoint/default_ImageSizeX=700_WeatherId=07/data_00004.h5\n",
      "/scratch/yang/aws_data/carla_collect/steer103_v4_waypoint/default_ImageSizeX=700_WeatherId=07/data_00005.h5\n",
      "/scratch/yang/aws_data/carla_collect/steer103_v4_waypoint/default_ImageSizeX=700_WeatherId=07/data_00006.h5\n",
      "/scratch/yang/aws_data/carla_collect/steer103_v4_waypoint/default_ImageSizeX=700_WeatherId=08/data_00000.h5\n",
      "/scratch/yang/aws_data/carla_collect/steer103_v4_waypoint/default_ImageSizeX=700_WeatherId=08/data_00001.h5\n",
      "/scratch/yang/aws_data/carla_collect/steer103_v4_waypoint/default_ImageSizeX=700_WeatherId=08/data_00002.h5\n",
      "/scratch/yang/aws_data/carla_collect/steer103_v4_waypoint/default_ImageSizeX=700_WeatherId=08/data_00003.h5\n",
      "/scratch/yang/aws_data/carla_collect/steer103_v4_waypoint/default_ImageSizeX=700_WeatherId=08/data_00004.h5\n",
      "/scratch/yang/aws_data/carla_collect/steer103_v4_waypoint/default_ImageSizeX=700_WeatherId=08/data_00005.h5\n",
      "/scratch/yang/aws_data/carla_collect/steer103_v4_waypoint/default_ImageSizeX=700_WeatherId=08/data_00006.h5\n",
      "/scratch/yang/aws_data/carla_collect/steer103_v4_waypoint/default_ImageSizeX=700_WeatherId=09/data_00000.h5\n",
      "/scratch/yang/aws_data/carla_collect/steer103_v4_waypoint/default_ImageSizeX=700_WeatherId=09/data_00001.h5\n",
      "/scratch/yang/aws_data/carla_collect/steer103_v4_waypoint/default_ImageSizeX=700_WeatherId=09/data_00002.h5\n",
      "/scratch/yang/aws_data/carla_collect/steer103_v4_waypoint/default_ImageSizeX=700_WeatherId=09/data_00003.h5\n",
      "/scratch/yang/aws_data/carla_collect/steer103_v4_waypoint/default_ImageSizeX=700_WeatherId=09/data_00004.h5\n",
      "/scratch/yang/aws_data/carla_collect/steer103_v4_waypoint/default_ImageSizeX=700_WeatherId=09/data_00005.h5\n",
      "/scratch/yang/aws_data/carla_collect/steer103_v4_waypoint/default_ImageSizeX=700_WeatherId=09/data_00006.h5\n",
      "/scratch/yang/aws_data/carla_collect/steer103_v4_waypoint/default_ImageSizeX=700_WeatherId=10/data_00000.h5\n",
      "/scratch/yang/aws_data/carla_collect/steer103_v4_waypoint/default_ImageSizeX=700_WeatherId=10/data_00001.h5\n",
      "/scratch/yang/aws_data/carla_collect/steer103_v4_waypoint/default_ImageSizeX=700_WeatherId=10/data_00002.h5\n",
      "/scratch/yang/aws_data/carla_collect/steer103_v4_waypoint/default_ImageSizeX=700_WeatherId=10/data_00003.h5\n",
      "/scratch/yang/aws_data/carla_collect/steer103_v4_waypoint/default_ImageSizeX=700_WeatherId=10/data_00004.h5\n",
      "/scratch/yang/aws_data/carla_collect/steer103_v4_waypoint/default_ImageSizeX=700_WeatherId=10/data_00005.h5\n",
      "/scratch/yang/aws_data/carla_collect/steer103_v4_waypoint/default_ImageSizeX=700_WeatherId=10/data_00006.h5\n",
      "/scratch/yang/aws_data/carla_collect/steer103_v4_waypoint/default_ImageSizeX=700_WeatherId=10/data_00007.h5\n",
      "/scratch/yang/aws_data/carla_collect/steer103_v4_waypoint/default_ImageSizeX=700_WeatherId=11/data_00000.h5\n",
      "/scratch/yang/aws_data/carla_collect/steer103_v4_waypoint/default_ImageSizeX=700_WeatherId=11/data_00001.h5\n",
      "/scratch/yang/aws_data/carla_collect/steer103_v4_waypoint/default_ImageSizeX=700_WeatherId=11/data_00002.h5\n",
      "/scratch/yang/aws_data/carla_collect/steer103_v4_waypoint/default_ImageSizeX=700_WeatherId=11/data_00003.h5\n",
      "/scratch/yang/aws_data/carla_collect/steer103_v4_waypoint/default_ImageSizeX=700_WeatherId=11/data_00004.h5\n",
      "/scratch/yang/aws_data/carla_collect/steer103_v4_waypoint/default_ImageSizeX=700_WeatherId=11/data_00005.h5\n",
      "/scratch/yang/aws_data/carla_collect/steer103_v4_waypoint/default_ImageSizeX=700_WeatherId=11/data_00006.h5\n",
      "/scratch/yang/aws_data/carla_collect/steer103_v4_waypoint/default_ImageSizeX=700_WeatherId=12/data_00000.h5\n",
      "/scratch/yang/aws_data/carla_collect/steer103_v4_waypoint/default_ImageSizeX=700_WeatherId=12/data_00001.h5\n",
      "/scratch/yang/aws_data/carla_collect/steer103_v4_waypoint/default_ImageSizeX=700_WeatherId=12/data_00002.h5\n",
      "/scratch/yang/aws_data/carla_collect/steer103_v4_waypoint/default_ImageSizeX=700_WeatherId=12/data_00003.h5\n",
      "/scratch/yang/aws_data/carla_collect/steer103_v4_waypoint/default_ImageSizeX=700_WeatherId=12/data_00004.h5\n",
      "/scratch/yang/aws_data/carla_collect/steer103_v4_waypoint/default_ImageSizeX=700_WeatherId=12/data_00005.h5\n",
      "/scratch/yang/aws_data/carla_collect/steer103_v4_waypoint/default_ImageSizeX=700_WeatherId=12/data_00006.h5\n",
      "/scratch/yang/aws_data/carla_collect/steer103_v4_waypoint/default_ImageSizeX=700_WeatherId=13/data_00000.h5\n",
      "/scratch/yang/aws_data/carla_collect/steer103_v4_waypoint/default_ImageSizeX=700_WeatherId=13/data_00001.h5\n",
      "/scratch/yang/aws_data/carla_collect/steer103_v4_waypoint/default_ImageSizeX=700_WeatherId=13/data_00002.h5\n",
      "/scratch/yang/aws_data/carla_collect/steer103_v4_waypoint/default_ImageSizeX=700_WeatherId=13/data_00003.h5\n",
      "/scratch/yang/aws_data/carla_collect/steer103_v4_waypoint/default_ImageSizeX=700_WeatherId=13/data_00004.h5\n",
      "/scratch/yang/aws_data/carla_collect/steer103_v4_waypoint/default_ImageSizeX=700_WeatherId=13/data_00005.h5\n",
      "/scratch/yang/aws_data/carla_collect/steer103_v4_waypoint/default_ImageSizeX=700_WeatherId=13/data_00006.h5\n",
      "/scratch/yang/aws_data/carla_collect/steer103_v4_waypoint/default_ImageSizeX=700_WeatherId=13/data_00007.h5\n",
      "/scratch/yang/aws_data/carla_collect/steer103_v4_waypoint/default_ImageSizeX=700_WeatherId=14/data_00000.h5\n",
      "/scratch/yang/aws_data/carla_collect/steer103_v4_waypoint/default_ImageSizeX=700_WeatherId=14/data_00001.h5\n",
      "/scratch/yang/aws_data/carla_collect/steer103_v4_waypoint/default_ImageSizeX=700_WeatherId=14/data_00002.h5\n",
      "/scratch/yang/aws_data/carla_collect/steer103_v4_waypoint/default_ImageSizeX=700_WeatherId=14/data_00003.h5\n",
      "/scratch/yang/aws_data/carla_collect/steer103_v4_waypoint/default_ImageSizeX=700_WeatherId=14/data_00004.h5\n",
      "/scratch/yang/aws_data/carla_collect/steer103_v4_waypoint/default_ImageSizeX=700_WeatherId=14/data_00005.h5\n",
      "/scratch/yang/aws_data/carla_collect/steer103_v4_waypoint/default_ImageSizeX=700_WeatherId=14/data_00006.h5\n",
      "/scratch/yang/aws_data/carla_collect/steer103_v4_waypoint/default_ImageSizeX=700_WeatherId=14/data_00007.h5\n",
      "/scratch/yang/aws_data/carla_collect/steer103_v4_waypoint/default_ImageSizeX=800_WeatherId=01/data_00000.h5\n",
      "/scratch/yang/aws_data/carla_collect/steer103_v4_waypoint/default_ImageSizeX=800_WeatherId=01/data_00001.h5\n",
      "/scratch/yang/aws_data/carla_collect/steer103_v4_waypoint/default_ImageSizeX=800_WeatherId=01/data_00002.h5\n",
      "/scratch/yang/aws_data/carla_collect/steer103_v4_waypoint/default_ImageSizeX=800_WeatherId=01/data_00003.h5\n",
      "/scratch/yang/aws_data/carla_collect/steer103_v4_waypoint/default_ImageSizeX=800_WeatherId=01/data_00004.h5\n",
      "/scratch/yang/aws_data/carla_collect/steer103_v4_waypoint/default_ImageSizeX=800_WeatherId=01/data_00005.h5\n",
      "/scratch/yang/aws_data/carla_collect/steer103_v4_waypoint/default_ImageSizeX=800_WeatherId=01/data_00006.h5\n",
      "/scratch/yang/aws_data/carla_collect/steer103_v4_waypoint/default_ImageSizeX=800_WeatherId=01/data_00007.h5\n",
      "/scratch/yang/aws_data/carla_collect/steer103_v4_waypoint/default_ImageSizeX=800_WeatherId=02/data_00000.h5\n",
      "/scratch/yang/aws_data/carla_collect/steer103_v4_waypoint/default_ImageSizeX=800_WeatherId=02/data_00001.h5\n",
      "/scratch/yang/aws_data/carla_collect/steer103_v4_waypoint/default_ImageSizeX=800_WeatherId=02/data_00002.h5\n",
      "/scratch/yang/aws_data/carla_collect/steer103_v4_waypoint/default_ImageSizeX=800_WeatherId=02/data_00003.h5\n",
      "/scratch/yang/aws_data/carla_collect/steer103_v4_waypoint/default_ImageSizeX=800_WeatherId=02/data_00004.h5\n",
      "/scratch/yang/aws_data/carla_collect/steer103_v4_waypoint/default_ImageSizeX=800_WeatherId=02/data_00005.h5\n",
      "/scratch/yang/aws_data/carla_collect/steer103_v4_waypoint/default_ImageSizeX=800_WeatherId=02/data_00006.h5\n",
      "/scratch/yang/aws_data/carla_collect/steer103_v4_waypoint/default_ImageSizeX=800_WeatherId=03/data_00000.h5\n",
      "/scratch/yang/aws_data/carla_collect/steer103_v4_waypoint/default_ImageSizeX=800_WeatherId=03/data_00001.h5\n",
      "/scratch/yang/aws_data/carla_collect/steer103_v4_waypoint/default_ImageSizeX=800_WeatherId=03/data_00002.h5\n",
      "/scratch/yang/aws_data/carla_collect/steer103_v4_waypoint/default_ImageSizeX=800_WeatherId=03/data_00003.h5\n",
      "/scratch/yang/aws_data/carla_collect/steer103_v4_waypoint/default_ImageSizeX=800_WeatherId=03/data_00004.h5\n",
      "/scratch/yang/aws_data/carla_collect/steer103_v4_waypoint/default_ImageSizeX=800_WeatherId=03/data_00005.h5\n",
      "/scratch/yang/aws_data/carla_collect/steer103_v4_waypoint/default_ImageSizeX=800_WeatherId=03/data_00006.h5\n",
      "/scratch/yang/aws_data/carla_collect/steer103_v4_waypoint/default_ImageSizeX=800_WeatherId=03/data_00007.h5\n",
      "/scratch/yang/aws_data/carla_collect/steer103_v4_waypoint/default_ImageSizeX=800_WeatherId=04/data_00000.h5\n",
      "/scratch/yang/aws_data/carla_collect/steer103_v4_waypoint/default_ImageSizeX=800_WeatherId=04/data_00001.h5\n",
      "/scratch/yang/aws_data/carla_collect/steer103_v4_waypoint/default_ImageSizeX=800_WeatherId=04/data_00002.h5\n",
      "/scratch/yang/aws_data/carla_collect/steer103_v4_waypoint/default_ImageSizeX=800_WeatherId=04/data_00003.h5\n",
      "/scratch/yang/aws_data/carla_collect/steer103_v4_waypoint/default_ImageSizeX=800_WeatherId=04/data_00004.h5\n",
      "/scratch/yang/aws_data/carla_collect/steer103_v4_waypoint/default_ImageSizeX=800_WeatherId=04/data_00005.h5\n",
      "/scratch/yang/aws_data/carla_collect/steer103_v4_waypoint/default_ImageSizeX=800_WeatherId=04/data_00006.h5\n",
      "/scratch/yang/aws_data/carla_collect/steer103_v4_waypoint/default_ImageSizeX=800_WeatherId=04/data_00007.h5\n",
      "/scratch/yang/aws_data/carla_collect/steer103_v4_waypoint/default_ImageSizeX=800_WeatherId=05/data_00000.h5\n",
      "/scratch/yang/aws_data/carla_collect/steer103_v4_waypoint/default_ImageSizeX=800_WeatherId=05/data_00001.h5\n",
      "/scratch/yang/aws_data/carla_collect/steer103_v4_waypoint/default_ImageSizeX=800_WeatherId=05/data_00002.h5\n",
      "/scratch/yang/aws_data/carla_collect/steer103_v4_waypoint/default_ImageSizeX=800_WeatherId=05/data_00003.h5\n",
      "/scratch/yang/aws_data/carla_collect/steer103_v4_waypoint/default_ImageSizeX=800_WeatherId=05/data_00004.h5\n",
      "/scratch/yang/aws_data/carla_collect/steer103_v4_waypoint/default_ImageSizeX=800_WeatherId=05/data_00005.h5\n",
      "/scratch/yang/aws_data/carla_collect/steer103_v4_waypoint/default_ImageSizeX=800_WeatherId=05/data_00006.h5\n",
      "/scratch/yang/aws_data/carla_collect/steer103_v4_waypoint/default_ImageSizeX=800_WeatherId=06/data_00000.h5\n",
      "/scratch/yang/aws_data/carla_collect/steer103_v4_waypoint/default_ImageSizeX=800_WeatherId=06/data_00001.h5\n",
      "/scratch/yang/aws_data/carla_collect/steer103_v4_waypoint/default_ImageSizeX=800_WeatherId=06/data_00002.h5\n",
      "/scratch/yang/aws_data/carla_collect/steer103_v4_waypoint/default_ImageSizeX=800_WeatherId=06/data_00003.h5\n",
      "/scratch/yang/aws_data/carla_collect/steer103_v4_waypoint/default_ImageSizeX=800_WeatherId=06/data_00004.h5\n",
      "/scratch/yang/aws_data/carla_collect/steer103_v4_waypoint/default_ImageSizeX=800_WeatherId=06/data_00005.h5\n",
      "/scratch/yang/aws_data/carla_collect/steer103_v4_waypoint/default_ImageSizeX=800_WeatherId=06/data_00006.h5\n",
      "/scratch/yang/aws_data/carla_collect/steer103_v4_waypoint/default_ImageSizeX=800_WeatherId=07/data_00000.h5\n",
      "/scratch/yang/aws_data/carla_collect/steer103_v4_waypoint/default_ImageSizeX=800_WeatherId=07/data_00001.h5\n",
      "/scratch/yang/aws_data/carla_collect/steer103_v4_waypoint/default_ImageSizeX=800_WeatherId=07/data_00002.h5\n",
      "/scratch/yang/aws_data/carla_collect/steer103_v4_waypoint/default_ImageSizeX=800_WeatherId=07/data_00003.h5\n",
      "/scratch/yang/aws_data/carla_collect/steer103_v4_waypoint/default_ImageSizeX=800_WeatherId=07/data_00004.h5\n",
      "/scratch/yang/aws_data/carla_collect/steer103_v4_waypoint/default_ImageSizeX=800_WeatherId=07/data_00005.h5\n",
      "/scratch/yang/aws_data/carla_collect/steer103_v4_waypoint/default_ImageSizeX=800_WeatherId=07/data_00006.h5\n",
      "/scratch/yang/aws_data/carla_collect/steer103_v4_waypoint/default_ImageSizeX=800_WeatherId=07/data_00007.h5\n",
      "/scratch/yang/aws_data/carla_collect/steer103_v4_waypoint/default_ImageSizeX=800_WeatherId=08/data_00000.h5\n",
      "/scratch/yang/aws_data/carla_collect/steer103_v4_waypoint/default_ImageSizeX=800_WeatherId=08/data_00001.h5\n",
      "/scratch/yang/aws_data/carla_collect/steer103_v4_waypoint/default_ImageSizeX=800_WeatherId=08/data_00002.h5\n",
      "/scratch/yang/aws_data/carla_collect/steer103_v4_waypoint/default_ImageSizeX=800_WeatherId=08/data_00003.h5\n",
      "/scratch/yang/aws_data/carla_collect/steer103_v4_waypoint/default_ImageSizeX=800_WeatherId=08/data_00004.h5\n",
      "/scratch/yang/aws_data/carla_collect/steer103_v4_waypoint/default_ImageSizeX=800_WeatherId=08/data_00005.h5\n",
      "/scratch/yang/aws_data/carla_collect/steer103_v4_waypoint/default_ImageSizeX=800_WeatherId=08/data_00006.h5\n",
      "/scratch/yang/aws_data/carla_collect/steer103_v4_waypoint/default_ImageSizeX=800_WeatherId=09/data_00000.h5\n",
      "/scratch/yang/aws_data/carla_collect/steer103_v4_waypoint/default_ImageSizeX=800_WeatherId=09/data_00001.h5\n",
      "/scratch/yang/aws_data/carla_collect/steer103_v4_waypoint/default_ImageSizeX=800_WeatherId=09/data_00002.h5\n",
      "/scratch/yang/aws_data/carla_collect/steer103_v4_waypoint/default_ImageSizeX=800_WeatherId=09/data_00003.h5\n",
      "/scratch/yang/aws_data/carla_collect/steer103_v4_waypoint/default_ImageSizeX=800_WeatherId=09/data_00004.h5\n",
      "/scratch/yang/aws_data/carla_collect/steer103_v4_waypoint/default_ImageSizeX=800_WeatherId=09/data_00005.h5\n",
      "/scratch/yang/aws_data/carla_collect/steer103_v4_waypoint/default_ImageSizeX=800_WeatherId=09/data_00006.h5\n",
      "/scratch/yang/aws_data/carla_collect/steer103_v4_waypoint/default_ImageSizeX=800_WeatherId=09/data_00007.h5\n",
      "/scratch/yang/aws_data/carla_collect/steer103_v4_waypoint/default_ImageSizeX=800_WeatherId=10/data_00000.h5\n",
      "/scratch/yang/aws_data/carla_collect/steer103_v4_waypoint/default_ImageSizeX=800_WeatherId=10/data_00001.h5\n",
      "/scratch/yang/aws_data/carla_collect/steer103_v4_waypoint/default_ImageSizeX=800_WeatherId=10/data_00002.h5\n",
      "/scratch/yang/aws_data/carla_collect/steer103_v4_waypoint/default_ImageSizeX=800_WeatherId=10/data_00003.h5\n",
      "/scratch/yang/aws_data/carla_collect/steer103_v4_waypoint/default_ImageSizeX=800_WeatherId=10/data_00004.h5\n",
      "/scratch/yang/aws_data/carla_collect/steer103_v4_waypoint/default_ImageSizeX=800_WeatherId=10/data_00005.h5\n",
      "/scratch/yang/aws_data/carla_collect/steer103_v4_waypoint/default_ImageSizeX=800_WeatherId=10/data_00006.h5\n",
      "/scratch/yang/aws_data/carla_collect/steer103_v4_waypoint/default_ImageSizeX=800_WeatherId=10/data_00007.h5\n",
      "/scratch/yang/aws_data/carla_collect/steer103_v4_waypoint/default_ImageSizeX=800_WeatherId=11/data_00000.h5\n",
      "/scratch/yang/aws_data/carla_collect/steer103_v4_waypoint/default_ImageSizeX=800_WeatherId=11/data_00001.h5\n",
      "/scratch/yang/aws_data/carla_collect/steer103_v4_waypoint/default_ImageSizeX=800_WeatherId=11/data_00002.h5\n",
      "/scratch/yang/aws_data/carla_collect/steer103_v4_waypoint/default_ImageSizeX=800_WeatherId=11/data_00003.h5\n",
      "/scratch/yang/aws_data/carla_collect/steer103_v4_waypoint/default_ImageSizeX=800_WeatherId=11/data_00004.h5\n",
      "/scratch/yang/aws_data/carla_collect/steer103_v4_waypoint/default_ImageSizeX=800_WeatherId=11/data_00005.h5\n",
      "/scratch/yang/aws_data/carla_collect/steer103_v4_waypoint/default_ImageSizeX=800_WeatherId=11/data_00006.h5\n",
      "/scratch/yang/aws_data/carla_collect/steer103_v4_waypoint/default_ImageSizeX=800_WeatherId=11/data_00007.h5\n",
      "/scratch/yang/aws_data/carla_collect/steer103_v4_waypoint/default_ImageSizeX=800_WeatherId=12/data_00000.h5\n",
      "/scratch/yang/aws_data/carla_collect/steer103_v4_waypoint/default_ImageSizeX=800_WeatherId=12/data_00001.h5\n",
      "/scratch/yang/aws_data/carla_collect/steer103_v4_waypoint/default_ImageSizeX=800_WeatherId=12/data_00002.h5\n",
      "/scratch/yang/aws_data/carla_collect/steer103_v4_waypoint/default_ImageSizeX=800_WeatherId=12/data_00003.h5\n",
      "/scratch/yang/aws_data/carla_collect/steer103_v4_waypoint/default_ImageSizeX=800_WeatherId=12/data_00004.h5\n",
      "/scratch/yang/aws_data/carla_collect/steer103_v4_waypoint/default_ImageSizeX=800_WeatherId=12/data_00005.h5\n",
      "/scratch/yang/aws_data/carla_collect/steer103_v4_waypoint/default_ImageSizeX=800_WeatherId=13/data_00000.h5\n",
      "/scratch/yang/aws_data/carla_collect/steer103_v4_waypoint/default_ImageSizeX=800_WeatherId=13/data_00001.h5\n",
      "/scratch/yang/aws_data/carla_collect/steer103_v4_waypoint/default_ImageSizeX=800_WeatherId=13/data_00002.h5\n",
      "/scratch/yang/aws_data/carla_collect/steer103_v4_waypoint/default_ImageSizeX=800_WeatherId=13/data_00003.h5\n",
      "/scratch/yang/aws_data/carla_collect/steer103_v4_waypoint/default_ImageSizeX=800_WeatherId=13/data_00004.h5\n",
      "/scratch/yang/aws_data/carla_collect/steer103_v4_waypoint/default_ImageSizeX=800_WeatherId=13/data_00005.h5\n",
      "/scratch/yang/aws_data/carla_collect/steer103_v4_waypoint/default_ImageSizeX=800_WeatherId=13/data_00006.h5\n",
      "/scratch/yang/aws_data/carla_collect/steer103_v4_waypoint/default_ImageSizeX=800_WeatherId=13/data_00007.h5\n",
      "/scratch/yang/aws_data/carla_collect/steer103_v4_waypoint/default_ImageSizeX=800_WeatherId=14/data_00000.h5\n",
      "/scratch/yang/aws_data/carla_collect/steer103_v4_waypoint/default_ImageSizeX=800_WeatherId=14/data_00001.h5\n",
      "/scratch/yang/aws_data/carla_collect/steer103_v4_waypoint/default_ImageSizeX=800_WeatherId=14/data_00002.h5\n",
      "/scratch/yang/aws_data/carla_collect/steer103_v4_waypoint/default_ImageSizeX=800_WeatherId=14/data_00003.h5\n",
      "/scratch/yang/aws_data/carla_collect/steer103_v4_waypoint/default_ImageSizeX=800_WeatherId=14/data_00004.h5\n",
      "/scratch/yang/aws_data/carla_collect/steer103_v4_waypoint/default_ImageSizeX=800_WeatherId=14/data_00005.h5\n",
      "/scratch/yang/aws_data/carla_collect/steer103_v4_waypoint/default_ImageSizeX=800_WeatherId=14/data_00006.h5\n",
      "/scratch/yang/aws_data/carla_collect/steer103_v4_waypoint/default_PositionZ=1.4_WeatherId=01/data_00000.h5\n",
      "/scratch/yang/aws_data/carla_collect/steer103_v4_waypoint/default_PositionZ=1.4_WeatherId=01/data_00001.h5\n",
      "/scratch/yang/aws_data/carla_collect/steer103_v4_waypoint/default_PositionZ=1.4_WeatherId=01/data_00002.h5\n",
      "/scratch/yang/aws_data/carla_collect/steer103_v4_waypoint/default_PositionZ=1.4_WeatherId=01/data_00003.h5\n",
      "/scratch/yang/aws_data/carla_collect/steer103_v4_waypoint/default_PositionZ=1.4_WeatherId=01/data_00004.h5\n",
      "/scratch/yang/aws_data/carla_collect/steer103_v4_waypoint/default_PositionZ=1.4_WeatherId=01/data_00005.h5\n",
      "/scratch/yang/aws_data/carla_collect/steer103_v4_waypoint/default_PositionZ=1.4_WeatherId=01/data_00006.h5\n",
      "/scratch/yang/aws_data/carla_collect/steer103_v4_waypoint/default_PositionZ=1.4_WeatherId=02/data_00000.h5\n",
      "/scratch/yang/aws_data/carla_collect/steer103_v4_waypoint/default_PositionZ=1.4_WeatherId=02/data_00001.h5\n",
      "/scratch/yang/aws_data/carla_collect/steer103_v4_waypoint/default_PositionZ=1.4_WeatherId=02/data_00002.h5\n",
      "/scratch/yang/aws_data/carla_collect/steer103_v4_waypoint/default_PositionZ=1.4_WeatherId=02/data_00003.h5\n",
      "/scratch/yang/aws_data/carla_collect/steer103_v4_waypoint/default_PositionZ=1.4_WeatherId=02/data_00004.h5\n",
      "/scratch/yang/aws_data/carla_collect/steer103_v4_waypoint/default_PositionZ=1.4_WeatherId=02/data_00005.h5\n",
      "/scratch/yang/aws_data/carla_collect/steer103_v4_waypoint/default_PositionZ=1.4_WeatherId=02/data_00006.h5\n",
      "/scratch/yang/aws_data/carla_collect/steer103_v4_waypoint/default_PositionZ=1.4_WeatherId=03/data_00000.h5\n",
      "/scratch/yang/aws_data/carla_collect/steer103_v4_waypoint/default_PositionZ=1.4_WeatherId=03/data_00001.h5\n",
      "/scratch/yang/aws_data/carla_collect/steer103_v4_waypoint/default_PositionZ=1.4_WeatherId=03/data_00002.h5\n",
      "/scratch/yang/aws_data/carla_collect/steer103_v4_waypoint/default_PositionZ=1.4_WeatherId=03/data_00003.h5\n",
      "/scratch/yang/aws_data/carla_collect/steer103_v4_waypoint/default_PositionZ=1.4_WeatherId=03/data_00004.h5\n",
      "/scratch/yang/aws_data/carla_collect/steer103_v4_waypoint/default_PositionZ=1.4_WeatherId=03/data_00005.h5\n",
      "/scratch/yang/aws_data/carla_collect/steer103_v4_waypoint/default_PositionZ=1.4_WeatherId=03/data_00006.h5\n",
      "/scratch/yang/aws_data/carla_collect/steer103_v4_waypoint/default_PositionZ=1.4_WeatherId=04/data_00000.h5\n",
      "/scratch/yang/aws_data/carla_collect/steer103_v4_waypoint/default_PositionZ=1.4_WeatherId=04/data_00001.h5\n",
      "/scratch/yang/aws_data/carla_collect/steer103_v4_waypoint/default_PositionZ=1.4_WeatherId=04/data_00002.h5\n",
      "/scratch/yang/aws_data/carla_collect/steer103_v4_waypoint/default_PositionZ=1.4_WeatherId=04/data_00003.h5\n",
      "/scratch/yang/aws_data/carla_collect/steer103_v4_waypoint/default_PositionZ=1.4_WeatherId=04/data_00004.h5\n",
      "/scratch/yang/aws_data/carla_collect/steer103_v4_waypoint/default_PositionZ=1.4_WeatherId=04/data_00005.h5\n",
      "/scratch/yang/aws_data/carla_collect/steer103_v4_waypoint/default_PositionZ=1.4_WeatherId=04/data_00006.h5\n",
      "/scratch/yang/aws_data/carla_collect/steer103_v4_waypoint/default_PositionZ=1.4_WeatherId=05/data_00000.h5\n",
      "/scratch/yang/aws_data/carla_collect/steer103_v4_waypoint/default_PositionZ=1.4_WeatherId=05/data_00001.h5\n",
      "/scratch/yang/aws_data/carla_collect/steer103_v4_waypoint/default_PositionZ=1.4_WeatherId=05/data_00002.h5\n",
      "/scratch/yang/aws_data/carla_collect/steer103_v4_waypoint/default_PositionZ=1.4_WeatherId=05/data_00003.h5\n",
      "/scratch/yang/aws_data/carla_collect/steer103_v4_waypoint/default_PositionZ=1.4_WeatherId=05/data_00004.h5\n",
      "/scratch/yang/aws_data/carla_collect/steer103_v4_waypoint/default_PositionZ=1.4_WeatherId=05/data_00005.h5\n",
      "/scratch/yang/aws_data/carla_collect/steer103_v4_waypoint/default_PositionZ=1.4_WeatherId=05/data_00006.h5\n",
      "/scratch/yang/aws_data/carla_collect/steer103_v4_waypoint/default_PositionZ=1.4_WeatherId=05/data_00007.h5\n",
      "/scratch/yang/aws_data/carla_collect/steer103_v4_waypoint/default_PositionZ=1.4_WeatherId=06/data_00000.h5\n",
      "/scratch/yang/aws_data/carla_collect/steer103_v4_waypoint/default_PositionZ=1.4_WeatherId=06/data_00001.h5\n",
      "/scratch/yang/aws_data/carla_collect/steer103_v4_waypoint/default_PositionZ=1.4_WeatherId=06/data_00002.h5\n",
      "/scratch/yang/aws_data/carla_collect/steer103_v4_waypoint/default_PositionZ=1.4_WeatherId=06/data_00003.h5\n",
      "/scratch/yang/aws_data/carla_collect/steer103_v4_waypoint/default_PositionZ=1.4_WeatherId=06/data_00004.h5\n",
      "/scratch/yang/aws_data/carla_collect/steer103_v4_waypoint/default_PositionZ=1.4_WeatherId=06/data_00005.h5\n",
      "/scratch/yang/aws_data/carla_collect/steer103_v4_waypoint/default_PositionZ=1.4_WeatherId=06/data_00006.h5\n",
      "/scratch/yang/aws_data/carla_collect/steer103_v4_waypoint/default_PositionZ=1.4_WeatherId=07/data_00000.h5\n",
      "/scratch/yang/aws_data/carla_collect/steer103_v4_waypoint/default_PositionZ=1.4_WeatherId=07/data_00001.h5\n",
      "/scratch/yang/aws_data/carla_collect/steer103_v4_waypoint/default_PositionZ=1.4_WeatherId=07/data_00002.h5\n",
      "/scratch/yang/aws_data/carla_collect/steer103_v4_waypoint/default_PositionZ=1.4_WeatherId=07/data_00003.h5\n",
      "/scratch/yang/aws_data/carla_collect/steer103_v4_waypoint/default_PositionZ=1.4_WeatherId=07/data_00004.h5\n",
      "/scratch/yang/aws_data/carla_collect/steer103_v4_waypoint/default_PositionZ=1.4_WeatherId=07/data_00005.h5\n",
      "/scratch/yang/aws_data/carla_collect/steer103_v4_waypoint/default_PositionZ=1.4_WeatherId=07/data_00006.h5\n",
      "/scratch/yang/aws_data/carla_collect/steer103_v4_waypoint/default_PositionZ=1.4_WeatherId=08/data_00000.h5\n",
      "/scratch/yang/aws_data/carla_collect/steer103_v4_waypoint/default_PositionZ=1.4_WeatherId=08/data_00001.h5\n",
      "/scratch/yang/aws_data/carla_collect/steer103_v4_waypoint/default_PositionZ=1.4_WeatherId=08/data_00002.h5\n",
      "/scratch/yang/aws_data/carla_collect/steer103_v4_waypoint/default_PositionZ=1.4_WeatherId=08/data_00003.h5\n",
      "/scratch/yang/aws_data/carla_collect/steer103_v4_waypoint/default_PositionZ=1.4_WeatherId=08/data_00004.h5\n",
      "/scratch/yang/aws_data/carla_collect/steer103_v4_waypoint/default_PositionZ=1.4_WeatherId=08/data_00005.h5\n",
      "/scratch/yang/aws_data/carla_collect/steer103_v4_waypoint/default_PositionZ=1.4_WeatherId=08/data_00006.h5\n",
      "/scratch/yang/aws_data/carla_collect/steer103_v4_waypoint/default_PositionZ=1.4_WeatherId=09/data_00000.h5\n",
      "/scratch/yang/aws_data/carla_collect/steer103_v4_waypoint/default_PositionZ=1.4_WeatherId=09/data_00001.h5\n",
      "/scratch/yang/aws_data/carla_collect/steer103_v4_waypoint/default_PositionZ=1.4_WeatherId=09/data_00002.h5\n",
      "/scratch/yang/aws_data/carla_collect/steer103_v4_waypoint/default_PositionZ=1.4_WeatherId=09/data_00003.h5\n",
      "/scratch/yang/aws_data/carla_collect/steer103_v4_waypoint/default_PositionZ=1.4_WeatherId=09/data_00004.h5\n",
      "/scratch/yang/aws_data/carla_collect/steer103_v4_waypoint/default_PositionZ=1.4_WeatherId=09/data_00005.h5\n",
      "/scratch/yang/aws_data/carla_collect/steer103_v4_waypoint/default_PositionZ=1.4_WeatherId=09/data_00006.h5\n",
      "/scratch/yang/aws_data/carla_collect/steer103_v4_waypoint/default_PositionZ=1.4_WeatherId=10/data_00000.h5\n",
      "/scratch/yang/aws_data/carla_collect/steer103_v4_waypoint/default_PositionZ=1.4_WeatherId=10/data_00001.h5\n",
      "/scratch/yang/aws_data/carla_collect/steer103_v4_waypoint/default_PositionZ=1.4_WeatherId=10/data_00002.h5\n",
      "/scratch/yang/aws_data/carla_collect/steer103_v4_waypoint/default_PositionZ=1.4_WeatherId=10/data_00003.h5\n",
      "/scratch/yang/aws_data/carla_collect/steer103_v4_waypoint/default_PositionZ=1.4_WeatherId=10/data_00004.h5\n",
      "/scratch/yang/aws_data/carla_collect/steer103_v4_waypoint/default_PositionZ=1.4_WeatherId=10/data_00005.h5\n",
      "/scratch/yang/aws_data/carla_collect/steer103_v4_waypoint/default_PositionZ=1.4_WeatherId=10/data_00006.h5\n",
      "/scratch/yang/aws_data/carla_collect/steer103_v4_waypoint/default_PositionZ=1.4_WeatherId=11/data_00000.h5\n",
      "/scratch/yang/aws_data/carla_collect/steer103_v4_waypoint/default_PositionZ=1.4_WeatherId=11/data_00001.h5\n",
      "/scratch/yang/aws_data/carla_collect/steer103_v4_waypoint/default_PositionZ=1.4_WeatherId=11/data_00002.h5\n",
      "/scratch/yang/aws_data/carla_collect/steer103_v4_waypoint/default_PositionZ=1.4_WeatherId=11/data_00003.h5\n",
      "/scratch/yang/aws_data/carla_collect/steer103_v4_waypoint/default_PositionZ=1.4_WeatherId=11/data_00004.h5\n",
      "/scratch/yang/aws_data/carla_collect/steer103_v4_waypoint/default_PositionZ=1.4_WeatherId=11/data_00005.h5\n",
      "/scratch/yang/aws_data/carla_collect/steer103_v4_waypoint/default_PositionZ=1.4_WeatherId=11/data_00006.h5\n",
      "/scratch/yang/aws_data/carla_collect/steer103_v4_waypoint/default_PositionZ=1.4_WeatherId=12/data_00000.h5\n",
      "/scratch/yang/aws_data/carla_collect/steer103_v4_waypoint/default_PositionZ=1.4_WeatherId=12/data_00001.h5\n",
      "/scratch/yang/aws_data/carla_collect/steer103_v4_waypoint/default_PositionZ=1.4_WeatherId=12/data_00002.h5\n",
      "/scratch/yang/aws_data/carla_collect/steer103_v4_waypoint/default_PositionZ=1.4_WeatherId=12/data_00003.h5\n",
      "/scratch/yang/aws_data/carla_collect/steer103_v4_waypoint/default_PositionZ=1.4_WeatherId=12/data_00004.h5\n",
      "/scratch/yang/aws_data/carla_collect/steer103_v4_waypoint/default_PositionZ=1.4_WeatherId=12/data_00005.h5\n",
      "/scratch/yang/aws_data/carla_collect/steer103_v4_waypoint/default_PositionZ=1.4_WeatherId=12/data_00006.h5\n",
      "/scratch/yang/aws_data/carla_collect/steer103_v4_waypoint/default_PositionZ=1.4_WeatherId=13/data_00000.h5\n",
      "/scratch/yang/aws_data/carla_collect/steer103_v4_waypoint/default_PositionZ=1.4_WeatherId=13/data_00001.h5\n",
      "/scratch/yang/aws_data/carla_collect/steer103_v4_waypoint/default_PositionZ=1.4_WeatherId=13/data_00002.h5\n",
      "/scratch/yang/aws_data/carla_collect/steer103_v4_waypoint/default_PositionZ=1.4_WeatherId=13/data_00003.h5\n",
      "/scratch/yang/aws_data/carla_collect/steer103_v4_waypoint/default_PositionZ=1.4_WeatherId=13/data_00004.h5\n",
      "/scratch/yang/aws_data/carla_collect/steer103_v4_waypoint/default_PositionZ=1.4_WeatherId=13/data_00005.h5\n",
      "/scratch/yang/aws_data/carla_collect/steer103_v4_waypoint/default_PositionZ=1.4_WeatherId=13/data_00006.h5\n",
      "/scratch/yang/aws_data/carla_collect/steer103_v4_waypoint/default_PositionZ=1.4_WeatherId=14/data_00000.h5\n",
      "/scratch/yang/aws_data/carla_collect/steer103_v4_waypoint/default_PositionZ=1.4_WeatherId=14/data_00001.h5\n",
      "/scratch/yang/aws_data/carla_collect/steer103_v4_waypoint/default_PositionZ=1.4_WeatherId=14/data_00002.h5\n",
      "/scratch/yang/aws_data/carla_collect/steer103_v4_waypoint/default_PositionZ=1.4_WeatherId=14/data_00003.h5\n",
      "/scratch/yang/aws_data/carla_collect/steer103_v4_waypoint/default_PositionZ=1.4_WeatherId=14/data_00004.h5\n",
      "/scratch/yang/aws_data/carla_collect/steer103_v4_waypoint/default_PositionZ=1.4_WeatherId=14/data_00005.h5\n",
      "/scratch/yang/aws_data/carla_collect/steer103_v4_waypoint/default_PositionZ=1.4_WeatherId=14/data_00006.h5\n",
      "/scratch/yang/aws_data/carla_collect/steer103_v4_waypoint/default_PositionZ=1.4_WeatherId=14/data_00007.h5\n",
      "/scratch/yang/aws_data/carla_collect/steer103_v4_waypoint/default_PositionZ=1.8_WeatherId=01/data_00000.h5\n",
      "/scratch/yang/aws_data/carla_collect/steer103_v4_waypoint/default_PositionZ=1.8_WeatherId=01/data_00001.h5\n",
      "/scratch/yang/aws_data/carla_collect/steer103_v4_waypoint/default_PositionZ=1.8_WeatherId=01/data_00002.h5\n",
      "/scratch/yang/aws_data/carla_collect/steer103_v4_waypoint/default_PositionZ=1.8_WeatherId=01/data_00003.h5\n",
      "/scratch/yang/aws_data/carla_collect/steer103_v4_waypoint/default_PositionZ=1.8_WeatherId=01/data_00004.h5\n",
      "/scratch/yang/aws_data/carla_collect/steer103_v4_waypoint/default_PositionZ=1.8_WeatherId=01/data_00005.h5\n",
      "/scratch/yang/aws_data/carla_collect/steer103_v4_waypoint/default_PositionZ=1.8_WeatherId=01/data_00006.h5\n",
      "/scratch/yang/aws_data/carla_collect/steer103_v4_waypoint/default_PositionZ=1.8_WeatherId=02/data_00000.h5\n",
      "/scratch/yang/aws_data/carla_collect/steer103_v4_waypoint/default_PositionZ=1.8_WeatherId=02/data_00001.h5\n",
      "/scratch/yang/aws_data/carla_collect/steer103_v4_waypoint/default_PositionZ=1.8_WeatherId=02/data_00002.h5\n",
      "/scratch/yang/aws_data/carla_collect/steer103_v4_waypoint/default_PositionZ=1.8_WeatherId=02/data_00003.h5\n",
      "/scratch/yang/aws_data/carla_collect/steer103_v4_waypoint/default_PositionZ=1.8_WeatherId=02/data_00004.h5\n",
      "/scratch/yang/aws_data/carla_collect/steer103_v4_waypoint/default_PositionZ=1.8_WeatherId=02/data_00005.h5\n",
      "/scratch/yang/aws_data/carla_collect/steer103_v4_waypoint/default_PositionZ=1.8_WeatherId=02/data_00006.h5\n",
      "/scratch/yang/aws_data/carla_collect/steer103_v4_waypoint/default_PositionZ=1.8_WeatherId=03/data_00000.h5\n",
      "/scratch/yang/aws_data/carla_collect/steer103_v4_waypoint/default_PositionZ=1.8_WeatherId=03/data_00001.h5\n",
      "/scratch/yang/aws_data/carla_collect/steer103_v4_waypoint/default_PositionZ=1.8_WeatherId=03/data_00002.h5\n",
      "/scratch/yang/aws_data/carla_collect/steer103_v4_waypoint/default_PositionZ=1.8_WeatherId=03/data_00003.h5\n",
      "/scratch/yang/aws_data/carla_collect/steer103_v4_waypoint/default_PositionZ=1.8_WeatherId=03/data_00004.h5\n",
      "/scratch/yang/aws_data/carla_collect/steer103_v4_waypoint/default_PositionZ=1.8_WeatherId=03/data_00005.h5\n",
      "/scratch/yang/aws_data/carla_collect/steer103_v4_waypoint/default_PositionZ=1.8_WeatherId=03/data_00006.h5\n",
      "/scratch/yang/aws_data/carla_collect/steer103_v4_waypoint/default_PositionZ=1.8_WeatherId=04/data_00000.h5\n",
      "/scratch/yang/aws_data/carla_collect/steer103_v4_waypoint/default_PositionZ=1.8_WeatherId=04/data_00001.h5\n",
      "/scratch/yang/aws_data/carla_collect/steer103_v4_waypoint/default_PositionZ=1.8_WeatherId=04/data_00002.h5\n",
      "/scratch/yang/aws_data/carla_collect/steer103_v4_waypoint/default_PositionZ=1.8_WeatherId=04/data_00003.h5\n",
      "/scratch/yang/aws_data/carla_collect/steer103_v4_waypoint/default_PositionZ=1.8_WeatherId=04/data_00004.h5\n",
      "/scratch/yang/aws_data/carla_collect/steer103_v4_waypoint/default_PositionZ=1.8_WeatherId=04/data_00005.h5\n",
      "/scratch/yang/aws_data/carla_collect/steer103_v4_waypoint/default_PositionZ=1.8_WeatherId=04/data_00006.h5\n",
      "/scratch/yang/aws_data/carla_collect/steer103_v4_waypoint/default_PositionZ=1.8_WeatherId=05/data_00000.h5\n",
      "/scratch/yang/aws_data/carla_collect/steer103_v4_waypoint/default_PositionZ=1.8_WeatherId=05/data_00001.h5\n",
      "/scratch/yang/aws_data/carla_collect/steer103_v4_waypoint/default_PositionZ=1.8_WeatherId=05/data_00002.h5\n",
      "/scratch/yang/aws_data/carla_collect/steer103_v4_waypoint/default_PositionZ=1.8_WeatherId=05/data_00003.h5\n",
      "/scratch/yang/aws_data/carla_collect/steer103_v4_waypoint/default_PositionZ=1.8_WeatherId=05/data_00004.h5\n",
      "/scratch/yang/aws_data/carla_collect/steer103_v4_waypoint/default_PositionZ=1.8_WeatherId=05/data_00005.h5\n",
      "/scratch/yang/aws_data/carla_collect/steer103_v4_waypoint/default_PositionZ=1.8_WeatherId=05/data_00006.h5\n",
      "/scratch/yang/aws_data/carla_collect/steer103_v4_waypoint/default_PositionZ=1.8_WeatherId=06/data_00000.h5\n",
      "/scratch/yang/aws_data/carla_collect/steer103_v4_waypoint/default_PositionZ=1.8_WeatherId=06/data_00001.h5\n",
      "/scratch/yang/aws_data/carla_collect/steer103_v4_waypoint/default_PositionZ=1.8_WeatherId=06/data_00002.h5\n",
      "/scratch/yang/aws_data/carla_collect/steer103_v4_waypoint/default_PositionZ=1.8_WeatherId=06/data_00003.h5\n",
      "/scratch/yang/aws_data/carla_collect/steer103_v4_waypoint/default_PositionZ=1.8_WeatherId=06/data_00004.h5\n",
      "/scratch/yang/aws_data/carla_collect/steer103_v4_waypoint/default_PositionZ=1.8_WeatherId=06/data_00005.h5\n",
      "/scratch/yang/aws_data/carla_collect/steer103_v4_waypoint/default_PositionZ=1.8_WeatherId=06/data_00006.h5\n",
      "/scratch/yang/aws_data/carla_collect/steer103_v4_waypoint/default_PositionZ=1.8_WeatherId=07/data_00000.h5\n",
      "/scratch/yang/aws_data/carla_collect/steer103_v4_waypoint/default_PositionZ=1.8_WeatherId=07/data_00001.h5\n",
      "/scratch/yang/aws_data/carla_collect/steer103_v4_waypoint/default_PositionZ=1.8_WeatherId=07/data_00002.h5\n",
      "/scratch/yang/aws_data/carla_collect/steer103_v4_waypoint/default_PositionZ=1.8_WeatherId=07/data_00003.h5\n",
      "/scratch/yang/aws_data/carla_collect/steer103_v4_waypoint/default_PositionZ=1.8_WeatherId=07/data_00004.h5\n",
      "/scratch/yang/aws_data/carla_collect/steer103_v4_waypoint/default_PositionZ=1.8_WeatherId=07/data_00005.h5\n",
      "/scratch/yang/aws_data/carla_collect/steer103_v4_waypoint/default_PositionZ=1.8_WeatherId=07/data_00006.h5\n",
      "/scratch/yang/aws_data/carla_collect/steer103_v4_waypoint/default_PositionZ=1.8_WeatherId=08/data_00000.h5\n",
      "/scratch/yang/aws_data/carla_collect/steer103_v4_waypoint/default_PositionZ=1.8_WeatherId=08/data_00001.h5\n",
      "/scratch/yang/aws_data/carla_collect/steer103_v4_waypoint/default_PositionZ=1.8_WeatherId=08/data_00002.h5\n",
      "/scratch/yang/aws_data/carla_collect/steer103_v4_waypoint/default_PositionZ=1.8_WeatherId=08/data_00003.h5\n",
      "/scratch/yang/aws_data/carla_collect/steer103_v4_waypoint/default_PositionZ=1.8_WeatherId=08/data_00004.h5\n",
      "/scratch/yang/aws_data/carla_collect/steer103_v4_waypoint/default_PositionZ=1.8_WeatherId=08/data_00005.h5\n",
      "/scratch/yang/aws_data/carla_collect/steer103_v4_waypoint/default_PositionZ=1.8_WeatherId=08/data_00006.h5\n",
      "/scratch/yang/aws_data/carla_collect/steer103_v4_waypoint/default_PositionZ=1.8_WeatherId=08/data_00007.h5\n",
      "/scratch/yang/aws_data/carla_collect/steer103_v4_waypoint/default_PositionZ=1.8_WeatherId=09/data_00000.h5\n",
      "/scratch/yang/aws_data/carla_collect/steer103_v4_waypoint/default_PositionZ=1.8_WeatherId=09/data_00001.h5\n",
      "/scratch/yang/aws_data/carla_collect/steer103_v4_waypoint/default_PositionZ=1.8_WeatherId=09/data_00002.h5\n",
      "/scratch/yang/aws_data/carla_collect/steer103_v4_waypoint/default_PositionZ=1.8_WeatherId=09/data_00003.h5\n",
      "/scratch/yang/aws_data/carla_collect/steer103_v4_waypoint/default_PositionZ=1.8_WeatherId=09/data_00004.h5\n",
      "/scratch/yang/aws_data/carla_collect/steer103_v4_waypoint/default_PositionZ=1.8_WeatherId=09/data_00005.h5\n",
      "/scratch/yang/aws_data/carla_collect/steer103_v4_waypoint/default_PositionZ=1.8_WeatherId=09/data_00006.h5\n",
      "/scratch/yang/aws_data/carla_collect/steer103_v4_waypoint/default_PositionZ=1.8_WeatherId=10/data_00000.h5\n",
      "/scratch/yang/aws_data/carla_collect/steer103_v4_waypoint/default_PositionZ=1.8_WeatherId=10/data_00001.h5\n",
      "/scratch/yang/aws_data/carla_collect/steer103_v4_waypoint/default_PositionZ=1.8_WeatherId=10/data_00002.h5\n",
      "/scratch/yang/aws_data/carla_collect/steer103_v4_waypoint/default_PositionZ=1.8_WeatherId=10/data_00003.h5\n",
      "/scratch/yang/aws_data/carla_collect/steer103_v4_waypoint/default_PositionZ=1.8_WeatherId=10/data_00004.h5\n",
      "/scratch/yang/aws_data/carla_collect/steer103_v4_waypoint/default_PositionZ=1.8_WeatherId=10/data_00005.h5\n",
      "/scratch/yang/aws_data/carla_collect/steer103_v4_waypoint/default_PositionZ=1.8_WeatherId=10/data_00006.h5\n",
      "/scratch/yang/aws_data/carla_collect/steer103_v4_waypoint/default_PositionZ=1.8_WeatherId=11/data_00000.h5\n",
      "/scratch/yang/aws_data/carla_collect/steer103_v4_waypoint/default_PositionZ=1.8_WeatherId=11/data_00001.h5\n",
      "/scratch/yang/aws_data/carla_collect/steer103_v4_waypoint/default_PositionZ=1.8_WeatherId=11/data_00002.h5\n",
      "/scratch/yang/aws_data/carla_collect/steer103_v4_waypoint/default_PositionZ=1.8_WeatherId=11/data_00003.h5\n",
      "/scratch/yang/aws_data/carla_collect/steer103_v4_waypoint/default_PositionZ=1.8_WeatherId=11/data_00004.h5\n",
      "/scratch/yang/aws_data/carla_collect/steer103_v4_waypoint/default_PositionZ=1.8_WeatherId=11/data_00005.h5\n",
      "/scratch/yang/aws_data/carla_collect/steer103_v4_waypoint/default_PositionZ=1.8_WeatherId=11/data_00006.h5\n",
      "/scratch/yang/aws_data/carla_collect/steer103_v4_waypoint/default_PositionZ=1.8_WeatherId=12/data_00000.h5\n",
      "/scratch/yang/aws_data/carla_collect/steer103_v4_waypoint/default_PositionZ=1.8_WeatherId=12/data_00001.h5\n",
      "/scratch/yang/aws_data/carla_collect/steer103_v4_waypoint/default_PositionZ=1.8_WeatherId=12/data_00002.h5\n",
      "/scratch/yang/aws_data/carla_collect/steer103_v4_waypoint/default_PositionZ=1.8_WeatherId=12/data_00003.h5\n",
      "/scratch/yang/aws_data/carla_collect/steer103_v4_waypoint/default_PositionZ=1.8_WeatherId=12/data_00004.h5\n",
      "/scratch/yang/aws_data/carla_collect/steer103_v4_waypoint/default_PositionZ=1.8_WeatherId=12/data_00005.h5\n",
      "/scratch/yang/aws_data/carla_collect/steer103_v4_waypoint/default_PositionZ=1.8_WeatherId=12/data_00006.h5\n",
      "/scratch/yang/aws_data/carla_collect/steer103_v4_waypoint/default_PositionZ=1.8_WeatherId=13/data_00000.h5\n",
      "/scratch/yang/aws_data/carla_collect/steer103_v4_waypoint/default_PositionZ=1.8_WeatherId=13/data_00001.h5\n",
      "/scratch/yang/aws_data/carla_collect/steer103_v4_waypoint/default_PositionZ=1.8_WeatherId=13/data_00002.h5\n",
      "/scratch/yang/aws_data/carla_collect/steer103_v4_waypoint/default_PositionZ=1.8_WeatherId=13/data_00003.h5\n",
      "/scratch/yang/aws_data/carla_collect/steer103_v4_waypoint/default_PositionZ=1.8_WeatherId=13/data_00004.h5\n",
      "/scratch/yang/aws_data/carla_collect/steer103_v4_waypoint/default_PositionZ=1.8_WeatherId=13/data_00005.h5\n",
      "/scratch/yang/aws_data/carla_collect/steer103_v4_waypoint/default_PositionZ=1.8_WeatherId=13/data_00006.h5\n",
      "/scratch/yang/aws_data/carla_collect/steer103_v4_waypoint/default_PositionZ=1.8_WeatherId=14/data_00000.h5\n",
      "/scratch/yang/aws_data/carla_collect/steer103_v4_waypoint/default_PositionZ=1.8_WeatherId=14/data_00001.h5\n",
      "/scratch/yang/aws_data/carla_collect/steer103_v4_waypoint/default_PositionZ=1.8_WeatherId=14/data_00002.h5\n",
      "/scratch/yang/aws_data/carla_collect/steer103_v4_waypoint/default_PositionZ=1.8_WeatherId=14/data_00003.h5\n",
      "/scratch/yang/aws_data/carla_collect/steer103_v4_waypoint/default_PositionZ=1.8_WeatherId=14/data_00004.h5\n",
      "/scratch/yang/aws_data/carla_collect/steer103_v4_waypoint/default_PositionZ=1.8_WeatherId=14/data_00005.h5\n",
      "/scratch/yang/aws_data/carla_collect/steer103_v4_waypoint/default_PositionZ=1.8_WeatherId=14/data_00006.h5\n",
      "/scratch/yang/aws_data/carla_collect/steer103_v4_waypoint/default_RotationPitch=-5_WeatherId=01/data_00000.h5\n",
      "/scratch/yang/aws_data/carla_collect/steer103_v4_waypoint/default_RotationPitch=-5_WeatherId=01/data_00001.h5\n",
      "/scratch/yang/aws_data/carla_collect/steer103_v4_waypoint/default_RotationPitch=-5_WeatherId=01/data_00002.h5\n",
      "/scratch/yang/aws_data/carla_collect/steer103_v4_waypoint/default_RotationPitch=-5_WeatherId=01/data_00003.h5\n",
      "/scratch/yang/aws_data/carla_collect/steer103_v4_waypoint/default_RotationPitch=-5_WeatherId=01/data_00004.h5\n",
      "/scratch/yang/aws_data/carla_collect/steer103_v4_waypoint/default_RotationPitch=-5_WeatherId=01/data_00005.h5\n",
      "/scratch/yang/aws_data/carla_collect/steer103_v4_waypoint/default_RotationPitch=-5_WeatherId=01/data_00006.h5\n",
      "/scratch/yang/aws_data/carla_collect/steer103_v4_waypoint/default_RotationPitch=-5_WeatherId=01/data_00007.h5\n",
      "/scratch/yang/aws_data/carla_collect/steer103_v4_waypoint/default_RotationPitch=-5_WeatherId=02/data_00000.h5\n",
      "/scratch/yang/aws_data/carla_collect/steer103_v4_waypoint/default_RotationPitch=-5_WeatherId=02/data_00001.h5\n",
      "/scratch/yang/aws_data/carla_collect/steer103_v4_waypoint/default_RotationPitch=-5_WeatherId=02/data_00002.h5\n",
      "/scratch/yang/aws_data/carla_collect/steer103_v4_waypoint/default_RotationPitch=-5_WeatherId=02/data_00003.h5\n",
      "/scratch/yang/aws_data/carla_collect/steer103_v4_waypoint/default_RotationPitch=-5_WeatherId=02/data_00004.h5\n",
      "/scratch/yang/aws_data/carla_collect/steer103_v4_waypoint/default_RotationPitch=-5_WeatherId=02/data_00005.h5\n",
      "/scratch/yang/aws_data/carla_collect/steer103_v4_waypoint/default_RotationPitch=-5_WeatherId=02/data_00006.h5\n",
      "/scratch/yang/aws_data/carla_collect/steer103_v4_waypoint/default_RotationPitch=-5_WeatherId=03/data_00000.h5\n",
      "/scratch/yang/aws_data/carla_collect/steer103_v4_waypoint/default_RotationPitch=-5_WeatherId=03/data_00001.h5\n",
      "/scratch/yang/aws_data/carla_collect/steer103_v4_waypoint/default_RotationPitch=-5_WeatherId=03/data_00002.h5\n",
      "/scratch/yang/aws_data/carla_collect/steer103_v4_waypoint/default_RotationPitch=-5_WeatherId=03/data_00003.h5\n",
      "/scratch/yang/aws_data/carla_collect/steer103_v4_waypoint/default_RotationPitch=-5_WeatherId=03/data_00004.h5\n",
      "/scratch/yang/aws_data/carla_collect/steer103_v4_waypoint/default_RotationPitch=-5_WeatherId=03/data_00005.h5\n",
      "/scratch/yang/aws_data/carla_collect/steer103_v4_waypoint/default_RotationPitch=-5_WeatherId=03/data_00006.h5\n",
      "/scratch/yang/aws_data/carla_collect/steer103_v4_waypoint/default_RotationPitch=-5_WeatherId=04/data_00000.h5\n",
      "/scratch/yang/aws_data/carla_collect/steer103_v4_waypoint/default_RotationPitch=-5_WeatherId=04/data_00001.h5\n",
      "/scratch/yang/aws_data/carla_collect/steer103_v4_waypoint/default_RotationPitch=-5_WeatherId=04/data_00002.h5\n",
      "/scratch/yang/aws_data/carla_collect/steer103_v4_waypoint/default_RotationPitch=-5_WeatherId=04/data_00003.h5\n",
      "/scratch/yang/aws_data/carla_collect/steer103_v4_waypoint/default_RotationPitch=-5_WeatherId=04/data_00004.h5\n",
      "/scratch/yang/aws_data/carla_collect/steer103_v4_waypoint/default_RotationPitch=-5_WeatherId=04/data_00005.h5\n",
      "/scratch/yang/aws_data/carla_collect/steer103_v4_waypoint/default_RotationPitch=-5_WeatherId=04/data_00006.h5\n",
      "/scratch/yang/aws_data/carla_collect/steer103_v4_waypoint/default_RotationPitch=-5_WeatherId=05/data_00000.h5\n",
      "/scratch/yang/aws_data/carla_collect/steer103_v4_waypoint/default_RotationPitch=-5_WeatherId=05/data_00001.h5\n",
      "/scratch/yang/aws_data/carla_collect/steer103_v4_waypoint/default_RotationPitch=-5_WeatherId=05/data_00002.h5\n",
      "/scratch/yang/aws_data/carla_collect/steer103_v4_waypoint/default_RotationPitch=-5_WeatherId=05/data_00003.h5\n",
      "/scratch/yang/aws_data/carla_collect/steer103_v4_waypoint/default_RotationPitch=-5_WeatherId=05/data_00004.h5\n",
      "/scratch/yang/aws_data/carla_collect/steer103_v4_waypoint/default_RotationPitch=-5_WeatherId=05/data_00005.h5\n",
      "/scratch/yang/aws_data/carla_collect/steer103_v4_waypoint/default_RotationPitch=-5_WeatherId=05/data_00006.h5\n",
      "/scratch/yang/aws_data/carla_collect/steer103_v4_waypoint/default_RotationPitch=-5_WeatherId=06/data_00000.h5\n",
      "/scratch/yang/aws_data/carla_collect/steer103_v4_waypoint/default_RotationPitch=-5_WeatherId=06/data_00001.h5\n",
      "/scratch/yang/aws_data/carla_collect/steer103_v4_waypoint/default_RotationPitch=-5_WeatherId=06/data_00002.h5\n",
      "/scratch/yang/aws_data/carla_collect/steer103_v4_waypoint/default_RotationPitch=-5_WeatherId=06/data_00003.h5\n",
      "/scratch/yang/aws_data/carla_collect/steer103_v4_waypoint/default_RotationPitch=-5_WeatherId=06/data_00004.h5\n",
      "/scratch/yang/aws_data/carla_collect/steer103_v4_waypoint/default_RotationPitch=-5_WeatherId=06/data_00005.h5\n",
      "/scratch/yang/aws_data/carla_collect/steer103_v4_waypoint/default_RotationPitch=-5_WeatherId=06/data_00006.h5\n",
      "/scratch/yang/aws_data/carla_collect/steer103_v4_waypoint/default_RotationPitch=-5_WeatherId=07/data_00000.h5\n",
      "/scratch/yang/aws_data/carla_collect/steer103_v4_waypoint/default_RotationPitch=-5_WeatherId=07/data_00001.h5\n",
      "/scratch/yang/aws_data/carla_collect/steer103_v4_waypoint/default_RotationPitch=-5_WeatherId=07/data_00002.h5\n",
      "/scratch/yang/aws_data/carla_collect/steer103_v4_waypoint/default_RotationPitch=-5_WeatherId=07/data_00003.h5\n",
      "/scratch/yang/aws_data/carla_collect/steer103_v4_waypoint/default_RotationPitch=-5_WeatherId=07/data_00004.h5\n",
      "/scratch/yang/aws_data/carla_collect/steer103_v4_waypoint/default_RotationPitch=-5_WeatherId=07/data_00005.h5\n",
      "/scratch/yang/aws_data/carla_collect/steer103_v4_waypoint/default_RotationPitch=-5_WeatherId=07/data_00006.h5\n",
      "/scratch/yang/aws_data/carla_collect/steer103_v4_waypoint/default_RotationPitch=-5_WeatherId=08/data_00000.h5\n",
      "/scratch/yang/aws_data/carla_collect/steer103_v4_waypoint/default_RotationPitch=-5_WeatherId=08/data_00001.h5\n",
      "/scratch/yang/aws_data/carla_collect/steer103_v4_waypoint/default_RotationPitch=-5_WeatherId=08/data_00002.h5\n",
      "/scratch/yang/aws_data/carla_collect/steer103_v4_waypoint/default_RotationPitch=-5_WeatherId=08/data_00003.h5\n",
      "/scratch/yang/aws_data/carla_collect/steer103_v4_waypoint/default_RotationPitch=-5_WeatherId=08/data_00004.h5\n",
      "/scratch/yang/aws_data/carla_collect/steer103_v4_waypoint/default_RotationPitch=-5_WeatherId=08/data_00005.h5\n",
      "/scratch/yang/aws_data/carla_collect/steer103_v4_waypoint/default_RotationPitch=-5_WeatherId=08/data_00006.h5\n",
      "/scratch/yang/aws_data/carla_collect/steer103_v4_waypoint/default_RotationPitch=-5_WeatherId=09/data_00000.h5\n",
      "/scratch/yang/aws_data/carla_collect/steer103_v4_waypoint/default_RotationPitch=-5_WeatherId=09/data_00001.h5\n",
      "/scratch/yang/aws_data/carla_collect/steer103_v4_waypoint/default_RotationPitch=-5_WeatherId=09/data_00002.h5\n",
      "/scratch/yang/aws_data/carla_collect/steer103_v4_waypoint/default_RotationPitch=-5_WeatherId=09/data_00003.h5\n",
      "/scratch/yang/aws_data/carla_collect/steer103_v4_waypoint/default_RotationPitch=-5_WeatherId=09/data_00004.h5\n",
      "/scratch/yang/aws_data/carla_collect/steer103_v4_waypoint/default_RotationPitch=-5_WeatherId=09/data_00005.h5\n",
      "/scratch/yang/aws_data/carla_collect/steer103_v4_waypoint/default_RotationPitch=-5_WeatherId=09/data_00006.h5\n",
      "/scratch/yang/aws_data/carla_collect/steer103_v4_waypoint/default_RotationPitch=-5_WeatherId=09/data_00007.h5\n",
      "/scratch/yang/aws_data/carla_collect/steer103_v4_waypoint/default_RotationPitch=-5_WeatherId=10/data_00000.h5\n",
      "/scratch/yang/aws_data/carla_collect/steer103_v4_waypoint/default_RotationPitch=-5_WeatherId=10/data_00001.h5\n",
      "/scratch/yang/aws_data/carla_collect/steer103_v4_waypoint/default_RotationPitch=-5_WeatherId=10/data_00002.h5\n",
      "/scratch/yang/aws_data/carla_collect/steer103_v4_waypoint/default_RotationPitch=-5_WeatherId=10/data_00003.h5\n",
      "/scratch/yang/aws_data/carla_collect/steer103_v4_waypoint/default_RotationPitch=-5_WeatherId=10/data_00004.h5\n",
      "/scratch/yang/aws_data/carla_collect/steer103_v4_waypoint/default_RotationPitch=-5_WeatherId=10/data_00005.h5\n",
      "/scratch/yang/aws_data/carla_collect/steer103_v4_waypoint/default_RotationPitch=-5_WeatherId=11/data_00000.h5\n",
      "/scratch/yang/aws_data/carla_collect/steer103_v4_waypoint/default_RotationPitch=-5_WeatherId=11/data_00001.h5\n",
      "/scratch/yang/aws_data/carla_collect/steer103_v4_waypoint/default_RotationPitch=-5_WeatherId=11/data_00002.h5\n",
      "/scratch/yang/aws_data/carla_collect/steer103_v4_waypoint/default_RotationPitch=-5_WeatherId=11/data_00003.h5\n",
      "/scratch/yang/aws_data/carla_collect/steer103_v4_waypoint/default_RotationPitch=-5_WeatherId=11/data_00004.h5\n",
      "/scratch/yang/aws_data/carla_collect/steer103_v4_waypoint/default_RotationPitch=-5_WeatherId=11/data_00005.h5\n",
      "/scratch/yang/aws_data/carla_collect/steer103_v4_waypoint/default_RotationPitch=-5_WeatherId=11/data_00006.h5\n",
      "/scratch/yang/aws_data/carla_collect/steer103_v4_waypoint/default_RotationPitch=-5_WeatherId=12/data_00000.h5\n",
      "/scratch/yang/aws_data/carla_collect/steer103_v4_waypoint/default_RotationPitch=-5_WeatherId=12/data_00001.h5\n",
      "/scratch/yang/aws_data/carla_collect/steer103_v4_waypoint/default_RotationPitch=-5_WeatherId=12/data_00002.h5\n",
      "/scratch/yang/aws_data/carla_collect/steer103_v4_waypoint/default_RotationPitch=-5_WeatherId=12/data_00003.h5\n",
      "/scratch/yang/aws_data/carla_collect/steer103_v4_waypoint/default_RotationPitch=-5_WeatherId=12/data_00004.h5\n",
      "/scratch/yang/aws_data/carla_collect/steer103_v4_waypoint/default_RotationPitch=-5_WeatherId=12/data_00005.h5\n",
      "/scratch/yang/aws_data/carla_collect/steer103_v4_waypoint/default_RotationPitch=-5_WeatherId=12/data_00006.h5\n",
      "/scratch/yang/aws_data/carla_collect/steer103_v4_waypoint/default_RotationPitch=-5_WeatherId=13/data_00000.h5\n",
      "/scratch/yang/aws_data/carla_collect/steer103_v4_waypoint/default_RotationPitch=-5_WeatherId=13/data_00001.h5\n",
      "/scratch/yang/aws_data/carla_collect/steer103_v4_waypoint/default_RotationPitch=-5_WeatherId=13/data_00002.h5\n",
      "/scratch/yang/aws_data/carla_collect/steer103_v4_waypoint/default_RotationPitch=-5_WeatherId=13/data_00003.h5\n",
      "/scratch/yang/aws_data/carla_collect/steer103_v4_waypoint/default_RotationPitch=-5_WeatherId=13/data_00004.h5\n",
      "/scratch/yang/aws_data/carla_collect/steer103_v4_waypoint/default_RotationPitch=-5_WeatherId=13/data_00005.h5\n",
      "/scratch/yang/aws_data/carla_collect/steer103_v4_waypoint/default_RotationPitch=-5_WeatherId=13/data_00006.h5\n",
      "/scratch/yang/aws_data/carla_collect/steer103_v4_waypoint/default_RotationPitch=-5_WeatherId=13/data_00007.h5\n",
      "/scratch/yang/aws_data/carla_collect/steer103_v4_waypoint/default_RotationPitch=-5_WeatherId=14/data_00000.h5\n",
      "/scratch/yang/aws_data/carla_collect/steer103_v4_waypoint/default_RotationPitch=-5_WeatherId=14/data_00001.h5\n",
      "/scratch/yang/aws_data/carla_collect/steer103_v4_waypoint/default_RotationPitch=-5_WeatherId=14/data_00002.h5\n",
      "/scratch/yang/aws_data/carla_collect/steer103_v4_waypoint/default_RotationPitch=-5_WeatherId=14/data_00003.h5\n",
      "/scratch/yang/aws_data/carla_collect/steer103_v4_waypoint/default_RotationPitch=-5_WeatherId=14/data_00004.h5\n",
      "/scratch/yang/aws_data/carla_collect/steer103_v4_waypoint/default_RotationPitch=-5_WeatherId=14/data_00005.h5\n",
      "/scratch/yang/aws_data/carla_collect/steer103_v4_waypoint/default_RotationPitch=-5_WeatherId=14/data_00006.h5\n",
      "/scratch/yang/aws_data/carla_collect/steer103_v4_waypoint/default_RotationPitch=0_WeatherId=01/data_00000.h5\n",
      "/scratch/yang/aws_data/carla_collect/steer103_v4_waypoint/default_RotationPitch=0_WeatherId=01/data_00001.h5\n",
      "/scratch/yang/aws_data/carla_collect/steer103_v4_waypoint/default_RotationPitch=0_WeatherId=01/data_00002.h5\n",
      "/scratch/yang/aws_data/carla_collect/steer103_v4_waypoint/default_RotationPitch=0_WeatherId=01/data_00003.h5\n",
      "/scratch/yang/aws_data/carla_collect/steer103_v4_waypoint/default_RotationPitch=0_WeatherId=01/data_00004.h5\n",
      "/scratch/yang/aws_data/carla_collect/steer103_v4_waypoint/default_RotationPitch=0_WeatherId=01/data_00005.h5\n",
      "/scratch/yang/aws_data/carla_collect/steer103_v4_waypoint/default_RotationPitch=0_WeatherId=01/data_00006.h5\n",
      "/scratch/yang/aws_data/carla_collect/steer103_v4_waypoint/default_RotationPitch=0_WeatherId=02/data_00000.h5\n",
      "/scratch/yang/aws_data/carla_collect/steer103_v4_waypoint/default_RotationPitch=0_WeatherId=02/data_00001.h5\n",
      "/scratch/yang/aws_data/carla_collect/steer103_v4_waypoint/default_RotationPitch=0_WeatherId=02/data_00002.h5\n",
      "/scratch/yang/aws_data/carla_collect/steer103_v4_waypoint/default_RotationPitch=0_WeatherId=02/data_00003.h5\n",
      "/scratch/yang/aws_data/carla_collect/steer103_v4_waypoint/default_RotationPitch=0_WeatherId=02/data_00004.h5\n",
      "/scratch/yang/aws_data/carla_collect/steer103_v4_waypoint/default_RotationPitch=0_WeatherId=02/data_00005.h5\n",
      "/scratch/yang/aws_data/carla_collect/steer103_v4_waypoint/default_RotationPitch=0_WeatherId=02/data_00006.h5\n",
      "/scratch/yang/aws_data/carla_collect/steer103_v4_waypoint/default_RotationPitch=0_WeatherId=03/data_00000.h5\n",
      "/scratch/yang/aws_data/carla_collect/steer103_v4_waypoint/default_RotationPitch=0_WeatherId=03/data_00001.h5\n",
      "/scratch/yang/aws_data/carla_collect/steer103_v4_waypoint/default_RotationPitch=0_WeatherId=03/data_00002.h5\n",
      "/scratch/yang/aws_data/carla_collect/steer103_v4_waypoint/default_RotationPitch=0_WeatherId=03/data_00003.h5\n",
      "/scratch/yang/aws_data/carla_collect/steer103_v4_waypoint/default_RotationPitch=0_WeatherId=03/data_00004.h5\n",
      "/scratch/yang/aws_data/carla_collect/steer103_v4_waypoint/default_RotationPitch=0_WeatherId=03/data_00005.h5\n",
      "/scratch/yang/aws_data/carla_collect/steer103_v4_waypoint/default_RotationPitch=0_WeatherId=03/data_00006.h5\n",
      "/scratch/yang/aws_data/carla_collect/steer103_v4_waypoint/default_RotationPitch=0_WeatherId=03/data_00007.h5\n",
      "/scratch/yang/aws_data/carla_collect/steer103_v4_waypoint/default_RotationPitch=0_WeatherId=04/data_00000.h5\n",
      "/scratch/yang/aws_data/carla_collect/steer103_v4_waypoint/default_RotationPitch=0_WeatherId=04/data_00001.h5\n",
      "/scratch/yang/aws_data/carla_collect/steer103_v4_waypoint/default_RotationPitch=0_WeatherId=04/data_00002.h5\n",
      "/scratch/yang/aws_data/carla_collect/steer103_v4_waypoint/default_RotationPitch=0_WeatherId=04/data_00003.h5\n",
      "/scratch/yang/aws_data/carla_collect/steer103_v4_waypoint/default_RotationPitch=0_WeatherId=04/data_00004.h5\n",
      "/scratch/yang/aws_data/carla_collect/steer103_v4_waypoint/default_RotationPitch=0_WeatherId=04/data_00005.h5\n",
      "/scratch/yang/aws_data/carla_collect/steer103_v4_waypoint/default_RotationPitch=0_WeatherId=04/data_00006.h5\n",
      "/scratch/yang/aws_data/carla_collect/steer103_v4_waypoint/default_RotationPitch=0_WeatherId=04/data_00007.h5\n",
      "/scratch/yang/aws_data/carla_collect/steer103_v4_waypoint/default_RotationPitch=0_WeatherId=05/data_00000.h5\n",
      "/scratch/yang/aws_data/carla_collect/steer103_v4_waypoint/default_RotationPitch=0_WeatherId=05/data_00001.h5\n",
      "/scratch/yang/aws_data/carla_collect/steer103_v4_waypoint/default_RotationPitch=0_WeatherId=05/data_00002.h5\n",
      "/scratch/yang/aws_data/carla_collect/steer103_v4_waypoint/default_RotationPitch=0_WeatherId=05/data_00003.h5\n",
      "/scratch/yang/aws_data/carla_collect/steer103_v4_waypoint/default_RotationPitch=0_WeatherId=05/data_00004.h5\n",
      "/scratch/yang/aws_data/carla_collect/steer103_v4_waypoint/default_RotationPitch=0_WeatherId=05/data_00005.h5\n",
      "/scratch/yang/aws_data/carla_collect/steer103_v4_waypoint/default_RotationPitch=0_WeatherId=05/data_00006.h5\n",
      "/scratch/yang/aws_data/carla_collect/steer103_v4_waypoint/default_RotationPitch=0_WeatherId=06/data_00000.h5\n",
      "/scratch/yang/aws_data/carla_collect/steer103_v4_waypoint/default_RotationPitch=0_WeatherId=06/data_00001.h5\n",
      "/scratch/yang/aws_data/carla_collect/steer103_v4_waypoint/default_RotationPitch=0_WeatherId=06/data_00002.h5\n",
      "/scratch/yang/aws_data/carla_collect/steer103_v4_waypoint/default_RotationPitch=0_WeatherId=06/data_00003.h5\n",
      "/scratch/yang/aws_data/carla_collect/steer103_v4_waypoint/default_RotationPitch=0_WeatherId=06/data_00004.h5\n",
      "/scratch/yang/aws_data/carla_collect/steer103_v4_waypoint/default_RotationPitch=0_WeatherId=06/data_00005.h5\n",
      "/scratch/yang/aws_data/carla_collect/steer103_v4_waypoint/default_RotationPitch=0_WeatherId=06/data_00006.h5\n",
      "/scratch/yang/aws_data/carla_collect/steer103_v4_waypoint/default_RotationPitch=0_WeatherId=07/data_00000.h5\n",
      "/scratch/yang/aws_data/carla_collect/steer103_v4_waypoint/default_RotationPitch=0_WeatherId=07/data_00001.h5\n",
      "/scratch/yang/aws_data/carla_collect/steer103_v4_waypoint/default_RotationPitch=0_WeatherId=07/data_00002.h5\n",
      "/scratch/yang/aws_data/carla_collect/steer103_v4_waypoint/default_RotationPitch=0_WeatherId=07/data_00003.h5\n",
      "/scratch/yang/aws_data/carla_collect/steer103_v4_waypoint/default_RotationPitch=0_WeatherId=07/data_00004.h5\n",
      "/scratch/yang/aws_data/carla_collect/steer103_v4_waypoint/default_RotationPitch=0_WeatherId=07/data_00005.h5\n",
      "/scratch/yang/aws_data/carla_collect/steer103_v4_waypoint/default_RotationPitch=0_WeatherId=07/data_00006.h5\n",
      "/scratch/yang/aws_data/carla_collect/steer103_v4_waypoint/default_RotationPitch=0_WeatherId=08/data_00000.h5\n",
      "/scratch/yang/aws_data/carla_collect/steer103_v4_waypoint/default_RotationPitch=0_WeatherId=08/data_00001.h5\n",
      "/scratch/yang/aws_data/carla_collect/steer103_v4_waypoint/default_RotationPitch=0_WeatherId=08/data_00002.h5\n",
      "/scratch/yang/aws_data/carla_collect/steer103_v4_waypoint/default_RotationPitch=0_WeatherId=08/data_00003.h5\n",
      "/scratch/yang/aws_data/carla_collect/steer103_v4_waypoint/default_RotationPitch=0_WeatherId=08/data_00004.h5\n",
      "/scratch/yang/aws_data/carla_collect/steer103_v4_waypoint/default_RotationPitch=0_WeatherId=08/data_00005.h5\n",
      "/scratch/yang/aws_data/carla_collect/steer103_v4_waypoint/default_RotationPitch=0_WeatherId=08/data_00006.h5\n",
      "/scratch/yang/aws_data/carla_collect/steer103_v4_waypoint/default_RotationPitch=0_WeatherId=08/data_00007.h5\n",
      "/scratch/yang/aws_data/carla_collect/steer103_v4_waypoint/default_RotationPitch=0_WeatherId=09/data_00000.h5\n",
      "/scratch/yang/aws_data/carla_collect/steer103_v4_waypoint/default_RotationPitch=0_WeatherId=09/data_00001.h5\n",
      "/scratch/yang/aws_data/carla_collect/steer103_v4_waypoint/default_RotationPitch=0_WeatherId=09/data_00002.h5\n",
      "/scratch/yang/aws_data/carla_collect/steer103_v4_waypoint/default_RotationPitch=0_WeatherId=09/data_00003.h5\n",
      "/scratch/yang/aws_data/carla_collect/steer103_v4_waypoint/default_RotationPitch=0_WeatherId=09/data_00004.h5\n",
      "/scratch/yang/aws_data/carla_collect/steer103_v4_waypoint/default_RotationPitch=0_WeatherId=09/data_00005.h5\n",
      "/scratch/yang/aws_data/carla_collect/steer103_v4_waypoint/default_RotationPitch=0_WeatherId=09/data_00006.h5\n",
      "/scratch/yang/aws_data/carla_collect/steer103_v4_waypoint/default_RotationPitch=0_WeatherId=09/data_00007.h5\n",
      "/scratch/yang/aws_data/carla_collect/steer103_v4_waypoint/default_RotationPitch=0_WeatherId=10/data_00000.h5\n",
      "/scratch/yang/aws_data/carla_collect/steer103_v4_waypoint/default_RotationPitch=0_WeatherId=10/data_00001.h5\n",
      "/scratch/yang/aws_data/carla_collect/steer103_v4_waypoint/default_RotationPitch=0_WeatherId=10/data_00002.h5\n",
      "/scratch/yang/aws_data/carla_collect/steer103_v4_waypoint/default_RotationPitch=0_WeatherId=10/data_00003.h5\n",
      "/scratch/yang/aws_data/carla_collect/steer103_v4_waypoint/default_RotationPitch=0_WeatherId=10/data_00004.h5\n",
      "/scratch/yang/aws_data/carla_collect/steer103_v4_waypoint/default_RotationPitch=0_WeatherId=10/data_00005.h5\n",
      "/scratch/yang/aws_data/carla_collect/steer103_v4_waypoint/default_RotationPitch=0_WeatherId=10/data_00006.h5\n",
      "/scratch/yang/aws_data/carla_collect/steer103_v4_waypoint/default_RotationPitch=0_WeatherId=10/data_00007.h5\n",
      "/scratch/yang/aws_data/carla_collect/steer103_v4_waypoint/default_RotationPitch=0_WeatherId=11/data_00000.h5\n",
      "/scratch/yang/aws_data/carla_collect/steer103_v4_waypoint/default_RotationPitch=0_WeatherId=11/data_00001.h5\n",
      "/scratch/yang/aws_data/carla_collect/steer103_v4_waypoint/default_RotationPitch=0_WeatherId=11/data_00002.h5\n",
      "/scratch/yang/aws_data/carla_collect/steer103_v4_waypoint/default_RotationPitch=0_WeatherId=11/data_00003.h5\n",
      "/scratch/yang/aws_data/carla_collect/steer103_v4_waypoint/default_RotationPitch=0_WeatherId=11/data_00004.h5\n",
      "/scratch/yang/aws_data/carla_collect/steer103_v4_waypoint/default_RotationPitch=0_WeatherId=11/data_00005.h5\n",
      "/scratch/yang/aws_data/carla_collect/steer103_v4_waypoint/default_RotationPitch=0_WeatherId=11/data_00006.h5\n",
      "/scratch/yang/aws_data/carla_collect/steer103_v4_waypoint/default_RotationPitch=0_WeatherId=12/data_00000.h5\n",
      "/scratch/yang/aws_data/carla_collect/steer103_v4_waypoint/default_RotationPitch=0_WeatherId=12/data_00001.h5\n",
      "/scratch/yang/aws_data/carla_collect/steer103_v4_waypoint/default_RotationPitch=0_WeatherId=12/data_00002.h5\n",
      "/scratch/yang/aws_data/carla_collect/steer103_v4_waypoint/default_RotationPitch=0_WeatherId=12/data_00003.h5\n",
      "/scratch/yang/aws_data/carla_collect/steer103_v4_waypoint/default_RotationPitch=0_WeatherId=12/data_00004.h5\n",
      "/scratch/yang/aws_data/carla_collect/steer103_v4_waypoint/default_RotationPitch=0_WeatherId=12/data_00005.h5\n",
      "/scratch/yang/aws_data/carla_collect/steer103_v4_waypoint/default_RotationPitch=0_WeatherId=12/data_00006.h5\n",
      "/scratch/yang/aws_data/carla_collect/steer103_v4_waypoint/default_RotationPitch=0_WeatherId=13/data_00000.h5\n",
      "/scratch/yang/aws_data/carla_collect/steer103_v4_waypoint/default_RotationPitch=0_WeatherId=13/data_00001.h5\n",
      "/scratch/yang/aws_data/carla_collect/steer103_v4_waypoint/default_RotationPitch=0_WeatherId=13/data_00002.h5\n",
      "/scratch/yang/aws_data/carla_collect/steer103_v4_waypoint/default_RotationPitch=0_WeatherId=13/data_00003.h5\n",
      "/scratch/yang/aws_data/carla_collect/steer103_v4_waypoint/default_RotationPitch=0_WeatherId=13/data_00004.h5\n",
      "/scratch/yang/aws_data/carla_collect/steer103_v4_waypoint/default_RotationPitch=0_WeatherId=13/data_00005.h5\n",
      "/scratch/yang/aws_data/carla_collect/steer103_v4_waypoint/default_RotationPitch=0_WeatherId=13/data_00006.h5\n",
      "/scratch/yang/aws_data/carla_collect/steer103_v4_waypoint/default_RotationPitch=0_WeatherId=14/data_00000.h5\n",
      "/scratch/yang/aws_data/carla_collect/steer103_v4_waypoint/default_RotationPitch=0_WeatherId=14/data_00001.h5\n",
      "/scratch/yang/aws_data/carla_collect/steer103_v4_waypoint/default_RotationPitch=0_WeatherId=14/data_00002.h5\n",
      "/scratch/yang/aws_data/carla_collect/steer103_v4_waypoint/default_RotationPitch=0_WeatherId=14/data_00003.h5\n",
      "/scratch/yang/aws_data/carla_collect/steer103_v4_waypoint/default_RotationPitch=0_WeatherId=14/data_00004.h5\n",
      "/scratch/yang/aws_data/carla_collect/steer103_v4_waypoint/default_RotationPitch=0_WeatherId=14/data_00005.h5\n",
      "/scratch/yang/aws_data/carla_collect/steer103_v4_waypoint/default_RotationPitch=0_WeatherId=14/data_00006.h5\n",
      "/scratch/yang/aws_data/carla_collect/steer103_v4_waypoint/default_RotationPitch=0_WeatherId=14/data_00007.h5\n",
      "/scratch/yang/aws_data/carla_collect/steer103_v4_waypoint/default_RotationPitch=5_WeatherId=01/data_00000.h5\n",
      "/scratch/yang/aws_data/carla_collect/steer103_v4_waypoint/default_RotationPitch=5_WeatherId=01/data_00001.h5\n",
      "/scratch/yang/aws_data/carla_collect/steer103_v4_waypoint/default_RotationPitch=5_WeatherId=01/data_00002.h5\n",
      "/scratch/yang/aws_data/carla_collect/steer103_v4_waypoint/default_RotationPitch=5_WeatherId=01/data_00003.h5\n",
      "/scratch/yang/aws_data/carla_collect/steer103_v4_waypoint/default_RotationPitch=5_WeatherId=01/data_00004.h5\n",
      "/scratch/yang/aws_data/carla_collect/steer103_v4_waypoint/default_RotationPitch=5_WeatherId=01/data_00005.h5\n",
      "/scratch/yang/aws_data/carla_collect/steer103_v4_waypoint/default_RotationPitch=5_WeatherId=01/data_00006.h5\n",
      "/scratch/yang/aws_data/carla_collect/steer103_v4_waypoint/default_RotationPitch=5_WeatherId=02/data_00000.h5\n",
      "/scratch/yang/aws_data/carla_collect/steer103_v4_waypoint/default_RotationPitch=5_WeatherId=02/data_00001.h5\n",
      "/scratch/yang/aws_data/carla_collect/steer103_v4_waypoint/default_RotationPitch=5_WeatherId=02/data_00002.h5\n",
      "/scratch/yang/aws_data/carla_collect/steer103_v4_waypoint/default_RotationPitch=5_WeatherId=02/data_00003.h5\n",
      "/scratch/yang/aws_data/carla_collect/steer103_v4_waypoint/default_RotationPitch=5_WeatherId=02/data_00004.h5\n",
      "/scratch/yang/aws_data/carla_collect/steer103_v4_waypoint/default_RotationPitch=5_WeatherId=02/data_00005.h5\n",
      "/scratch/yang/aws_data/carla_collect/steer103_v4_waypoint/default_RotationPitch=5_WeatherId=03/data_00000.h5\n",
      "/scratch/yang/aws_data/carla_collect/steer103_v4_waypoint/default_RotationPitch=5_WeatherId=03/data_00001.h5\n",
      "/scratch/yang/aws_data/carla_collect/steer103_v4_waypoint/default_RotationPitch=5_WeatherId=03/data_00002.h5\n",
      "/scratch/yang/aws_data/carla_collect/steer103_v4_waypoint/default_RotationPitch=5_WeatherId=03/data_00003.h5\n",
      "/scratch/yang/aws_data/carla_collect/steer103_v4_waypoint/default_RotationPitch=5_WeatherId=03/data_00004.h5\n",
      "/scratch/yang/aws_data/carla_collect/steer103_v4_waypoint/default_RotationPitch=5_WeatherId=03/data_00005.h5\n",
      "/scratch/yang/aws_data/carla_collect/steer103_v4_waypoint/default_RotationPitch=5_WeatherId=03/data_00006.h5\n",
      "/scratch/yang/aws_data/carla_collect/steer103_v4_waypoint/default_RotationPitch=5_WeatherId=04/data_00000.h5\n",
      "/scratch/yang/aws_data/carla_collect/steer103_v4_waypoint/default_RotationPitch=5_WeatherId=04/data_00001.h5\n",
      "/scratch/yang/aws_data/carla_collect/steer103_v4_waypoint/default_RotationPitch=5_WeatherId=04/data_00002.h5\n",
      "/scratch/yang/aws_data/carla_collect/steer103_v4_waypoint/default_RotationPitch=5_WeatherId=04/data_00003.h5\n",
      "/scratch/yang/aws_data/carla_collect/steer103_v4_waypoint/default_RotationPitch=5_WeatherId=04/data_00004.h5\n",
      "/scratch/yang/aws_data/carla_collect/steer103_v4_waypoint/default_RotationPitch=5_WeatherId=04/data_00005.h5\n",
      "/scratch/yang/aws_data/carla_collect/steer103_v4_waypoint/default_RotationPitch=5_WeatherId=04/data_00006.h5\n",
      "/scratch/yang/aws_data/carla_collect/steer103_v4_waypoint/default_RotationPitch=5_WeatherId=04/data_00007.h5\n",
      "/scratch/yang/aws_data/carla_collect/steer103_v4_waypoint/default_RotationPitch=5_WeatherId=05/data_00000.h5\n",
      "/scratch/yang/aws_data/carla_collect/steer103_v4_waypoint/default_RotationPitch=5_WeatherId=05/data_00001.h5\n",
      "/scratch/yang/aws_data/carla_collect/steer103_v4_waypoint/default_RotationPitch=5_WeatherId=05/data_00002.h5\n",
      "/scratch/yang/aws_data/carla_collect/steer103_v4_waypoint/default_RotationPitch=5_WeatherId=05/data_00003.h5\n",
      "/scratch/yang/aws_data/carla_collect/steer103_v4_waypoint/default_RotationPitch=5_WeatherId=05/data_00004.h5\n",
      "/scratch/yang/aws_data/carla_collect/steer103_v4_waypoint/default_RotationPitch=5_WeatherId=05/data_00005.h5\n",
      "/scratch/yang/aws_data/carla_collect/steer103_v4_waypoint/default_RotationPitch=5_WeatherId=05/data_00006.h5\n",
      "/scratch/yang/aws_data/carla_collect/steer103_v4_waypoint/default_RotationPitch=5_WeatherId=05/data_00007.h5\n",
      "/scratch/yang/aws_data/carla_collect/steer103_v4_waypoint/default_RotationPitch=5_WeatherId=06/data_00000.h5\n",
      "/scratch/yang/aws_data/carla_collect/steer103_v4_waypoint/default_RotationPitch=5_WeatherId=06/data_00001.h5\n",
      "/scratch/yang/aws_data/carla_collect/steer103_v4_waypoint/default_RotationPitch=5_WeatherId=06/data_00002.h5\n",
      "/scratch/yang/aws_data/carla_collect/steer103_v4_waypoint/default_RotationPitch=5_WeatherId=06/data_00003.h5\n",
      "/scratch/yang/aws_data/carla_collect/steer103_v4_waypoint/default_RotationPitch=5_WeatherId=06/data_00004.h5\n",
      "/scratch/yang/aws_data/carla_collect/steer103_v4_waypoint/default_RotationPitch=5_WeatherId=06/data_00005.h5\n",
      "/scratch/yang/aws_data/carla_collect/steer103_v4_waypoint/default_RotationPitch=5_WeatherId=06/data_00006.h5\n",
      "/scratch/yang/aws_data/carla_collect/steer103_v4_waypoint/default_RotationPitch=5_WeatherId=06/data_00007.h5\n",
      "/scratch/yang/aws_data/carla_collect/steer103_v4_waypoint/default_RotationPitch=5_WeatherId=07/data_00000.h5\n",
      "/scratch/yang/aws_data/carla_collect/steer103_v4_waypoint/default_RotationPitch=5_WeatherId=07/data_00001.h5\n",
      "/scratch/yang/aws_data/carla_collect/steer103_v4_waypoint/default_RotationPitch=5_WeatherId=07/data_00002.h5\n",
      "/scratch/yang/aws_data/carla_collect/steer103_v4_waypoint/default_RotationPitch=5_WeatherId=07/data_00003.h5\n",
      "/scratch/yang/aws_data/carla_collect/steer103_v4_waypoint/default_RotationPitch=5_WeatherId=07/data_00004.h5\n",
      "/scratch/yang/aws_data/carla_collect/steer103_v4_waypoint/default_RotationPitch=5_WeatherId=07/data_00005.h5\n",
      "/scratch/yang/aws_data/carla_collect/steer103_v4_waypoint/default_RotationPitch=5_WeatherId=07/data_00006.h5\n",
      "/scratch/yang/aws_data/carla_collect/steer103_v4_waypoint/default_RotationPitch=5_WeatherId=08/data_00000.h5\n",
      "/scratch/yang/aws_data/carla_collect/steer103_v4_waypoint/default_RotationPitch=5_WeatherId=08/data_00001.h5\n",
      "/scratch/yang/aws_data/carla_collect/steer103_v4_waypoint/default_RotationPitch=5_WeatherId=08/data_00002.h5\n",
      "/scratch/yang/aws_data/carla_collect/steer103_v4_waypoint/default_RotationPitch=5_WeatherId=08/data_00003.h5\n",
      "/scratch/yang/aws_data/carla_collect/steer103_v4_waypoint/default_RotationPitch=5_WeatherId=08/data_00004.h5\n",
      "/scratch/yang/aws_data/carla_collect/steer103_v4_waypoint/default_RotationPitch=5_WeatherId=08/data_00005.h5\n",
      "/scratch/yang/aws_data/carla_collect/steer103_v4_waypoint/default_RotationPitch=5_WeatherId=08/data_00006.h5\n",
      "/scratch/yang/aws_data/carla_collect/steer103_v4_waypoint/default_RotationPitch=5_WeatherId=09/data_00000.h5\n",
      "/scratch/yang/aws_data/carla_collect/steer103_v4_waypoint/default_RotationPitch=5_WeatherId=09/data_00001.h5\n",
      "/scratch/yang/aws_data/carla_collect/steer103_v4_waypoint/default_RotationPitch=5_WeatherId=09/data_00002.h5\n",
      "/scratch/yang/aws_data/carla_collect/steer103_v4_waypoint/default_RotationPitch=5_WeatherId=09/data_00003.h5\n",
      "/scratch/yang/aws_data/carla_collect/steer103_v4_waypoint/default_RotationPitch=5_WeatherId=09/data_00004.h5\n",
      "/scratch/yang/aws_data/carla_collect/steer103_v4_waypoint/default_RotationPitch=5_WeatherId=09/data_00005.h5\n",
      "/scratch/yang/aws_data/carla_collect/steer103_v4_waypoint/default_RotationPitch=5_WeatherId=09/data_00006.h5\n",
      "/scratch/yang/aws_data/carla_collect/steer103_v4_waypoint/default_RotationPitch=5_WeatherId=10/data_00000.h5\n",
      "/scratch/yang/aws_data/carla_collect/steer103_v4_waypoint/default_RotationPitch=5_WeatherId=10/data_00001.h5\n",
      "/scratch/yang/aws_data/carla_collect/steer103_v4_waypoint/default_RotationPitch=5_WeatherId=10/data_00002.h5\n",
      "/scratch/yang/aws_data/carla_collect/steer103_v4_waypoint/default_RotationPitch=5_WeatherId=10/data_00003.h5\n",
      "/scratch/yang/aws_data/carla_collect/steer103_v4_waypoint/default_RotationPitch=5_WeatherId=10/data_00004.h5\n",
      "/scratch/yang/aws_data/carla_collect/steer103_v4_waypoint/default_RotationPitch=5_WeatherId=10/data_00005.h5\n",
      "/scratch/yang/aws_data/carla_collect/steer103_v4_waypoint/default_RotationPitch=5_WeatherId=10/data_00006.h5\n",
      "/scratch/yang/aws_data/carla_collect/steer103_v4_waypoint/default_RotationPitch=5_WeatherId=11/data_00000.h5\n",
      "/scratch/yang/aws_data/carla_collect/steer103_v4_waypoint/default_RotationPitch=5_WeatherId=11/data_00001.h5\n",
      "/scratch/yang/aws_data/carla_collect/steer103_v4_waypoint/default_RotationPitch=5_WeatherId=11/data_00002.h5\n",
      "/scratch/yang/aws_data/carla_collect/steer103_v4_waypoint/default_RotationPitch=5_WeatherId=11/data_00003.h5\n",
      "/scratch/yang/aws_data/carla_collect/steer103_v4_waypoint/default_RotationPitch=5_WeatherId=11/data_00004.h5\n",
      "/scratch/yang/aws_data/carla_collect/steer103_v4_waypoint/default_RotationPitch=5_WeatherId=11/data_00005.h5\n",
      "/scratch/yang/aws_data/carla_collect/steer103_v4_waypoint/default_RotationPitch=5_WeatherId=11/data_00006.h5\n",
      "/scratch/yang/aws_data/carla_collect/steer103_v4_waypoint/default_RotationPitch=5_WeatherId=12/data_00000.h5\n",
      "/scratch/yang/aws_data/carla_collect/steer103_v4_waypoint/default_RotationPitch=5_WeatherId=12/data_00001.h5\n",
      "/scratch/yang/aws_data/carla_collect/steer103_v4_waypoint/default_RotationPitch=5_WeatherId=12/data_00002.h5\n",
      "/scratch/yang/aws_data/carla_collect/steer103_v4_waypoint/default_RotationPitch=5_WeatherId=12/data_00003.h5\n",
      "/scratch/yang/aws_data/carla_collect/steer103_v4_waypoint/default_RotationPitch=5_WeatherId=12/data_00004.h5\n",
      "/scratch/yang/aws_data/carla_collect/steer103_v4_waypoint/default_RotationPitch=5_WeatherId=12/data_00005.h5\n",
      "/scratch/yang/aws_data/carla_collect/steer103_v4_waypoint/default_RotationPitch=5_WeatherId=12/data_00006.h5\n",
      "/scratch/yang/aws_data/carla_collect/steer103_v4_waypoint/default_RotationPitch=5_WeatherId=13/data_00000.h5\n",
      "/scratch/yang/aws_data/carla_collect/steer103_v4_waypoint/default_RotationPitch=5_WeatherId=13/data_00001.h5\n",
      "/scratch/yang/aws_data/carla_collect/steer103_v4_waypoint/default_RotationPitch=5_WeatherId=13/data_00002.h5\n",
      "/scratch/yang/aws_data/carla_collect/steer103_v4_waypoint/default_RotationPitch=5_WeatherId=13/data_00003.h5\n",
      "/scratch/yang/aws_data/carla_collect/steer103_v4_waypoint/default_RotationPitch=5_WeatherId=13/data_00004.h5\n",
      "/scratch/yang/aws_data/carla_collect/steer103_v4_waypoint/default_RotationPitch=5_WeatherId=13/data_00005.h5\n",
      "/scratch/yang/aws_data/carla_collect/steer103_v4_waypoint/default_RotationPitch=5_WeatherId=13/data_00006.h5\n",
      "/scratch/yang/aws_data/carla_collect/steer103_v4_waypoint/default_RotationPitch=5_WeatherId=14/data_00000.h5\n",
      "/scratch/yang/aws_data/carla_collect/steer103_v4_waypoint/default_RotationPitch=5_WeatherId=14/data_00001.h5\n",
      "/scratch/yang/aws_data/carla_collect/steer103_v4_waypoint/default_RotationPitch=5_WeatherId=14/data_00002.h5\n",
      "/scratch/yang/aws_data/carla_collect/steer103_v4_waypoint/default_RotationPitch=5_WeatherId=14/data_00003.h5\n",
      "/scratch/yang/aws_data/carla_collect/steer103_v4_waypoint/default_RotationPitch=5_WeatherId=14/data_00004.h5\n",
      "/scratch/yang/aws_data/carla_collect/steer103_v4_waypoint/default_RotationPitch=5_WeatherId=14/data_00005.h5\n",
      "/scratch/yang/aws_data/carla_collect/steer103_v4_waypoint/default_RotationPitch=5_WeatherId=14/data_00006.h5\n",
      "/scratch/yang/aws_data/carla_collect/steer103_v4_waypoint/default_RotationPitch=5_WeatherId=14/data_00007.h5\n",
      "done\n"
     ]
    }
   ],
   "source": [
    "import h5py, glob\n",
    "import numpy as np\n",
    "path = \"/scratch/yang/aws_data/carla_collect/steer103_v4_waypoint/*/*h5\"\n",
    "\n",
    "all_wps = []\n",
    "for f in sorted(glob.glob(path)):\n",
    "    print(f)\n",
    "    h5 = h5py.File(f, \"r\")\n",
    "    targets = h5[\"targets\"][:]\n",
    "    all_wps.append(targets)\n",
    "    h5.close()\n",
    "print(\"done\")\n",
    "wps = np.concatenate(all_wps, axis=0)    "
   ]
  },
  {
   "cell_type": "code",
   "execution_count": 1056,
   "metadata": {},
   "outputs": [
    {
     "data": {
      "text/plain": [
       "(142400, 100)"
      ]
     },
     "execution_count": 1056,
     "metadata": {},
     "output_type": "execute_result"
    }
   ],
   "source": [
    "wps.shape"
   ]
  },
  {
   "cell_type": "code",
   "execution_count": 1058,
   "metadata": {},
   "outputs": [
    {
     "data": {
      "text/plain": [
       "(142400, 18)"
      ]
     },
     "execution_count": 1058,
     "metadata": {},
     "output_type": "execute_result"
    }
   ],
   "source": [
    "wp = wps[:, 35:(35+int(wps[0, -1]))]\n",
    "wp.shape"
   ]
  },
  {
   "cell_type": "code",
   "execution_count": 1059,
   "metadata": {},
   "outputs": [
    {
     "data": {
      "text/plain": [
       "array([0.5185522 , 0.02422885, 1.0374991 , 0.05767292, 1.5567989 ,\n",
       "       0.09887891, 2.0767918 , 0.14685084, 2.5978343 , 0.19989158,\n",
       "       3.12038   , 0.25597203, 3.6444478 , 0.31346634, 4.1698804 ,\n",
       "       0.37149605, 4.6965365 , 0.42976466], dtype=float32)"
      ]
     },
     "execution_count": 1059,
     "metadata": {},
     "output_type": "execute_result"
    }
   ],
   "source": [
    "np.mean(np.abs(wp), axis=0)"
   ]
  },
  {
   "cell_type": "code",
   "execution_count": 1066,
   "metadata": {},
   "outputs": [
    {
     "name": "stdout",
     "output_type": "stream",
     "text": [
      "[0.40133008 0.03673972 0.8015151  0.08709838 1.1995751  0.15118973\n",
      " 1.5958097  0.22680518 1.9899168  0.31146228 2.3822784  0.40258685\n",
      " 2.7729309  0.49791554 3.1621203  0.5958485  3.5511675  0.6951281 ]\n"
     ]
    }
   ],
   "source": [
    "inter = np.abs(wp) - np.mean(np.abs(wp))\n",
    "inter = np.std(inter, axis=0)\n",
    "print(inter)"
   ]
  },
  {
   "cell_type": "code",
   "execution_count": 1063,
   "metadata": {},
   "outputs": [
    {
     "data": {
      "text/plain": [
       "array([0.4013355 , 0.03673478, 0.8015227 , 0.08709376, 1.1995894 ,\n",
       "       0.15118779, 1.5958277 , 0.22680537, 1.9899381 , 0.31146216,\n",
       "       2.3822896 , 0.40258747, 2.7729225 , 0.49791673, 3.16214   ,\n",
       "       0.5958508 , 3.5511851 , 0.6951308 ], dtype=float32)"
      ]
     },
     "execution_count": 1063,
     "metadata": {},
     "output_type": "execute_result"
    }
   ],
   "source": [
    "np.std(np.abs(wp), axis=0)"
   ]
  },
  {
   "cell_type": "code",
   "execution_count": 1069,
   "metadata": {},
   "outputs": [
    {
     "name": "stdout",
     "output_type": "stream",
     "text": [
      "[ 2.4916809  10.          1.2476253  10.          0.83361857  6.61429074\n",
      "  0.62663407  4.40906668  0.50252819  3.21066289  0.41976425  2.48393225\n",
      "  0.36063035  2.00836795  0.31624153  1.67827248  0.28159614  1.43857818]\n"
     ]
    }
   ],
   "source": [
    "stds = np.array([0.4013355, 0.03673478, 0.8015227, 0.08709376, 1.1995894,\n",
    "               0.15118779, 1.5958277, 0.22680537, 1.9899381, 0.31146216,\n",
    "               2.3822896, 0.40258747, 2.7729225, 0.49791673, 3.16214,\n",
    "               0.5958508, 3.5511851, 0.6951308])\n",
    "weighting = 1.0 / np.maximum(stds, 0.1)\n",
    "print(weighting)"
   ]
  },
  {
   "cell_type": "code",
   "execution_count": 1075,
   "metadata": {},
   "outputs": [
    {
     "name": "stdout",
     "output_type": "stream",
     "text": [
      "[0.62084737 2.5        0.15565689 2.5        0.06949199 2.5\n",
      " 0.03926703 1.9439869  0.02525346 1.03083562 0.0176202  0.61699194\n",
      " 0.01300542 0.40335418 0.01000087 0.28165985 0.00792964 0.20695072\n",
      " 0.1        0.1       ]\n"
     ]
    }
   ],
   "source": [
    "stds = np.array([0.4013355, 0.03673478, 0.8015227, 0.08709376, 1.1995894,\n",
    "                         0.15118779, 1.5958277, 0.22680537, 1.9899381, 0.31146216,\n",
    "                         2.3822896, 0.40258747, 2.7729225, 0.49791673, 3.16214,\n",
    "                         0.5958508, 3.5511851, 0.6951308, 1.0, 1.0])  # add to dummy entries\n",
    "weighting = 1.0 / np.maximum(stds, 0.2)\n",
    "weighting = (weighting ** 2) * 0.1\n",
    "print(weighting)"
   ]
  },
  {
   "cell_type": "code",
   "execution_count": 1032,
   "metadata": {},
   "outputs": [],
   "source": [
    "import h5py, glob\n",
    "import numpy as np\n",
    "path = \"/scratch/yang/aws_data/carla_collect/steer103_v4_waypoint/*/*h5\"\n",
    "\n",
    "all_wps = []\n",
    "for f in sorted(glob.glob(path)):\n",
    "    h5 = h5py.File(f, \"r\")\n",
    "    targets = h5[\"targets\"]\n",
    "    wps = targets[:, 35:(35+int(targets[0, -1]))]\n",
    "    wps = np.reshape(wps, (200, -1, 2))\n",
    "    all_wps.append(wps)\n",
    "    h5.close()"
   ]
  },
  {
   "cell_type": "code",
   "execution_count": 1033,
   "metadata": {},
   "outputs": [],
   "source": [
    "wps = np.concatenate(all_wps, axis=0)"
   ]
  },
  {
   "cell_type": "code",
   "execution_count": 58,
   "metadata": {},
   "outputs": [
    {
     "name": "stdout",
     "output_type": "stream",
     "text": [
      "Help on method randint in module random:\n",
      "\n",
      "randint(self, a, b) method of random.Random instance\n",
      "    Return random integer in range [a, b], including both end points.\n",
      "\n"
     ]
    }
   ],
   "source": [
    "help(random.randint)"
   ]
  },
  {
   "cell_type": "code",
   "execution_count": 370,
   "metadata": {
    "collapsed": true
   },
   "outputs": [],
   "source": [
    "def plot_wp(wps):\n",
    "    plt.plot(wps[:, 0], wps[:, 1], 'x')\n",
    "    plt.xlim(0, 1)\n",
    "    plt.ylim(-1, 1)\n",
    "    plt.show()\n",
    "def plot_wp_noscale(wps):\n",
    "    plt.plot(wps[:, 0], wps[:, 1], 'x')\n",
    "    plt.show()"
   ]
  },
  {
   "cell_type": "code",
   "execution_count": null,
   "metadata": {
    "scrolled": false
   },
   "outputs": [],
   "source": [
    "import matplotlib.pyplot as plt\n",
    "import random\n",
    "\n",
    "id = random.randint(0, wps.shape[0])\n",
    "print(id)\n",
    "plt.plot(wps[id,:, 0], wps[id,:, 1], 'x')\n",
    "plt.xlim(0, 1)\n",
    "plt.ylim(-1, 1)\n",
    "plt.show()"
   ]
  },
  {
   "cell_type": "code",
   "execution_count": 45,
   "metadata": {},
   "outputs": [
    {
     "name": "stdout",
     "output_type": "stream",
     "text": [
      "[0.80285919 0.80285919 0.80285919 0.80285919 2.3921442  3.18100452\n",
      " 3.96726608 4.74253178 5.44017458 6.64911795 6.64911795 6.64911795\n",
      " 6.64911795]\n",
      "[-0.06148737 -0.11312756 -0.22080644 -0.39444396 -0.53238691 -0.66909116\n",
      " -0.83311351 -0.95072274 -1.02468991  0.          0.          0.\n",
      "  0.        ]\n",
      "3\n"
     ]
    }
   ],
   "source": [
    "from scipy import interpolate\n",
    "t, c, k = interpolate.splrep(wps[id, :, 0], wps[id, :, 1])\n",
    "print(t)\n",
    "print(c)\n",
    "print(k)"
   ]
  },
  {
   "cell_type": "code",
   "execution_count": 49,
   "metadata": {},
   "outputs": [
    {
     "name": "stdout",
     "output_type": "stream",
     "text": [
      "[0.8028592 1.5998268 2.3921442 3.1810045 3.967266  4.742532  5.4401746\n",
      " 6.069377  6.649118 ]\n",
      "[-0.06148737 -0.1532263  -0.26723778 -0.39609474 -0.53375334 -0.67405313\n",
      " -0.8019765  -0.91797084 -1.0246899 ]\n"
     ]
    }
   ],
   "source": [
    "print(wps[id, :, 0])\n",
    "print(wps[id, :, 1])"
   ]
  },
  {
   "cell_type": "code",
   "execution_count": null,
   "metadata": {},
   "outputs": [],
   "source": [
    "xnew = np.arange(0, 10, np.pi/50)\n",
    "ynew = interpolate.splev(xnew, (t,c,k), der=0)\n",
    "plt.plot(xnew, ynew)\n",
    "plt.xlim(0, 10)\n",
    "plt.ylim(-3, 3)\n",
    "plt.show()"
   ]
  },
  {
   "cell_type": "code",
   "execution_count": 1034,
   "metadata": {
    "collapsed": true
   },
   "outputs": [],
   "source": [
    "# delete the totally stopping\n",
    "import copy\n",
    "wps_bak = copy.deepcopy(wps)"
   ]
  },
  {
   "cell_type": "code",
   "execution_count": 1035,
   "metadata": {
    "collapsed": true
   },
   "outputs": [],
   "source": [
    "# restore the original wps\n",
    "wps = wps_bak"
   ]
  },
  {
   "cell_type": "code",
   "execution_count": 1036,
   "metadata": {
    "collapsed": true
   },
   "outputs": [],
   "source": [
    "wps = wps[wps[:,8,0]>0.5, :, :]"
   ]
  },
  {
   "cell_type": "code",
   "execution_count": 1037,
   "metadata": {
    "collapsed": true
   },
   "outputs": [],
   "source": [
    "# scale down by the farthest point\n",
    "scale0 = np.abs(wps[:, 8:9, 0:1])\n",
    "#scale1 = np.abs(wps[:, 8:9, 1:2])"
   ]
  },
  {
   "cell_type": "code",
   "execution_count": 1038,
   "metadata": {
    "collapsed": true
   },
   "outputs": [],
   "source": [
    "wps[:, :, 0:1] /= scale0\n",
    "wps[:, :, 1:2] /= (scale0)\n"
   ]
  },
  {
   "cell_type": "code",
   "execution_count": 1039,
   "metadata": {},
   "outputs": [
    {
     "name": "stdout",
     "output_type": "stream",
     "text": [
      "1.2415949\n",
      "-0.008133731\n",
      "3.6116004\n",
      "-3.168302\n"
     ]
    }
   ],
   "source": [
    "print(np.max(wps[:,:,0]))\n",
    "print(np.min(wps[:,:,0]))\n",
    "print(np.max(wps[:,:,1]))\n",
    "print(np.min(wps[:,:,1]))"
   ]
  },
  {
   "cell_type": "code",
   "execution_count": 365,
   "metadata": {},
   "outputs": [
    {
     "data": {
      "text/plain": [
       "(121526, 9, 2)"
      ]
     },
     "execution_count": 365,
     "metadata": {},
     "output_type": "execute_result"
    }
   ],
   "source": [
    "wps.shape"
   ]
  },
  {
   "cell_type": "code",
   "execution_count": null,
   "metadata": {
    "scrolled": true
   },
   "outputs": [],
   "source": [
    "from sklearn.cluster import KMeans\n",
    "\n",
    "data = np.reshape(wps, (wps.shape[0], 18))\n",
    "\n",
    "kmeans = KMeans(n_clusters=30, n_jobs=-1, verbose=2, random_state=1)\n",
    "kmeans.fit(data)\n",
    "print(kmeans.cluster_centers_)\n"
   ]
  },
  {
   "cell_type": "code",
   "execution_count": 1041,
   "metadata": {
    "collapsed": true
   },
   "outputs": [],
   "source": [
    "i=-1"
   ]
  },
  {
   "cell_type": "code",
   "execution_count": 1046,
   "metadata": {
    "scrolled": false
   },
   "outputs": [
    {
     "name": "stdout",
     "output_type": "stream",
     "text": [
      "4\n"
     ]
    },
    {
     "data": {
      "image/png": "[encoded data removed]",
      "text/plain": [
       "<matplotlib.figure.Figure at 0x7f63e0a6ddd0>"
      ]
     },
     "metadata": {},
     "output_type": "display_data"
    }
   ],
   "source": [
    "i+= 1\n",
    "print(i)\n",
    "plot_wp(np.reshape(kmeans.cluster_centers_[i], (9,2)))"
   ]
  },
  {
   "cell_type": "code",
   "execution_count": 1047,
   "metadata": {
    "scrolled": true
   },
   "outputs": [
    {
     "name": "stdout",
     "output_type": "stream",
     "text": [
      "425\n"
     ]
    },
    {
     "data": {
      "image/png": "[encoded data removed]",
      "text/plain": [
       "<matplotlib.figure.Figure at 0x7f63e1751ad0>"
      ]
     },
     "metadata": {},
     "output_type": "display_data"
    }
   ],
   "source": [
    "ind = (kmeans.labels_==i)\n",
    "this = wps[ind, :, :]\n",
    "id = random.randint(0, this.shape[0])\n",
    "print(id)\n",
    "plot_wp(this[id, :, :])"
   ]
  },
  {
   "cell_type": "code",
   "execution_count": 408,
   "metadata": {},
   "outputs": [],
   "source": [
    "from sklearn import datasets\n",
    "iris=datasets.load_iris()"
   ]
  },
  {
   "cell_type": "code",
   "execution_count": 410,
   "metadata": {},
   "outputs": [
    {
     "data": {
      "text/plain": [
       "(150, 4)"
      ]
     },
     "execution_count": 410,
     "metadata": {},
     "output_type": "execute_result"
    }
   ],
   "source": [
    "iris.data.shape"
   ]
  },
  {
   "cell_type": "code",
   "execution_count": 984,
   "metadata": {},
   "outputs": [],
   "source": [
    "import pickle\n",
    "out =pickle.load(open(\"./utils/cluster_centers.npy\", \"rb\"))"
   ]
  },
  {
   "cell_type": "code",
   "execution_count": 986,
   "metadata": {},
   "outputs": [
    {
     "data": {
      "text/plain": [
       "2.3953931"
      ]
     },
     "execution_count": 986,
     "metadata": {},
     "output_type": "execute_result"
    }
   ],
   "source": [
    "np.max(out\n",
    "      )"
   ]
  },
  {
   "cell_type": "code",
   "execution_count": 1048,
   "metadata": {},
   "outputs": [
    {
     "name": "stdout",
     "output_type": "stream",
     "text": [
      "0\n",
      "1\n",
      "2\n",
      "3\n",
      "4\n",
      "5\n",
      "6\n",
      "7\n",
      "8\n",
      "9\n",
      "10\n",
      "11\n",
      "12\n",
      "13\n",
      "14\n",
      "15\n",
      "16\n",
      "17\n",
      "18\n",
      "19\n",
      "20\n",
      "21\n",
      "22\n",
      "23\n",
      "24\n",
      "25\n",
      "26\n",
      "27\n",
      "28\n",
      "29\n"
     ]
    }
   ],
   "source": [
    "from matplotlib.pyplot import savefig\n",
    "for i in range(30):\n",
    "    print(i)\n",
    "    plt.figure()\n",
    "    wps = np.reshape(kmeans.cluster_centers_[i], (9,2))\n",
    "\n",
    "    eq = (i==kmeans.labels_)\n",
    "    percent = \"%2.1f\" % (np.mean(eq)*100, )\n",
    "    s = \"%.1f%% percent (%d / %d)\" %(np.mean(eq)*100, np.sum(eq), len(eq))\n",
    "\n",
    "    plt.plot(wps[:, 0], wps[:, 1], 'x')\n",
    "    plt.xlim(0, 1)\n",
    "    plt.ylim(-1, 1)\n",
    "    plt.title(s)\n",
    "    #plt.show()\n",
    "    savefig(\"cluster_viz/\" + str(i).zfill(2)+ \"_\" + percent + \".png\")"
   ]
  },
  {
   "cell_type": "code",
   "execution_count": 2,
   "metadata": {},
   "outputs": [],
   "source": [
    "path = \"/scratch/yang/aws_data/carla_collect/steer103_v5_way_v2_town03/default_ImageSizeX=700_WeatherId=04/data_00001.h5\"\n",
    "import h5py\n",
    "f=h5py.File(path, \"r\")"
   ]
  },
  {
   "cell_type": "code",
   "execution_count": 3,
   "metadata": {},
   "outputs": [
    {
     "data": {
      "text/plain": [
       "[u'CameraLeft',\n",
       " u'CameraMiddle',\n",
       " u'CameraRight',\n",
       " u'SegLeft',\n",
       " u'SegMiddle',\n",
       " u'SegRight',\n",
       " u'targets']"
      ]
     },
     "execution_count": 3,
     "metadata": {},
     "output_type": "execute_result"
    }
   ],
   "source": [
    "f.keys()"
   ]
  },
  {
   "cell_type": "code",
   "execution_count": 5,
   "metadata": {},
   "outputs": [],
   "source": [
    "a=f['SegLeft']"
   ]
  },
  {
   "cell_type": "code",
   "execution_count": 8,
   "metadata": {},
   "outputs": [
    {
     "data": {
      "text/plain": [
       "array([], dtype=uint8)"
      ]
     },
     "execution_count": 8,
     "metadata": {},
     "output_type": "execute_result"
    }
   ],
   "source": [
    "a[0]"
   ]
  },
  {
   "cell_type": "code",
   "execution_count": 7,
   "metadata": {},
   "outputs": [
    {
     "data": {
      "text/plain": [
       "0"
      ]
     },
     "execution_count": 7,
     "metadata": {},
     "output_type": "execute_result"
    }
   ],
   "source": [
    "len(a[0])"
   ]
  },
  {
   "cell_type": "code",
   "execution_count": 91,
   "metadata": {
    "collapsed": true
   },
   "outputs": [],
   "source": [
    "\n",
    "def random_region_old(H, W, size, diversity_prob):\n",
    "    image = np.zeros((H, W), dtype=np.bool)\n",
    "    openlist = []\n",
    "\n",
    "    def check_neighbours(image, point):\n",
    "        x, y = point\n",
    "        res = []\n",
    "\n",
    "        for direction in ((-1, 0), (1, 0), (0, 1), (0, -1)):\n",
    "            newx = x + direction[0]\n",
    "            newy = y + direction[1]\n",
    "            if newx >= 0 and newx < image.shape[0] and newy >= 0 and newy < image.shape[1]:\n",
    "                if image[newx, newy] == 0:\n",
    "                    res.append((newx, newy))\n",
    "        return res\n",
    "\n",
    "    i = 0\n",
    "    while i < size:\n",
    "        if openlist == []:\n",
    "            x = np.random.randint(0, H)\n",
    "            y = np.random.randint(0, W)\n",
    "            openlist.append((x, y))\n",
    "            image[x, y] = 1\n",
    "            i += 1\n",
    "        else:\n",
    "            if np.random.rand() < diversity_prob:\n",
    "                x = np.random.randint(0, H)\n",
    "                y = np.random.randint(0, W)\n",
    "                if image[x, y] == 0:\n",
    "                    openlist.append((x, y))\n",
    "                    image[x, y] = 1\n",
    "                    i += 1\n",
    "                    continue\n",
    "\n",
    "            # random a point from the open list\n",
    "            j = np.random.randint(0, len(openlist))\n",
    "            point = openlist[j]\n",
    "            res = check_neighbours(image, point)\n",
    "            if len(res) == 0:\n",
    "                openlist = openlist[0:j] + openlist[j + 1:]\n",
    "            else:\n",
    "                nex = random.choice(res)\n",
    "                openlist.append(nex)\n",
    "                image[nex[0], nex[1]] = 1\n",
    "                i += 1\n",
    "    return image\n"
   ]
  },
  {
   "cell_type": "code",
   "execution_count": null,
   "metadata": {},
   "outputs": [],
   "source": [
    "import numpy as np\n",
    "import random\n",
    "def random_region(H, W):\n",
    "    image = np.zeros((H, W), dtype=np.bool)\n",
    "    # from 1/3 expectation 2 to minimum 3 in shape, each time \n",
    "    sizeW = W // 3\n",
    "    nregions = 1.5\n",
    "    while sizeW >=3 :\n",
    "        sizeH = int(sizeW * 1.0 / W * H)\n",
    "        for i in range(np.random.poisson(nregions)):\n",
    "            this_w = sizeW + int(np.random.normal(0, sizeW//4))\n",
    "            this_h = sizeH + int(np.random.normal(0, sizeH//4))\n",
    "            left_up_h = np.random.randint(0, H - this_h)\n",
    "            left_up_w = np.random.randint(0, W - this_w)\n",
    "            image[left_up_h:(left_up_h+this_h), left_up_w:(left_up_w+this_w)] = True\n",
    "            \n",
    "        sizeW = sizeW // 2\n",
    "        nregions *= 2\n",
    "    return image\n",
    "import matplotlib.pyplot as plt\n",
    "plt.imshow(random_region(39, 52))\n",
    "#plt.imshow(random_region_old(39, 52, np.random.randint(39*52//8, 39*52//3), 0.05))\n",
    "plt.show()"
   ]
  },
  {
   "cell_type": "code",
   "execution_count": 1,
   "metadata": {
    "scrolled": true
   },
   "outputs": [],
   "source": [
    "import sys\n",
    "sys.path.append(\"utils\")\n",
    "import mapping_helper\n",
    "#from importlib import reload\n",
    "import matplotlib.pyplot as plt"
   ]
  },
  {
   "cell_type": "code",
   "execution_count": 12,
   "metadata": {},
   "outputs": [
    {
     "name": "stdout",
     "output_type": "stream",
     "text": [
      "('the version of mapping we are using is ', 'v2')\n"
     ]
    },
    {
     "data": {
      "image/png": "[encoded data removed]",
      "text/plain": [
       "<Figure size 432x288 with 1 Axes>"
      ]
     },
     "metadata": {
      "needs_background": "light"
     },
     "output_type": "display_data"
    }
   ],
   "source": [
    "#reload(mapping_helper)\n",
    "mh = mapping_helper.mapping_helper(output_height_pix=50, version=\"v2\")\n",
    "m = mh.get_map(\"11\", [-48, -9.8], [0.8,0.6,45])\n",
    "#m = mh.get_map(\"01\", [10, 8], [0.8,0.6,90])\n",
    "db = mh.map_to_debug_image(m)\n",
    "#print(mh.compute_dis_to_border(m))\n",
    "plt.imshow(db)\n",
    "plt.show()"
   ]
  },
  {
   "cell_type": "code",
   "execution_count": 190,
   "metadata": {},
   "outputs": [],
   "source": [
    "a=np.meshgrid([1,2,3],[4,5],indexing='ij')"
   ]
  },
  {
   "cell_type": "code",
   "execution_count": 191,
   "metadata": {},
   "outputs": [
    {
     "data": {
      "text/plain": [
       "array([[1, 1],\n",
       "       [2, 2],\n",
       "       [3, 3]])"
      ]
     },
     "execution_count": 191,
     "metadata": {},
     "output_type": "execute_result"
    }
   ],
   "source": [
    "a[0]"
   ]
  },
  {
   "cell_type": "code",
   "execution_count": 192,
   "metadata": {},
   "outputs": [
    {
     "data": {
      "text/plain": [
       "(3, 2)"
      ]
     },
     "execution_count": 192,
     "metadata": {},
     "output_type": "execute_result"
    }
   ],
   "source": [
    "a[0].shape"
   ]
  },
  {
   "cell_type": "code",
   "execution_count": 193,
   "metadata": {},
   "outputs": [
    {
     "data": {
      "text/plain": [
       "array([[4, 5],\n",
       "       [4, 5],\n",
       "       [4, 5]])"
      ]
     },
     "execution_count": 193,
     "metadata": {},
     "output_type": "execute_result"
    }
   ],
   "source": [
    "a[1]"
   ]
  },
  {
   "cell_type": "code",
   "execution_count": 3,
   "metadata": {},
   "outputs": [],
   "source": [
    "h5 = \"/home/yang/data/aws_data/carla_collect/exptown_v19_weather_way/default_ImageSizeX=700_WeatherId=01/data_00000.h5\"\n",
    "import h5py\n",
    "f=h5py.File(h5, 'r')"
   ]
  },
  {
   "cell_type": "code",
   "execution_count": 4,
   "metadata": {},
   "outputs": [
    {
     "data": {
      "text/plain": [
       "[u'CameraLeft',\n",
       " u'CameraMiddle',\n",
       " u'CameraRight',\n",
       " u'SegLeft',\n",
       " u'SegMiddle',\n",
       " u'SegRight',\n",
       " u'targets']"
      ]
     },
     "execution_count": 4,
     "metadata": {},
     "output_type": "execute_result"
    }
   ],
   "source": [
    "f.keys()"
   ]
  },
  {
   "cell_type": "code",
   "execution_count": 5,
   "metadata": {},
   "outputs": [],
   "source": [
    "steers = f['targets'][:, 0]\n",
    "pos = f['targets'][:,8:10]\n",
    "ori = f['targets'][:, 21:24]"
   ]
  },
  {
   "cell_type": "code",
   "execution_count": 6,
   "metadata": {},
   "outputs": [
    {
     "name": "stdout",
     "output_type": "stream",
     "text": [
      "[ 0.30669597  0.61981577 12.349717  ]\n"
     ]
    }
   ],
   "source": [
    "print(ori[0,])"
   ]
  },
  {
   "cell_type": "code",
   "execution_count": 7,
   "metadata": {
    "scrolled": true
   },
   "outputs": [
    {
     "name": "stdout",
     "output_type": "stream",
     "text": [
      "('the version of mapping we are using is ', 'v2')\n",
      "[255 255 255]\n"
     ]
    },
    {
     "data": {
      "image/png": "[encoded data removed]",
      "text/plain": [
       "<Figure size 432x288 with 1 Axes>"
      ]
     },
     "metadata": {
      "needs_background": "light"
     },
     "output_type": "display_data"
    }
   ],
   "source": [
    "import sys\n",
    "sys.path.append(\"utils\")\n",
    "import mapping_helper\n",
    "import matplotlib.pyplot as plt\n",
    "\n",
    "mh = mapping_helper.mapping_helper(output_height_pix=50, version=\"v2\")\n",
    "m = mh.get_map(\"11\", pos[0, :], ori[0,:])\n",
    "#db = mh.map_to_debug_image(m)\n",
    "db = m * 255\n",
    "print(db[db.shape[0]*3//4+1, db.shape[1]//2, :])\n",
    "plt.imshow(db)\n",
    "plt.show()"
   ]
  },
  {
   "cell_type": "code",
   "execution_count": 8,
   "metadata": {},
   "outputs": [
    {
     "data": {
      "text/plain": [
       "255"
      ]
     },
     "execution_count": 8,
     "metadata": {},
     "output_type": "execute_result"
    }
   ],
   "source": [
    "import numpy as np\n",
    "np.max(db)"
   ]
  },
  {
   "cell_type": "code",
   "execution_count": 9,
   "metadata": {},
   "outputs": [
    {
     "data": {
      "image/png": "[encoded data removed]",
      "text/plain": [
       "<Figure size 432x288 with 1 Axes>"
      ]
     },
     "metadata": {
      "needs_background": "light"
     },
     "output_type": "display_data"
    }
   ],
   "source": [
    "import cv2\n",
    "cam=f['CameraMiddle'][0]\n",
    "cam = cv2.imdecode(cam, 1)\n",
    "plt.imshow(cam)\n",
    "plt.show()"
   ]
  },
  {
   "cell_type": "code",
   "execution_count": 10,
   "metadata": {},
   "outputs": [
    {
     "name": "stdout",
     "output_type": "stream",
     "text": [
      "('the version of mapping we are using is ', 'v2')\n"
     ]
    }
   ],
   "source": [
    "h5 = \"/home/yang/data/aws_data/carla_collect/exptown_v19_weather_way/default_ImageSizeX=700_WeatherId=01/data_00000.h5\"\n",
    "import h5py\n",
    "f=h5py.File(h5, 'r')\n",
    "steers = f['targets'][:, 0]\n",
    "pos = f['targets'][:,8:10]\n",
    "mh = mapping_helper.mapping_helper(output_height_pix=50, version=\"v2\")\n",
    "\n",
    "for i in range(200):\n",
    "    m = mh.get_map(\"11\", pos[i, :], [0.0,0.,0.0])\n",
    "    db = m * 255\n",
    "    color = db[db.shape[0]*3//4, db.shape[1]//2, :]\n",
    "    if color[0]==255 and color[1]==0 and color[2]==0:\n",
    "        print(steers[i])\n",
    "        print(i)\n",
    "    elif color[0]==0 and color[1]==255 and color[2]==0:\n",
    "        print(\"error\")\n",
    "        \n",
    "        \n"
   ]
  },
  {
   "cell_type": "code",
   "execution_count": 12,
   "metadata": {
    "scrolled": true
   },
   "outputs": [
    {
     "name": "stdout",
     "output_type": "stream",
     "text": [
      "/home/yang/data/aws_data/carla_collect/exptown_v25_shoulderu4_way/default_ImageSizeX=800_WeatherId=01/data_00014.h5\n",
      "/home/yang/data/aws_data/carla_collect/exptown_v25_shoulderu4_way/default_ImageSizeX=800_WeatherId=01/data_00003.h5\n",
      "('/home/yang/data/aws_data/carla_collect/exptown_v25_shoulderu4_way/default_ImageSizeX=800_WeatherId=01/data_00003.h5', 107, 0.16613384, array([255,   0,   0], dtype=uint8))\n",
      "('/home/yang/data/aws_data/carla_collect/exptown_v25_shoulderu4_way/default_ImageSizeX=800_WeatherId=01/data_00003.h5', 108, 0.173219, array([255,   0,   0], dtype=uint8))\n",
      "/home/yang/data/aws_data/carla_collect/exptown_v25_shoulderu4_way/default_ImageSizeX=800_WeatherId=01/data_00002.h5\n",
      "('/home/yang/data/aws_data/carla_collect/exptown_v25_shoulderu4_way/default_ImageSizeX=800_WeatherId=01/data_00002.h5', 23, 0.09109055, array([255,   0,   0], dtype=uint8))\n",
      "/home/yang/data/aws_data/carla_collect/exptown_v25_shoulderu4_way/default_ImageSizeX=800_WeatherId=01/data_00000.h5\n",
      "('/home/yang/data/aws_data/carla_collect/exptown_v25_shoulderu4_way/default_ImageSizeX=800_WeatherId=01/data_00000.h5', 22, -0.1728241, array([255,   0,   0], dtype=uint8))\n",
      "('/home/yang/data/aws_data/carla_collect/exptown_v25_shoulderu4_way/default_ImageSizeX=800_WeatherId=01/data_00000.h5', 23, -0.14388445, array([255,   0,   0], dtype=uint8))\n",
      "('/home/yang/data/aws_data/carla_collect/exptown_v25_shoulderu4_way/default_ImageSizeX=800_WeatherId=01/data_00000.h5', 68, 0.12108336, array([255,   0,   0], dtype=uint8))\n",
      "('/home/yang/data/aws_data/carla_collect/exptown_v25_shoulderu4_way/default_ImageSizeX=800_WeatherId=01/data_00000.h5', 69, 0.14921635, array([255,   0,   0], dtype=uint8))\n",
      "('/home/yang/data/aws_data/carla_collect/exptown_v25_shoulderu4_way/default_ImageSizeX=800_WeatherId=01/data_00000.h5', 70, 0.14036284, array([255,   0,   0], dtype=uint8))\n",
      "('/home/yang/data/aws_data/carla_collect/exptown_v25_shoulderu4_way/default_ImageSizeX=800_WeatherId=01/data_00000.h5', 192, 0.11796862, array([255,   0,   0], dtype=uint8))\n",
      "/home/yang/data/aws_data/carla_collect/exptown_v25_shoulderu4_way/default_ImageSizeX=800_WeatherId=01/data_00001.h5\n",
      "('/home/yang/data/aws_data/carla_collect/exptown_v25_shoulderu4_way/default_ImageSizeX=800_WeatherId=01/data_00001.h5', 11, 0.054718927, array([255,   0,   0], dtype=uint8))\n",
      "('/home/yang/data/aws_data/carla_collect/exptown_v25_shoulderu4_way/default_ImageSizeX=800_WeatherId=01/data_00001.h5', 193, 0.21214756, array([255,   0,   0], dtype=uint8))\n",
      "/home/yang/data/aws_data/carla_collect/exptown_v25_shoulderu4_way/default_ImageSizeX=800_WeatherId=01/data_00005.h5\n",
      "('/home/yang/data/aws_data/carla_collect/exptown_v25_shoulderu4_way/default_ImageSizeX=800_WeatherId=01/data_00005.h5', 29, 0.12052455, array([255,   0,   0], dtype=uint8))\n",
      "('/home/yang/data/aws_data/carla_collect/exptown_v25_shoulderu4_way/default_ImageSizeX=800_WeatherId=01/data_00005.h5', 138, -0.37438375, array([255,   0,   0], dtype=uint8))\n",
      "('/home/yang/data/aws_data/carla_collect/exptown_v25_shoulderu4_way/default_ImageSizeX=800_WeatherId=01/data_00005.h5', 139, -0.3080584, array([255,   0,   0], dtype=uint8))\n",
      "('/home/yang/data/aws_data/carla_collect/exptown_v25_shoulderu4_way/default_ImageSizeX=800_WeatherId=01/data_00005.h5', 140, 0.10937227, array([255,   0,   0], dtype=uint8))\n",
      "('/home/yang/data/aws_data/carla_collect/exptown_v25_shoulderu4_way/default_ImageSizeX=800_WeatherId=01/data_00005.h5', 141, 0.20927237, array([255,   0,   0], dtype=uint8))\n",
      "/home/yang/data/aws_data/carla_collect/exptown_v25_shoulderu4_way/default_ImageSizeX=800_WeatherId=01/data_00012.h5\n",
      "('/home/yang/data/aws_data/carla_collect/exptown_v25_shoulderu4_way/default_ImageSizeX=800_WeatherId=01/data_00012.h5', 49, -0.49434426, array([255,   0,   0], dtype=uint8))\n",
      "('/home/yang/data/aws_data/carla_collect/exptown_v25_shoulderu4_way/default_ImageSizeX=800_WeatherId=01/data_00012.h5', 50, -0.4183219, array([255,   0,   0], dtype=uint8))\n",
      "('/home/yang/data/aws_data/carla_collect/exptown_v25_shoulderu4_way/default_ImageSizeX=800_WeatherId=01/data_00012.h5', 51, 0.07714992, array([255,   0,   0], dtype=uint8))\n",
      "('/home/yang/data/aws_data/carla_collect/exptown_v25_shoulderu4_way/default_ImageSizeX=800_WeatherId=01/data_00012.h5', 52, 0.20054865, array([255,   0,   0], dtype=uint8))\n",
      "('/home/yang/data/aws_data/carla_collect/exptown_v25_shoulderu4_way/default_ImageSizeX=800_WeatherId=01/data_00012.h5', 53, 0.43730703, array([255,   0,   0], dtype=uint8))\n",
      "('/home/yang/data/aws_data/carla_collect/exptown_v25_shoulderu4_way/default_ImageSizeX=800_WeatherId=01/data_00012.h5', 95, -0.5217305, array([255,   0,   0], dtype=uint8))\n",
      "('/home/yang/data/aws_data/carla_collect/exptown_v25_shoulderu4_way/default_ImageSizeX=800_WeatherId=01/data_00012.h5', 96, -0.4640211, array([255,   0,   0], dtype=uint8))\n",
      "/home/yang/data/aws_data/carla_collect/exptown_v25_shoulderu4_way/default_ImageSizeX=800_WeatherId=01/data_00013.h5\n",
      "/home/yang/data/aws_data/carla_collect/exptown_v25_shoulderu4_way/default_ImageSizeX=800_WeatherId=01/data_00004.h5\n",
      "('/home/yang/data/aws_data/carla_collect/exptown_v25_shoulderu4_way/default_ImageSizeX=800_WeatherId=01/data_00004.h5', 6, 0.10306953, array([255,   0,   0], dtype=uint8))\n",
      "('/home/yang/data/aws_data/carla_collect/exptown_v25_shoulderu4_way/default_ImageSizeX=800_WeatherId=01/data_00004.h5', 135, 0.10319968, array([255,   0,   0], dtype=uint8))\n",
      "('/home/yang/data/aws_data/carla_collect/exptown_v25_shoulderu4_way/default_ImageSizeX=800_WeatherId=01/data_00004.h5', 136, 0.16492917, array([255,   0,   0], dtype=uint8))\n",
      "('/home/yang/data/aws_data/carla_collect/exptown_v25_shoulderu4_way/default_ImageSizeX=800_WeatherId=01/data_00004.h5', 173, 0.0541437, array([255,   0,   0], dtype=uint8))\n",
      "('/home/yang/data/aws_data/carla_collect/exptown_v25_shoulderu4_way/default_ImageSizeX=800_WeatherId=01/data_00004.h5', 174, 0.12647596, array([255,   0,   0], dtype=uint8))\n",
      "/home/yang/data/aws_data/carla_collect/exptown_v25_shoulderu4_way/default_ImageSizeX=800_WeatherId=01/data_00006.h5\n",
      "('/home/yang/data/aws_data/carla_collect/exptown_v25_shoulderu4_way/default_ImageSizeX=800_WeatherId=01/data_00006.h5', 94, 0.16299267, array([255,   0,   0], dtype=uint8))\n",
      "('/home/yang/data/aws_data/carla_collect/exptown_v25_shoulderu4_way/default_ImageSizeX=800_WeatherId=01/data_00006.h5', 129, 0.094984084, array([255,   0,   0], dtype=uint8))\n",
      "/home/yang/data/aws_data/carla_collect/exptown_v25_shoulderu4_way/default_ImageSizeX=800_WeatherId=01/data_00011.h5\n",
      "('/home/yang/data/aws_data/carla_collect/exptown_v25_shoulderu4_way/default_ImageSizeX=800_WeatherId=01/data_00011.h5', 111, 0.12110214, array([255,   0,   0], dtype=uint8))\n",
      "('/home/yang/data/aws_data/carla_collect/exptown_v25_shoulderu4_way/default_ImageSizeX=800_WeatherId=01/data_00011.h5', 112, 0.14927106, array([255,   0,   0], dtype=uint8))\n",
      "('/home/yang/data/aws_data/carla_collect/exptown_v25_shoulderu4_way/default_ImageSizeX=800_WeatherId=01/data_00011.h5', 113, 0.1403869, array([255,   0,   0], dtype=uint8))\n",
      "/home/yang/data/aws_data/carla_collect/exptown_v25_shoulderu4_way/default_ImageSizeX=800_WeatherId=01/data_00010.h5\n"
     ]
    }
   ],
   "source": [
    "import glob\n",
    "ans=[]\n",
    "#exptown_v19_weather_way\n",
    "#exptown_v25_shoulderu4_way\n",
    "for h5 in glob.glob(\"/home/yang/data/aws_data/carla_collect/exptown_v25_shoulderu4_way/*/data_*.h5\"):\n",
    "    print(h5)\n",
    "    if len(ans)>30:\n",
    "        break\n",
    "        \n",
    "    f=h5py.File(h5, 'r')\n",
    "    steers = f['targets'][:, 0]\n",
    "    pos = f['targets'][:,8:10]\n",
    "    ori = f['targets'][:, 21:24]\n",
    "    #mh = mapping_helper.mapping_helper(output_height_pix=50, version=\"v3\")\n",
    "\n",
    "    for i in range(200):\n",
    "        m = mh.get_map(\"11\", pos[i, :], ori[i, :])\n",
    "        db = m*255\n",
    "        color = db[db.shape[0]*3//4, db.shape[1]//2, :]\n",
    "        if color[0]==255 and color[1]==0 and color[2]==0:\n",
    "            print(h5, i, steers[i], color)\n",
    "            ans.append((h5, i, steers[i]))\n",
    "        elif color[0]==0 and color[1]==255 and color[2]==0:\n",
    "            print(\"error\")\n",
    "\n",
    "    f.close()"
   ]
  },
  {
   "cell_type": "code",
   "execution_count": 13,
   "metadata": {
    "scrolled": true
   },
   "outputs": [
    {
     "name": "stdout",
     "output_type": "stream",
     "text": [
      "33\n"
     ]
    }
   ],
   "source": [
    "print(len(ans))\n",
    "l=ans\n",
    "target=0"
   ]
  },
  {
   "cell_type": "code",
   "execution_count": 25,
   "metadata": {},
   "outputs": [
    {
     "name": "stdout",
     "output_type": "stream",
     "text": [
      "('/home/yang/data/aws_data/carla_collect/exptown_v25_shoulderu4_way/default_ImageSizeX=800_WeatherId=01/data_00005.h5', 29)\n",
      "12\n",
      "0.12052455\n",
      "('command is ', 2.0)\n"
     ]
    },
    {
     "data": {
      "image/png": "[encoded data removed]",
      "text/plain": [
       "<Figure size 432x288 with 1 Axes>"
      ]
     },
     "metadata": {
      "needs_background": "light"
     },
     "output_type": "display_data"
    },
    {
     "data": {
      "image/png": "[encoded data removed]",
      "text/plain": [
       "<Figure size 432x288 with 1 Axes>"
      ]
     },
     "metadata": {
      "needs_background": "light"
     },
     "output_type": "display_data"
    }
   ],
   "source": [
    "#mh = mapping_helper.mapping_helper(output_height_pix=50, version=\"v3\")\n",
    "count = 0\n",
    "target +=1\n",
    "for item in l:\n",
    "    h5, index, steer = item\n",
    "\n",
    "    if steer :\n",
    "        count += 1\n",
    "    if count == target:\n",
    "        print(h5, index)\n",
    "        print(target)\n",
    "        print(steer)\n",
    "        f=h5py.File(h5)\n",
    "        steers = f['targets'][:, 0]\n",
    "        pos = f['targets'][:,8:10]\n",
    "        ori = f['targets'][:, 21:24]\n",
    "        command = f['targets'][:, 24]\n",
    "        print(\"command is \", command[index])\n",
    "        \n",
    "        m = mh.get_map(\"11\", pos[index], ori[index])\n",
    "        db = mh.map_to_debug_image(m)\n",
    "        #print(db[db.shape[0]*3//4+1, db.shape[1]//2, :])\n",
    "        plt.imshow(db)\n",
    "        plt.show()\n",
    "\n",
    "        plt.figure()\n",
    "        cam=f['CameraMiddle'][index]\n",
    "        cam = cv2.imdecode(cam, 1)\n",
    "        plt.imshow(cam)\n",
    "        plt.show()\n",
    "        f.close()\n",
    "        break"
   ]
  },
  {
   "cell_type": "code",
   "execution_count": 3,
   "metadata": {},
   "outputs": [
    {
     "name": "stdout",
     "output_type": "stream",
     "text": [
      "('the version of mapping we are using is ', 'v2')\n"
     ]
    }
   ],
   "source": [
    "import sys\n",
    "sys.path.append(\"utils\")\n",
    "import mapping_helper\n",
    "import matplotlib.pyplot as plt\n",
    "\n",
    "mh = mapping_helper.mapping_helper(output_height_pix=50, version=\"v2\")"
   ]
  },
  {
   "cell_type": "code",
   "execution_count": null,
   "metadata": {},
   "outputs": [],
   "source": [
    "m = mh.get_map(\"01\", ['debug_direct_pixel', 981, 659], [0, -1.0])\n",
    "\n",
    "plt.imshow(m*255)\n",
    "plt.show()"
   ]
  }
 ],
 "metadata": {
  "anaconda-cloud": {},
  "kernelspec": {
   "display_name": "Python 2",
   "language": "python",
   "name": "python2"
  },
  "language_info": {
   "codemirror_mode": {
    "name": "ipython",
    "version": 2
   },
   "file_extension": ".py",
   "mimetype": "text/x-python",
   "name": "python",
   "nbconvert_exporter": "python",
   "pygments_lexer": "ipython2",
   "version": "2.7.16"
  }
 },
 "nbformat": 4,
 "nbformat_minor": 1
}
